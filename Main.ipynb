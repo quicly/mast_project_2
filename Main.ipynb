{
 "cells": [
  {
   "cell_type": "markdown",
   "metadata": {},
   "source": [
    "# <a id='toc1_'></a>[Прогнозирование повторных покупок клиентов интернет-магазина](#toc0_)"
   ]
  },
  {
   "cell_type": "markdown",
   "metadata": {},
   "source": [
    "**Table of contents**<a id='toc0_'></a>    \n",
    "- [Прогнозирование повторных покупок клиентов интернет-магазина](#toc1_)    \n",
    "  - [Импорт Библиотек](#toc1_1_)    \n",
    "  - [Импорт Датасетов](#toc1_2_)    \n",
    "  - [Изучение и подготовка массива apparel_purchases](#toc1_3_)    \n",
    "    - [Создание агрегированного набора](#toc1_3_1_)    \n",
    "    - [Преобразование category_ids](#toc1_3_2_)    \n",
    "  - [Кластеризация рассылок по массиву full_campaign_daily_event](#toc1_4_)    \n",
    "  - [Изучение и подготовка apparel_messages](#toc1_5_)    \n",
    "  - [Подготовка итогового датасета](#toc1_6_)    \n",
    "    - [Исследование взаимосвязей](#toc1_6_1_)    \n",
    "  - [Моделирование](#toc1_7_)    \n",
    "    - [Показатели модели на Train](#toc1_7_1_)    \n",
    "    - [Показатели модели на Validation](#toc1_7_2_)    \n",
    "    - [Показатели модели на Test](#toc1_7_3_)    \n",
    "\n",
    "<!-- vscode-jupyter-toc-config\n",
    "\tnumbering=false\n",
    "\tanchor=true\n",
    "\tflat=false\n",
    "\tminLevel=1\n",
    "\tmaxLevel=6\n",
    "\t/vscode-jupyter-toc-config -->\n",
    "<!-- THIS CELL WILL BE REPLACED ON TOC UPDATE. DO NOT WRITE YOUR TEXT IN THIS CELL -->"
   ]
  },
  {
   "cell_type": "markdown",
   "metadata": {},
   "source": []
  },
  {
   "cell_type": "markdown",
   "metadata": {},
   "source": [
    "## <a id='toc1_1_'></a>[Импорт Библиотек](#toc0_)"
   ]
  },
  {
   "cell_type": "code",
   "execution_count": 163,
   "metadata": {},
   "outputs": [],
   "source": [
    "from ast import literal_eval\n",
    "\n",
    "\n",
    "import numpy as np\n",
    "import pandas as pd\n",
    "import matplotlib.pyplot as plt\n",
    "import seaborn as sns\n",
    "\n",
    "\n",
    "from scipy import stats\n",
    "from scipy.stats import uniform, randint, loguniform\n",
    "\n",
    "\n",
    "from sklearn.cluster import KMeans\n",
    "from sklearn.compose import ColumnTransformer\n",
    "from sklearn.impute import SimpleImputer\n",
    "from sklearn.linear_model import (\n",
    "    LinearRegression,\n",
    "    LogisticRegression\n",
    ")\n",
    "from sklearn.model_selection import (\n",
    "    cross_val_score,\n",
    "    GridSearchCV,\n",
    "    RandomizedSearchCV,\n",
    "    train_test_split\n",
    ")\n",
    "from sklearn.pipeline import Pipeline\n",
    "from sklearn.preprocessing import (\n",
    "    OneHotEncoder,\n",
    "    StandardScaler\n",
    ")\n",
    "from sklearn.tree import DecisionTreeClassifier, DecisionTreeRegressor\n",
    "\n",
    "\n",
    "from catboost import CatBoostClassifier\n",
    "from lightgbm import LGBMClassifier\n",
    "\n",
    "\n",
    "import optuna\n",
    "\n",
    "\n",
    "from sklearn.metrics import (\n",
    "    confusion_matrix, \n",
    "    ConfusionMatrixDisplay,\n",
    "    classification_report,\n",
    "    roc_auc_score, \n",
    "    roc_curve\n",
    ")\n",
    "\n",
    "\n",
    "import phik\n",
    "from phik import report\n"
   ]
  },
  {
   "cell_type": "markdown",
   "metadata": {},
   "source": [
    "## <a id='toc1_2_'></a>[Импорт Датасетов](#toc0_)"
   ]
  },
  {
   "cell_type": "code",
   "execution_count": 164,
   "metadata": {},
   "outputs": [],
   "source": [
    "apparel_purchases = pd.read_csv(\"filtered_data/apparel-purchases.csv\")\n",
    "\n",
    "apparel_messages = pd.read_csv(\"filtered_data/apparel-messages.csv\")\n",
    "\n",
    "target = pd.read_csv(\"filtered_data/apparel-target_binary.csv\")\n",
    "\n",
    "full_campaign_daily_event = pd.read_csv(\"filtered_data/full_campaign_daily_event.csv\")\n",
    "\n",
    "full_campaign_daily_event_channel = pd.read_csv(\"filtered_data/full_campaign_daily_event_channel.csv\")"
   ]
  },
  {
   "cell_type": "markdown",
   "metadata": {},
   "source": [
    "## <a id='toc1_3_'></a>[Изучение и подготовка массива apparel_purchases](#toc0_)"
   ]
  },
  {
   "cell_type": "code",
   "execution_count": 165,
   "metadata": {},
   "outputs": [
    {
     "name": "stdout",
     "output_type": "stream",
     "text": [
      "<class 'pandas.core.frame.DataFrame'>\n",
      "RangeIndex: 202208 entries, 0 to 202207\n",
      "Data columns (total 6 columns):\n",
      " #   Column        Non-Null Count   Dtype  \n",
      "---  ------        --------------   -----  \n",
      " 0   client_id     202208 non-null  int64  \n",
      " 1   quantity      202208 non-null  int64  \n",
      " 2   price         202208 non-null  float64\n",
      " 3   category_ids  202208 non-null  object \n",
      " 4   date          202208 non-null  object \n",
      " 5   message_id    202208 non-null  object \n",
      "dtypes: float64(1), int64(2), object(3)\n",
      "memory usage: 9.3+ MB\n"
     ]
    }
   ],
   "source": [
    "apparel_purchases.info()"
   ]
  },
  {
   "cell_type": "markdown",
   "metadata": {},
   "source": [
    "Всего 6 столбцов. Из них 2 - это идентификаторы. "
   ]
  },
  {
   "cell_type": "code",
   "execution_count": 166,
   "metadata": {},
   "outputs": [
    {
     "data": {
      "text/plain": [
       "49849"
      ]
     },
     "execution_count": 166,
     "metadata": {},
     "output_type": "execute_result"
    }
   ],
   "source": [
    "apparel_purchases[\"client_id\"].nunique()"
   ]
  },
  {
   "cell_type": "code",
   "execution_count": 167,
   "metadata": {},
   "outputs": [
    {
     "data": {
      "text/plain": [
       "49849"
      ]
     },
     "execution_count": 167,
     "metadata": {},
     "output_type": "execute_result"
    }
   ],
   "source": [
    "len(target)"
   ]
  },
  {
   "cell_type": "markdown",
   "metadata": {},
   "source": [
    "Всего 49849 Уникальных id. Это совпадает с количеством строк в таргете"
   ]
  },
  {
   "cell_type": "code",
   "execution_count": 168,
   "metadata": {},
   "outputs": [
    {
     "data": {
      "text/plain": [
       "73020"
      ]
     },
     "execution_count": 168,
     "metadata": {},
     "output_type": "execute_result"
    }
   ],
   "source": [
    "apparel_purchases.duplicated().sum()"
   ]
  },
  {
   "cell_type": "markdown",
   "metadata": {},
   "source": [
    "Есть 73020 дубликатов. Однако мы не можем быть уверены: это настоящие дубликаты или повторяющиеся покупки одного товара\n"
   ]
  },
  {
   "cell_type": "code",
   "execution_count": 169,
   "metadata": {},
   "outputs": [
    {
     "data": {
      "text/plain": [
       "quantity\n",
       "1     201323\n",
       "2        751\n",
       "3         94\n",
       "4         12\n",
       "6          5\n",
       "10         4\n",
       "20         3\n",
       "15         3\n",
       "5          3\n",
       "25         2\n",
       "30         2\n",
       "9          2\n",
       "13         1\n",
       "18         1\n",
       "8          1\n",
       "7          1\n",
       "Name: count, dtype: int64"
      ]
     },
     "execution_count": 169,
     "metadata": {},
     "output_type": "execute_result"
    }
   ],
   "source": [
    "apparel_purchases[\"quantity\"].value_counts()\n"
   ]
  },
  {
   "cell_type": "markdown",
   "metadata": {},
   "source": [
    "Видим, что абсолютно большинство записей указывают на покупку одной единицы товара. \n",
    "\n",
    "Будем исходить из того, что единовременная покупка более одной единицы попадает в базу отдельными рядами. К сожалению, остается непроясненным остается, в каких условиях все же будет логироваться более одной единицы\n",
    "\n",
    "Дубликаты сохраняем в датасете"
   ]
  },
  {
   "cell_type": "code",
   "execution_count": 170,
   "metadata": {},
   "outputs": [
    {
     "data": {
      "text/plain": [
       "client_id       0\n",
       "quantity        0\n",
       "price           0\n",
       "category_ids    0\n",
       "date            0\n",
       "message_id      0\n",
       "dtype: int64"
      ]
     },
     "execution_count": 170,
     "metadata": {},
     "output_type": "execute_result"
    }
   ],
   "source": [
    "apparel_purchases.isna().sum()"
   ]
  },
  {
   "cell_type": "markdown",
   "metadata": {},
   "source": [
    "Пропущенных значений нет"
   ]
  },
  {
   "cell_type": "code",
   "execution_count": 171,
   "metadata": {},
   "outputs": [
    {
     "data": {
      "text/plain": [
       "count    202208.000000\n",
       "mean       1193.301516\n",
       "std        1342.252664\n",
       "min           1.000000\n",
       "25%         352.000000\n",
       "50%         987.000000\n",
       "75%        1699.000000\n",
       "max       85499.000000\n",
       "Name: price, dtype: float64"
      ]
     },
     "execution_count": 171,
     "metadata": {},
     "output_type": "execute_result"
    }
   ],
   "source": [
    "apparel_purchases[\"price\"].describe()\n"
   ]
  },
  {
   "cell_type": "code",
   "execution_count": 172,
   "metadata": {},
   "outputs": [
    {
     "data": {
      "image/png": "[encoded data removed]",
      "text/plain": [
       "<Figure size 640x480 with 1 Axes>"
      ]
     },
     "metadata": {},
     "output_type": "display_data"
    }
   ],
   "source": [
    "sns.histplot(data = apparel_purchases, x = \"price\")\n",
    "plt.title(\"Распределение цены товаров\")\n",
    "plt.show()"
   ]
  },
  {
   "cell_type": "markdown",
   "metadata": {},
   "source": [
    "Болшая часть наблюдений находится в промежутке между 352 и 1699. \n",
    "Однако распределение очень сильно скошено вправо, из-за редких покупок чья цена заметно выше, чем цена остальных товаров"
   ]
  },
  {
   "cell_type": "code",
   "execution_count": 173,
   "metadata": {},
   "outputs": [
    {
     "data": {
      "text/plain": [
       "50204"
      ]
     },
     "execution_count": 173,
     "metadata": {},
     "output_type": "execute_result"
    }
   ],
   "source": [
    "apparel_purchases[\"message_id\"].nunique()\n"
   ]
  },
  {
   "cell_type": "markdown",
   "metadata": {},
   "source": [
    "50204 уникальных значений. \n",
    "Каждый пользователь мог получать более одной рассылки"
   ]
  },
  {
   "cell_type": "markdown",
   "metadata": {},
   "source": [
    "### <a id='toc1_3_1_'></a>[Создание агрегированного набора](#toc0_)"
   ]
  },
  {
   "cell_type": "code",
   "execution_count": 174,
   "metadata": {},
   "outputs": [],
   "source": [
    "result = apparel_purchases.groupby(\"client_id\").agg(\n",
    "    total_quantity = ('quantity', 'sum'),\n",
    "    mean_price=('price', 'mean'),\n",
    "    total_spent=('price', 'sum'),\n",
    "    unique_dates=('date', 'nunique'),\n",
    "    latest_date=('date', 'max'),\n",
    "    first_date = ('date', 'min'))\n",
    "\n",
    "\n",
    "\n",
    "apparel_purchases_agg = pd.DataFrame(result)"
   ]
  },
  {
   "cell_type": "code",
   "execution_count": 175,
   "metadata": {},
   "outputs": [
    {
     "name": "stdout",
     "output_type": "stream",
     "text": [
      "<class 'pandas.core.frame.DataFrame'>\n",
      "Index: 49849 entries, 1515915625468060902 to 1515915626010443624\n",
      "Data columns (total 6 columns):\n",
      " #   Column          Non-Null Count  Dtype  \n",
      "---  ------          --------------  -----  \n",
      " 0   total_quantity  49849 non-null  int64  \n",
      " 1   mean_price      49849 non-null  float64\n",
      " 2   total_spent     49849 non-null  float64\n",
      " 3   unique_dates    49849 non-null  int64  \n",
      " 4   latest_date     49849 non-null  object \n",
      " 5   first_date      49849 non-null  object \n",
      "dtypes: float64(2), int64(2), object(2)\n",
      "memory usage: 2.7+ MB\n"
     ]
    }
   ],
   "source": [
    "apparel_purchases_agg.info()"
   ]
  },
  {
   "cell_type": "markdown",
   "metadata": {},
   "source": [
    "Создаем следующие аггрегированные переменные\n",
    "\n",
    "`total_quantity` - сколько всего единиц товара купил клиент\n",
    "\n",
    "`mean_price` - средняя цена одной покупки\n",
    "\n",
    "`total_spent` - сумма всех потраченных средств\n",
    "\n",
    "`unique_dates` - количество уникальных дней, в которые были совершены покупки\n",
    "\n",
    "`latest_date` - самая поздняя дата покупки\n",
    "\n",
    "`first_date` - самая ранняя дата покупки"
   ]
  },
  {
   "cell_type": "code",
   "execution_count": 176,
   "metadata": {},
   "outputs": [],
   "source": [
    "date_columns = ['latest_date', 'first_date']\n",
    "apparel_purchases_agg[date_columns] = apparel_purchases_agg[date_columns].apply(pd.to_datetime)\n",
    "\n",
    "\n",
    "overall_latest_date = pd.to_datetime(apparel_purchases['date']).max() # вычисляем самую позднюю дату в датасете\n",
    "overall_first_date = pd.to_datetime(apparel_purchases['date']).min()  # вычисляем самую ранню дату в датасете\n",
    "\n",
    "\n",
    "apparel_purchases_agg = apparel_purchases_agg.assign(\n",
    "    days_since_last_purchase=(overall_latest_date - apparel_purchases_agg['latest_date']).dt.days,\n",
    "    customer_lifetime=(apparel_purchases_agg['latest_date'] - apparel_purchases_agg['first_date']).dt.days\n",
    ")"
   ]
  },
  {
   "cell_type": "markdown",
   "metadata": {},
   "source": [
    "Создаем два признака. \n",
    "\n",
    "`days_since_last_purchase` - Сколько дней прошло с последней покупки и \n",
    "\n",
    "`customer_lifetime` - сколько дней прошло между первой и последней покупкой.\n",
    "\n",
    "Были попытки еще создать другие признаки, но они не внесли вклада в модель."
   ]
  },
  {
   "cell_type": "markdown",
   "metadata": {},
   "source": [
    "### <a id='toc1_3_2_'></a>[Преобразование category_ids](#toc0_)"
   ]
  },
  {
   "cell_type": "code",
   "execution_count": 177,
   "metadata": {},
   "outputs": [],
   "source": [
    "grouped_data = apparel_purchases.groupby('client_id')"
   ]
  },
  {
   "cell_type": "code",
   "execution_count": 178,
   "metadata": {},
   "outputs": [],
   "source": [
    "# Создаем пустой список, который будет хранить агрегированные категории для каждого client_id\n",
    "aggregated_categories = []\n",
    "\n",
    "\n",
    "\n",
    "for client_id, group in grouped_data:\n",
    "    all_items = [] # Создаем пустой список для хранения всех категорий текущего клиента\n",
    "    for sublist in group['category_ids']: # Проходим по каждому значению в колонке 'category_ids' для текущего клиента\n",
    "        if sublist is not None:  # Проверяем на None\n",
    "            sublist = eval(sublist) # Преобразуем строку в Python-объект\n",
    "            all_items.extend([x for x in sublist if x is not None])  # Добавляем все элементы из подсписка в общий список, игнорируя None\n",
    "    aggregated_categories.append(sorted(list(set(all_items)))) #убираем дубликаты, через преобразование в множество, конвертируем обратном в список и сортируем"
   ]
  },
  {
   "cell_type": "code",
   "execution_count": 179,
   "metadata": {},
   "outputs": [],
   "source": [
    "# Промежуточный датафрейм, где у каждого клиента список категорий товаров, в которых он покупал\n",
    "result_df = pd.DataFrame({\n",
    "    'client_id': grouped_data.groups.keys(),\n",
    "    'category_ids': aggregated_categories\n",
    "})"
   ]
  },
  {
   "cell_type": "code",
   "execution_count": 180,
   "metadata": {},
   "outputs": [],
   "source": [
    "# Преобразуем списки в набор бинарных переменных\n",
    "one_hot = pd.get_dummies(result_df['category_ids'].explode(), prefix='category')\n"
   ]
  },
  {
   "cell_type": "code",
   "execution_count": 181,
   "metadata": {},
   "outputs": [],
   "source": [
    "# Агреггируем, так чтобы для каждого клиента осталась одна строка\n",
    "one_hot = one_hot.groupby(level=0).max()"
   ]
  },
  {
   "cell_type": "code",
   "execution_count": 182,
   "metadata": {},
   "outputs": [],
   "source": [
    "# Возвращаем столбец client_id\n",
    "\n",
    "result_one_hot = pd.concat([result_df[['client_id']], one_hot], axis=1)\n"
   ]
  },
  {
   "cell_type": "code",
   "execution_count": 183,
   "metadata": {},
   "outputs": [],
   "source": [
    "# Преобразуем в числовой формат из bool \n",
    "\n",
    "numeric_columns = [col for col in result_one_hot.columns if col != 'client_id']\n",
    "result_one_hot = result_one_hot.astype({col: 'int8' for col in numeric_columns})"
   ]
  },
  {
   "cell_type": "code",
   "execution_count": 184,
   "metadata": {},
   "outputs": [],
   "source": [
    "# Отбираем столбцы, частота которых в данных больше 2%\n",
    "category_columns = result_one_hot.filter(like='category_').columns\n",
    "column_percentages = result_one_hot[category_columns].mean()\n",
    "columns_to_keep = column_percentages[column_percentages > 0.02].index\n",
    "category_df = result_one_hot[['client_id'] + list(columns_to_keep)]"
   ]
  },
  {
   "cell_type": "code",
   "execution_count": 185,
   "metadata": {},
   "outputs": [],
   "source": [
    "# Присоединяем бинарные значения покупки товаров к агрегированному датасету\n",
    "apparel_purchases_agg = apparel_purchases_agg.merge(category_df, on=\"client_id\", how = \"left\")\n"
   ]
  },
  {
   "cell_type": "code",
   "execution_count": 186,
   "metadata": {},
   "outputs": [
    {
     "name": "stdout",
     "output_type": "stream",
     "text": [
      "<class 'pandas.core.frame.DataFrame'>\n",
      "RangeIndex: 49849 entries, 0 to 49848\n",
      "Data columns (total 61 columns):\n",
      " #   Column                    Non-Null Count  Dtype         \n",
      "---  ------                    --------------  -----         \n",
      " 0   client_id                 49849 non-null  int64         \n",
      " 1   total_quantity            49849 non-null  int64         \n",
      " 2   mean_price                49849 non-null  float64       \n",
      " 3   total_spent               49849 non-null  float64       \n",
      " 4   unique_dates              49849 non-null  int64         \n",
      " 5   latest_date               49849 non-null  datetime64[ns]\n",
      " 6   first_date                49849 non-null  datetime64[ns]\n",
      " 7   days_since_last_purchase  49849 non-null  int64         \n",
      " 8   customer_lifetime         49849 non-null  int64         \n",
      " 9   category_124              49849 non-null  int8          \n",
      " 10  category_146              49849 non-null  int8          \n",
      " 11  category_17               49849 non-null  int8          \n",
      " 12  category_18               49849 non-null  int8          \n",
      " 13  category_2                49849 non-null  int8          \n",
      " 14  category_212              49849 non-null  int8          \n",
      " 15  category_213              49849 non-null  int8          \n",
      " 16  category_218              49849 non-null  int8          \n",
      " 17  category_244              49849 non-null  int8          \n",
      " 18  category_249              49849 non-null  int8          \n",
      " 19  category_258              49849 non-null  int8          \n",
      " 20  category_260              49849 non-null  int8          \n",
      " 21  category_27               49849 non-null  int8          \n",
      " 22  category_275              49849 non-null  int8          \n",
      " 23  category_28               49849 non-null  int8          \n",
      " 24  category_29               49849 non-null  int8          \n",
      " 25  category_290              49849 non-null  int8          \n",
      " 26  category_31               49849 non-null  int8          \n",
      " 27  category_324              49849 non-null  int8          \n",
      " 28  category_326              49849 non-null  int8          \n",
      " 29  category_343              49849 non-null  int8          \n",
      " 30  category_344              49849 non-null  int8          \n",
      " 31  category_4                49849 non-null  int8          \n",
      " 32  category_415              49849 non-null  int8          \n",
      " 33  category_420              49849 non-null  int8          \n",
      " 34  category_421              49849 non-null  int8          \n",
      " 35  category_422              49849 non-null  int8          \n",
      " 36  category_425              49849 non-null  int8          \n",
      " 37  category_431              49849 non-null  int8          \n",
      " 38  category_432              49849 non-null  int8          \n",
      " 39  category_436              49849 non-null  int8          \n",
      " 40  category_441              49849 non-null  int8          \n",
      " 41  category_445              49849 non-null  int8          \n",
      " 42  category_49               49849 non-null  int8          \n",
      " 43  category_505              49849 non-null  int8          \n",
      " 44  category_548              49849 non-null  int8          \n",
      " 45  category_5536             49849 non-null  int8          \n",
      " 46  category_5562             49849 non-null  int8          \n",
      " 47  category_5589             49849 non-null  int8          \n",
      " 48  category_5630             49849 non-null  int8          \n",
      " 49  category_5631             49849 non-null  int8          \n",
      " 50  category_5633             49849 non-null  int8          \n",
      " 51  category_5634             49849 non-null  int8          \n",
      " 52  category_57               49849 non-null  int8          \n",
      " 53  category_58               49849 non-null  int8          \n",
      " 54  category_6058             49849 non-null  int8          \n",
      " 55  category_6060             49849 non-null  int8          \n",
      " 56  category_61               49849 non-null  int8          \n",
      " 57  category_62               49849 non-null  int8          \n",
      " 58  category_656              49849 non-null  int8          \n",
      " 59  category_657              49849 non-null  int8          \n",
      " 60  category_673              49849 non-null  int8          \n",
      "dtypes: datetime64[ns](2), float64(2), int64(5), int8(52)\n",
      "memory usage: 5.9 MB\n"
     ]
    }
   ],
   "source": [
    "apparel_purchases_agg.info()\n"
   ]
  },
  {
   "cell_type": "markdown",
   "metadata": {},
   "source": [
    "Подгтовлен датасет, в которым мы агрегировали информацию о покупках пользователей."
   ]
  },
  {
   "cell_type": "markdown",
   "metadata": {},
   "source": [
    "## <a id='toc1_4_'></a>[Кластеризация рассылок по массиву full_campaign_daily_event](#toc0_)"
   ]
  },
  {
   "cell_type": "markdown",
   "metadata": {},
   "source": [
    "Идея последующего анализа в том, что полученные пользователем рассылки могли повлиять на его решение о покупке, даже если они не привели к зафиксированному действию исходя из рассылки. Например, пользователь мог открыть рассылку, но не пройти по ссылке в ней, а отдельно зайти на сайт и купить товар\n",
    "\n",
    "Либо наоборот, он получил рассылку, которая вызвала негативное отношение, не не отписался от рассылки. Тем не менее, это могло повлиять на его решение покупать товар.\n",
    "\n",
    "Поскольку индивидуальных рассылок слишком много, мы попробовали кластеризовать их"
   ]
  },
  {
   "cell_type": "code",
   "execution_count": 187,
   "metadata": {},
   "outputs": [],
   "source": [
    "# Агрегируем количество зафиксированных действия пользователей по каждой рассылки\n",
    "\n",
    "\n",
    "full_campaign_agg = full_campaign_daily_event.groupby(\"bulk_campaign_id\").agg(\n",
    "    campaign_duration = ('date', 'nunique'),\n",
    "    campaign_send = (\"count_send\", \"sum\"),\n",
    "    campaign_clicks = (\"count_click\", \"sum\"),\n",
    "    campaign_complain = (\"count_complain\", \"sum\"),\n",
    "    campaign_hard_bounce = (\"count_hard_bounce\", \"sum\"),\n",
    "    campaign_open = (\"count_open\", \"sum\"),\n",
    "    campaign_purchase = (\"count_purchase\", \"sum\"),\n",
    "    campaign_soft_bounce = (\"count_soft_bounce\", \"sum\"),\n",
    "    campaign_subscribe = (\"count_subscribe\", \"sum\"),\n",
    "    campaign_unsubscribe = (\"count_unsubscribe\", \"sum\")\n",
    ")\n",
    "\n",
    "\n",
    "# Нормируем количество действий на длительность кампании в днях\n",
    "columns_to_normalize = [\"campaign_clicks\", \"campaign_complain\", \n",
    "                       \"campaign_open\", \"campaign_purchase\",  \n",
    "                        \"campaign_unsubscribe\"]\n",
    "norming_column = \"campaign_duration\"\n",
    "\n",
    "for column in columns_to_normalize:\n",
    "    full_campaign_agg[column] = full_campaign_agg[column] / full_campaign_agg[norming_column]\n",
    "\n",
    "full_campaign_agg = full_campaign_agg.reset_index()"
   ]
  },
  {
   "cell_type": "code",
   "execution_count": 188,
   "metadata": {},
   "outputs": [],
   "source": [
    "\n",
    "scaler = StandardScaler()\n",
    "\n",
    "# Отбираем признаки для кластеризации\n",
    "clustering_features = [\"campaign_clicks\", \"campaign_complain\", \n",
    "                       \"campaign_open\", \"campaign_purchase\",  \n",
    "                        \"campaign_unsubscribe\"]\n",
    "full_campaign_agg_cluster_data = full_campaign_agg[clustering_features]\n",
    "\n",
    "# Масштабируем признаки\n",
    "scaled_data = scaler.fit_transform(full_campaign_agg_cluster_data)\n",
    "\n",
    "# Фиксируем количество кластеров\n",
    "N_CLUST = 10\n",
    "\n",
    "# Выполняем кластеризацию\n",
    "kmeans = KMeans(n_clusters=N_CLUST, random_state=42)\n",
    "kmeans.fit(scaled_data)\n",
    "\n",
    "# Добавляем метки кластеров\n",
    "full_campaign_agg['cluster'] = kmeans.labels_\n",
    "\n",
    "# Создаем бинарную переменную о принадлежности к кластеру\n",
    "for i in range(N_CLUST):\n",
    "   full_campaign_agg[f'cluster_{i+1}'] = (full_campaign_agg['cluster'] == i).astype(int)\n",
    "\n"
   ]
  },
  {
   "cell_type": "code",
   "execution_count": 189,
   "metadata": {},
   "outputs": [
    {
     "data": {
      "text/plain": [
       "cluster\n",
       "1    2683\n",
       "0     214\n",
       "8      89\n",
       "6      85\n",
       "9      32\n",
       "5      29\n",
       "3      28\n",
       "4      16\n",
       "7       4\n",
       "2       1\n",
       "Name: count, dtype: int64"
      ]
     },
     "execution_count": 189,
     "metadata": {},
     "output_type": "execute_result"
    }
   ],
   "source": [
    "full_campaign_agg['cluster'].value_counts()"
   ]
  },
  {
   "cell_type": "markdown",
   "metadata": {},
   "source": [
    "Кластеризация вышла скорее неудачная. Большая часть рассылок ушли в один единственный кластер. \n",
    "В распределении признаков есть какое количество аутлайеров, которые \"разбрелились\" по оставшимся кластерам\n",
    "Однако в дальнейшем при построении модели, принадлежность к кластерам оказалась полезной, поэтому было принято решение оставить их в модели"
   ]
  },
  {
   "cell_type": "markdown",
   "metadata": {},
   "source": [
    "## <a id='toc1_5_'></a>[Изучение и подготовка apparel_messages](#toc0_)"
   ]
  },
  {
   "cell_type": "code",
   "execution_count": 190,
   "metadata": {},
   "outputs": [
    {
     "name": "stdout",
     "output_type": "stream",
     "text": [
      "<class 'pandas.core.frame.DataFrame'>\n",
      "RangeIndex: 12739798 entries, 0 to 12739797\n",
      "Data columns (total 7 columns):\n",
      " #   Column            Dtype \n",
      "---  ------            ----- \n",
      " 0   bulk_campaign_id  int64 \n",
      " 1   client_id         int64 \n",
      " 2   message_id        object\n",
      " 3   event             object\n",
      " 4   channel           object\n",
      " 5   date              object\n",
      " 6   created_at        object\n",
      "dtypes: int64(2), object(5)\n",
      "memory usage: 680.4+ MB\n"
     ]
    }
   ],
   "source": [
    "apparel_messages.info()"
   ]
  },
  {
   "cell_type": "code",
   "execution_count": 191,
   "metadata": {},
   "outputs": [
    {
     "data": {
      "text/plain": [
       "2709"
      ]
     },
     "execution_count": 191,
     "metadata": {},
     "output_type": "execute_result"
    }
   ],
   "source": [
    "apparel_messages[\"bulk_campaign_id\"].nunique()"
   ]
  },
  {
   "cell_type": "markdown",
   "metadata": {},
   "source": [
    "Всего было 2709 уникальных рассылки. Вероятность возвращения клиента может зависеть от \"качества\" рассылки, поэтому мы попытались учесть этот параметр за счет кластеризации, выполненной выше "
   ]
  },
  {
   "cell_type": "code",
   "execution_count": 192,
   "metadata": {},
   "outputs": [
    {
     "data": {
      "text/plain": [
       "53329"
      ]
     },
     "execution_count": 192,
     "metadata": {},
     "output_type": "execute_result"
    }
   ],
   "source": [
    "apparel_messages[\"client_id\"].nunique()"
   ]
  },
  {
   "cell_type": "markdown",
   "metadata": {},
   "source": [
    "В этом датасете больше клиентов, чем в датасете с покупками"
   ]
  },
  {
   "cell_type": "code",
   "execution_count": null,
   "metadata": {},
   "outputs": [],
   "source": [
    "# Преобразуем столбцы client_id в множества\n",
    "messages_clients = set(apparel_messages['client_id'])\n",
    "purchases_clients = set(apparel_purchases['client_id'])\n",
    "\n",
    "# Находим общие значения (пересечение множеств)\n",
    "common_clients = messages_clients.intersection(purchases_clients)\n",
    "\n",
    "# Находим уникальные значения для каждого датасета\n",
    "only_messages = messages_clients - purchases_clients\n",
    "only_purchases = purchases_clients - messages_clients\n",
    "\n",
    "# Выводим результаты\n",
    "print(f\"Общих client_id: {len(common_clients)}\")\n",
    "print(f\"Уникальных client_id только в messages: {len(only_messages)}\")\n",
    "print(f\"Уникальных client_id только в purchases: {len(only_purchases)}\")"
   ]
  },
  {
   "cell_type": "markdown",
   "metadata": {},
   "source": [
    "Количество уникальных клиентов отличается от датасета с покупками и таргетом. \n",
    "Таких пользователей мы уберем при слиянии датасетов. \n",
    "Помимо этого есть пользователи, которые могли делать покупки, но у нас нет данных о получаемых ими рассылках. Таких пользователей мы в анализе сохраним и присвоим ими нули в признаках, связанных с рассылками"
   ]
  },
  {
   "cell_type": "code",
   "execution_count": 193,
   "metadata": {},
   "outputs": [
    {
     "data": {
      "text/plain": [
       "event\n",
       "send           9058196\n",
       "open           3085820\n",
       "click           496339\n",
       "purchase         64679\n",
       "hard_bounce      19903\n",
       "soft_bounce      10583\n",
       "unsubscribe       2841\n",
       "hbq_spam           823\n",
       "complain           528\n",
       "subscribe           85\n",
       "close                1\n",
       "Name: count, dtype: int64"
      ]
     },
     "execution_count": 193,
     "metadata": {},
     "output_type": "execute_result"
    }
   ],
   "source": [
    "apparel_messages[\"event\"].value_counts()"
   ]
  },
  {
   "cell_type": "markdown",
   "metadata": {},
   "source": [
    "Видим, что по обобщенным данным логичная воронка. \n",
    "\n",
    "Количество значений снижается от общего события (отправка писем) к последующим частным событиям (открытое письмо, клик на письмо и покупка). \n",
    "\n",
    "Также часто встречаются ошибки отправки. В данном случае нужно понять, может ли пользователь вообще \"вернуться\" и войти на сайт, если его почта не работает\n",
    "\n",
    "Наиболее редки негативные события - отписка от рассылка, перемещение в спам. Однако они, вероятно, будут хорошо предсказывать отказ клиента от дальнейших покупок"
   ]
  },
  {
   "cell_type": "code",
   "execution_count": 194,
   "metadata": {},
   "outputs": [
    {
     "data": {
      "text/plain": [
       "channel\n",
       "mobile_push    7512156\n",
       "email          5227642\n",
       "Name: count, dtype: int64"
      ]
     },
     "execution_count": 194,
     "metadata": {},
     "output_type": "execute_result"
    }
   ],
   "source": [
    "apparel_messages[\"channel\"].value_counts()"
   ]
  },
  {
   "cell_type": "markdown",
   "metadata": {},
   "source": [
    "Используются два канала - mobile_push и email. \n",
    "\n",
    "mobile_push чаще\n"
   ]
  },
  {
   "cell_type": "code",
   "execution_count": 195,
   "metadata": {},
   "outputs": [
    {
     "data": {
      "text/plain": [
       "channel      event      \n",
       "email        send           75.32\n",
       "             open           16.73\n",
       "             click           6.81\n",
       "             purchase        0.87\n",
       "             soft_bounce     0.18\n",
       "             unsubscribe     0.05\n",
       "             hbq_spam        0.02\n",
       "             complain        0.01\n",
       "             hard_bounce     0.01\n",
       "             subscribe       0.00\n",
       "mobile_push  send           68.17\n",
       "             open           29.43\n",
       "             click           1.86\n",
       "             hard_bounce     0.26\n",
       "             purchase        0.26\n",
       "             soft_bounce     0.01\n",
       "             close           0.00\n",
       "Name: proportion, dtype: float64"
      ]
     },
     "execution_count": 195,
     "metadata": {},
     "output_type": "execute_result"
    }
   ],
   "source": [
    "(apparel_messages.groupby(\"channel\")[\"event\"].value_counts(normalize=True) * 100).round(2)\n"
   ]
  },
  {
   "cell_type": "markdown",
   "metadata": {},
   "source": [
    "Открывают чаще мобильные пуши, но до покупок чаще доходят именно почтовые рассылки"
   ]
  },
  {
   "cell_type": "code",
   "execution_count": 196,
   "metadata": {},
   "outputs": [
    {
     "data": {
      "text/plain": [
       "0    2022-05-19\n",
       "1    2022-05-19\n",
       "2    2022-05-19\n",
       "3    2022-05-19\n",
       "4    2022-05-19\n",
       "Name: date, dtype: object"
      ]
     },
     "execution_count": 196,
     "metadata": {},
     "output_type": "execute_result"
    }
   ],
   "source": [
    "apparel_messages[\"date\"].head()"
   ]
  },
  {
   "cell_type": "code",
   "execution_count": 197,
   "metadata": {},
   "outputs": [
    {
     "data": {
      "text/plain": [
       "0    2022-05-19 00:14:20\n",
       "1    2022-05-19 00:39:34\n",
       "2    2022-05-19 00:51:49\n",
       "3    2022-05-19 00:52:20\n",
       "4    2022-05-19 00:56:52\n",
       "Name: created_at, dtype: object"
      ]
     },
     "execution_count": 197,
     "metadata": {},
     "output_type": "execute_result"
    }
   ],
   "source": [
    "apparel_messages[\"created_at\"].head()"
   ]
  },
  {
   "cell_type": "markdown",
   "metadata": {},
   "source": [
    "Для рассылок есть полное время. Это позволит выявить \"полные дубликаты\""
   ]
  },
  {
   "cell_type": "code",
   "execution_count": 198,
   "metadata": {},
   "outputs": [
    {
     "data": {
      "text/plain": [
       "48610"
      ]
     },
     "execution_count": 198,
     "metadata": {},
     "output_type": "execute_result"
    }
   ],
   "source": [
    "apparel_messages.duplicated().sum()"
   ]
  },
  {
   "cell_type": "markdown",
   "metadata": {},
   "source": [
    "Есть 48610 полных дубликатов. Удаляем их.\n",
    "В реальности нужно было бы уточнить их природу - это ошибка логов, или ошибка рассылки (пользователь действительно получал дважды одинаковое сообщение?)"
   ]
  },
  {
   "cell_type": "code",
   "execution_count": 199,
   "metadata": {},
   "outputs": [],
   "source": [
    "apparel_messages = apparel_messages.drop_duplicates(keep='first')\n"
   ]
  },
  {
   "cell_type": "code",
   "execution_count": 200,
   "metadata": {},
   "outputs": [],
   "source": [
    "# Добавляем информацию о кластере каждой рассылки\n",
    "apparel_messages = apparel_messages.merge(full_campaign_agg, on = \"bulk_campaign_id\", how = \"left\" )"
   ]
  },
  {
   "cell_type": "code",
   "execution_count": 201,
   "metadata": {},
   "outputs": [],
   "source": [
    "# Создаем агрегированный датафрейм\n",
    "apparel_messages_agg = apparel_messages.groupby(\"client_id\").agg(\n",
    "    click_count=('event', lambda x: (x == 'click').sum()),\n",
    "    purchase_count=('event', lambda x: (x == 'purchase').sum()),\n",
    "    send_count=('event', lambda x: (x == 'send').sum()),\n",
    "    open_count=('event', lambda x: (x == 'open').sum()),\n",
    "    hard_bounce_count=('event', lambda x: (x == 'hard_bounce').sum()),\n",
    "    unsubscribe_count=('event', lambda x: (x == 'unsubscribe').sum()),\n",
    "    complain_count=('event', lambda x: (x == 'complain').sum()),\n",
    "    subscribe_count=('event', lambda x: (x == 'subscribe').sum()),\n",
    "    email_count=('channel', lambda x: (x == 'email').sum()),\n",
    "    mobile_push_count=('channel', lambda x: (x == 'mobile_push').sum()),\n",
    "    in_cluster_1=('cluster_1', 'max'),\n",
    "    in_cluster_2=('cluster_2', 'max'),\n",
    "    in_cluster_3=('cluster_3', 'max'),\n",
    "    in_cluster_4=('cluster_4', 'max'),\n",
    "    in_cluster_5=('cluster_5', 'max'),\n",
    "    in_cluster_6=('cluster_6', 'max'),\n",
    "    in_cluster_7=('cluster_7', 'max'),\n",
    "    in_cluster_8=('cluster_8', 'max'),\n",
    "    in_cluster_9=('cluster_9', 'max'),\n",
    "    in_cluster_10=('cluster_10', 'max')\n",
    ")\n",
    "\n",
    "\n",
    "apparel_messages_agg = pd.DataFrame(apparel_messages_agg)"
   ]
  },
  {
   "cell_type": "code",
   "execution_count": 203,
   "metadata": {},
   "outputs": [
    {
     "name": "stdout",
     "output_type": "stream",
     "text": [
      "<class 'pandas.core.frame.DataFrame'>\n",
      "Index: 53329 entries, 1515915625468060902 to 1515915626010288690\n",
      "Data columns (total 20 columns):\n",
      " #   Column             Non-Null Count  Dtype\n",
      "---  ------             --------------  -----\n",
      " 0   click_count        53329 non-null  int64\n",
      " 1   purchase_count     53329 non-null  int64\n",
      " 2   send_count         53329 non-null  int64\n",
      " 3   open_count         53329 non-null  int64\n",
      " 4   hard_bounce_count  53329 non-null  int64\n",
      " 5   unsubscribe_count  53329 non-null  int64\n",
      " 6   complain_count     53329 non-null  int64\n",
      " 7   subscribe_count    53329 non-null  int64\n",
      " 8   email_count        53329 non-null  int64\n",
      " 9   mobile_push_count  53329 non-null  int64\n",
      " 10  in_cluster_1       53329 non-null  int32\n",
      " 11  in_cluster_2       53329 non-null  int32\n",
      " 12  in_cluster_3       53329 non-null  int32\n",
      " 13  in_cluster_4       53329 non-null  int32\n",
      " 14  in_cluster_5       53329 non-null  int32\n",
      " 15  in_cluster_6       53329 non-null  int32\n",
      " 16  in_cluster_7       53329 non-null  int32\n",
      " 17  in_cluster_8       53329 non-null  int32\n",
      " 18  in_cluster_9       53329 non-null  int32\n",
      " 19  in_cluster_10      53329 non-null  int32\n",
      "dtypes: int32(10), int64(10)\n",
      "memory usage: 6.5 MB\n"
     ]
    }
   ],
   "source": [
    "apparel_messages_agg.info()"
   ]
  },
  {
   "cell_type": "markdown",
   "metadata": {},
   "source": [
    "В результате получили агрегированный датасет, в котором есть сумма действий пользователи в ответ на каждую рассылку (количество открытий, кликов, покупок и т.д.), информация о том, сколько всего рассылок получал пользователей, а также информация о том, к каким кластерам принадлежит полученная им рассылка"
   ]
  },
  {
   "cell_type": "markdown",
   "metadata": {},
   "source": [
    "## <a id='toc1_6_'></a>[Подготовка итогового датасета](#toc0_)"
   ]
  },
  {
   "cell_type": "code",
   "execution_count": 204,
   "metadata": {},
   "outputs": [],
   "source": [
    "# Создаем финальный датасет, объединяя аггеригоррванную информацию о покупках, рассылка и таргет\n",
    "\n",
    "final_df = apparel_purchases_agg.merge(apparel_messages_agg, on = \"client_id\", how = \"left\").merge(target, on=\"client_id\")"
   ]
  },
  {
   "cell_type": "code",
   "execution_count": 205,
   "metadata": {},
   "outputs": [
    {
     "data": {
      "text/plain": [
       "click_count          7867\n",
       "purchase_count       7867\n",
       "send_count           7867\n",
       "open_count           7867\n",
       "hard_bounce_count    7867\n",
       "unsubscribe_count    7867\n",
       "complain_count       7867\n",
       "subscribe_count      7867\n",
       "email_count          7867\n",
       "mobile_push_count    7867\n",
       "in_cluster_1         7867\n",
       "in_cluster_2         7867\n",
       "in_cluster_3         7867\n",
       "in_cluster_4         7867\n",
       "in_cluster_5         7867\n",
       "in_cluster_6         7867\n",
       "in_cluster_7         7867\n",
       "in_cluster_8         7867\n",
       "in_cluster_9         7867\n",
       "in_cluster_10        7867\n",
       "dtype: int64"
      ]
     },
     "execution_count": 205,
     "metadata": {},
     "output_type": "execute_result"
    }
   ],
   "source": [
    "missing_counts = final_df.isna().sum()\n",
    "missing_counts = missing_counts[missing_counts > 0]\n",
    "missing_counts"
   ]
  },
  {
   "cell_type": "markdown",
   "metadata": {},
   "source": [
    "Как и ожидалось, в финальном массиве есть пропуски, связанны с тем, что не обо всех клиентах есть информация о полученных ими рассылках\n",
    "В данном случае логично приравнять отсутствие такой информации к нулю"
   ]
  },
  {
   "cell_type": "code",
   "execution_count": 206,
   "metadata": {},
   "outputs": [],
   "source": [
    "final_df = final_df.fillna(0)"
   ]
  },
  {
   "cell_type": "markdown",
   "metadata": {},
   "source": [
    "### <a id='toc1_6_1_'></a>[Исследование взаимосвязей](#toc0_)"
   ]
  },
  {
   "cell_type": "code",
   "execution_count": null,
   "metadata": {},
   "outputs": [],
   "source": [
    "columns_to_check = [col for col in final_df.columns if col not in ['client_id', 'target']]\n",
    "phik_coefficients = {}\n",
    "\n",
    "# Собираем коэффициенты для каждой колонки\n",
    "for column in columns_to_check:\n",
    "    try:\n",
    "        result = phik.phik_matrix(final_df[[column, \"target\"]])\n",
    "        # Если матрица неполная, считаем корреляцию нулевой\n",
    "        if result.shape != (2, 2):\n",
    "            phik_coefficients[column] = 0.0\n",
    "        else:\n",
    "            phik_coefficients[column] = result.values[0,1]\n",
    "    except Exception as e:\n",
    "        print(f\"Warning: Error processing {column}, setting correlation to 0\")\n",
    "        phik_coefficients[column] = 0.0\n",
    "\n",
    "# Создаем DataFrame\n",
    "phik_df = pd.DataFrame.from_dict(phik_coefficients, orient='index', columns=['phik_coefficient'])\n",
    "phik_df = phik_df.sort_values('phik_coefficient', ascending=False)\n",
    "\n"
   ]
  },
  {
   "cell_type": "code",
   "execution_count": 208,
   "metadata": {},
   "outputs": [
    {
     "name": "stdout",
     "output_type": "stream",
     "text": [
      "\n",
      "Top 10 features by Phik correlation:\n",
      "                          phik_coefficient\n",
      "latest_date                       0.163991\n",
      "customer_lifetime                 0.134146\n",
      "first_date                        0.123334\n",
      "days_since_last_purchase          0.115966\n",
      "unique_dates                      0.074335\n",
      "click_count                       0.070769\n",
      "purchase_count                    0.069807\n",
      "mobile_push_count                 0.064416\n",
      "open_count                        0.057812\n",
      "send_count                        0.056721\n",
      "total_quantity                    0.049839\n",
      "category_27                       0.046442\n",
      "category_436                      0.045507\n",
      "in_cluster_1                      0.043173\n",
      "in_cluster_6                      0.041834\n",
      "category_6060                     0.039587\n",
      "category_213                      0.039547\n",
      "in_cluster_7                      0.039517\n",
      "total_spent                       0.034520\n",
      "category_62                       0.034195\n"
     ]
    }
   ],
   "source": [
    "print(\"\\nTop 10 features by Phik correlation:\")\n",
    "print(phik_df.head(20))"
   ]
  },
  {
   "cell_type": "markdown",
   "metadata": {},
   "source": [
    "Видим, что больше всего связан с вероятностью покупки такие переменные как\n",
    "\n",
    "`customer_lifetime`\n",
    "\n",
    "`days_since_last_purchase`\n",
    "\n",
    "`unique_dates`\n",
    "\n",
    "`click_count`\n",
    "\n",
    "`purchase_count`\n",
    "\n",
    "`purchase_amount`\n",
    "\n",
    "`Mobile_push_count`\n",
    "\n",
    "`open_count`\n",
    "\n",
    "\n",
    "Важно, что связь с таргетом имеют также и отдельные категории товаров и даже принадлежность к кластерам рассылок\n",
    "\n",
    "Помимо этого - самостоятельное значение имеют даты, как категориальные признаки. Однако мы их исключим из анализа, поскольку посредством этих данных были созданые другие признаки. "
   ]
  },
  {
   "cell_type": "code",
   "execution_count": 209,
   "metadata": {},
   "outputs": [
    {
     "data": {
      "text/plain": [
       "target\n",
       "0    48888\n",
       "1      961\n",
       "Name: count, dtype: int64"
      ]
     },
     "execution_count": 209,
     "metadata": {},
     "output_type": "execute_result"
    }
   ],
   "source": [
    "final_df[\"target\"].value_counts()"
   ]
  },
  {
   "cell_type": "markdown",
   "metadata": {},
   "source": [
    "В данных большой дисбаланс. Надо это учесть при моделировании"
   ]
  },
  {
   "cell_type": "markdown",
   "metadata": {},
   "source": [
    "## <a id='toc1_7_'></a>[Моделирование](#toc0_)"
   ]
  },
  {
   "cell_type": "code",
   "execution_count": 210,
   "metadata": {},
   "outputs": [],
   "source": [
    "# Исключем таргет, id и информацию о датах из признаков\n",
    "X = final_df.drop([\"target\", \"client_id\", 'latest_date', 'first_date'], axis = 1)\n",
    "y = final_df[\"target\"]"
   ]
  },
  {
   "cell_type": "code",
   "execution_count": 211,
   "metadata": {},
   "outputs": [],
   "source": [
    "# Создаем train, val, test дизайн\n",
    "\n",
    "\n",
    "X_temp, X_test, y_temp, y_test = train_test_split(\n",
    "    X, y, \n",
    "    test_size=0.2,\n",
    "    stratify=y,            \n",
    "    random_state=42\n",
    ")\n",
    "\n",
    "X_train, X_val, y_train, y_val = train_test_split(\n",
    "    X_temp, y_temp,\n",
    "    test_size=0.25,\n",
    "    stratify=y_temp,       \n",
    "    random_state=42\n",
    ")"
   ]
  },
  {
   "cell_type": "markdown",
   "metadata": {},
   "source": [
    "В ходе исследования попытки использования инструментов для дисбаланса классов, такие как андерсемплинг и оверсемплинг классов себя не очень хорошо показали. Поскольку лучшей моделью кросс-валидации был выбран catboost, который имеет собственный инструмент балансировки классов, здесь мы эту проблему не решает"
   ]
  },
  {
   "cell_type": "code",
   "execution_count": 212,
   "metadata": {},
   "outputs": [],
   "source": [
    "# У нас нет в датасете категориальных колонок, Все категориальные признаки были закодированы в бинарный численный формат на этапе подготовки массива. \n",
    "# однако оставим эту функцию на случай если они появятся\n",
    "cat_cols = X.select_dtypes(include=['object', 'category']).columns.tolist()\n",
    "\n",
    "\n",
    "num_cols = [\"total_quantity\", \"mean_price\", \"total_spent\",\n",
    "\"unique_dates\", \"days_since_last_purchase\", \"customer_lifetime\", \"click_count\",\n",
    "\"purchase_count\", \"send_count\", \"open_count\", \"hard_bounce_count\", \"unsubscribe_count\",\n",
    "\"complain_count\", \"subscribe_count\", \"email_count\", \"mobile_push_count\"]"
   ]
  },
  {
   "cell_type": "markdown",
   "metadata": {},
   "source": [
    "Изначально отбор модели происходил через optuna. Оставляя код, но в дальнейшем использую уже полученные параметры для лучшей модели"
   ]
  },
  {
   "cell_type": "markdown",
   "metadata": {},
   "source": [
    "```\n",
    "def create_pipeline(trial, classifier_name):\n",
    "    num_pipeline = Pipeline([\n",
    "        ('imputer', SimpleImputer(strategy=trial.suggest_categorical('num_imputer_strategy', ['mean', 'median']))),\n",
    "        ('scaler', StandardScaler())\n",
    "    ])\n",
    "    \n",
    "    cat_pipeline = Pipeline([\n",
    "        ('imputer', SimpleImputer(strategy='constant', fill_value='missing')),\n",
    "        ('onehot', OneHotEncoder(drop='first', sparse_output=False))\n",
    "    ])\n",
    "    \n",
    "    preprocessor = ColumnTransformer([\n",
    "        ('num', num_pipeline, num_cols),\n",
    "        ('cat', cat_pipeline, cat_cols)\n",
    "    ], remainder='passthrough')\n",
    "    \n",
    "    if classifier_name == 'logistic':\n",
    "        classifier = LogisticRegression(\n",
    "            C=trial.suggest_float('lr_C', 1e-3, 10, log=True),\n",
    "            max_iter=trial.suggest_int('lr_max_iter', 100, 500),\n",
    "            random_state=42\n",
    "        )\n",
    "    elif classifier_name == 'decision_tree':\n",
    "        classifier = DecisionTreeClassifier(\n",
    "            max_depth=trial.suggest_int('dt_max_depth', 3, 15),\n",
    "            min_samples_split=trial.suggest_int('dt_min_samples_split', 2, 20),\n",
    "            min_samples_leaf=trial.suggest_int('dt_min_samples_leaf', 1, 10),\n",
    "            random_state=42\n",
    "        )\n",
    "    elif classifier_name == 'lgbm':\n",
    "        classifier = LGBMClassifier(\n",
    "            n_estimators=trial.suggest_int('lgbm_n_estimators', 50, 300),\n",
    "            learning_rate=trial.suggest_float('lgbm_learning_rate', 0.01, 0.3, log=True),\n",
    "            num_leaves=trial.suggest_int('lgbm_num_leaves', 15, 127),\n",
    "            min_child_samples=trial.suggest_int('lgbm_min_child_samples', 5, 100),\n",
    "            subsample=trial.suggest_float('lgbm_subsample', 0.5, 1.0),\n",
    "            colsample_bytree=trial.suggest_float('lgbm_colsample_bytree', 0.5, 1.0),\n",
    "            random_state=42\n",
    "        )\n",
    "    elif classifier_name == 'catboost':\n",
    "        classifier = CatBoostClassifier(\n",
    "            iterations=trial.suggest_int('cb_iterations', 50, 500),\n",
    "            learning_rate=trial.suggest_float('cb_learning_rate', 0.001, 0.1, log=True),\n",
    "            depth=trial.suggest_int('cb_depth', 3, 12),\n",
    "            l2_leaf_reg=trial.suggest_float('cb_l2_leaf_reg', 1, 30),\n",
    "            random_strength=trial.suggest_float('cb_random_strength', 1e-3, 20, log=True),\n",
    "            min_data_in_leaf=trial.suggest_int('cb_min_data_in_leaf', 1, 50),\n",
    "            auto_class_weights=trial.suggest_categorical('cb_class_weights', [None, 'Balanced', 'SqrtBalanced']),\n",
    "            subsample=trial.suggest_float('cb_subsample', \n",
    "            0.5, 1.0),  # Добавил для баггинга\n",
    "            leaf_estimation_iterations=trial.suggest_int('cb_leaf_estimation_iterations', \n",
    "            1, 10),  # Добавил для точности оценки листьев\n",
    "            random_state=42,\n",
    "            verbose=False\n",
    "        )\n",
    "    \n",
    "    return Pipeline([\n",
    "        ('preprocessor', preprocessor),\n",
    "        ('classifier', classifier)\n",
    "    ])\n",
    "\n",
    "def objective(trial, X, y, classifier_name):\n",
    "    pipeline = create_pipeline(trial, classifier_name)\n",
    "    \n",
    "    scores = cross_val_score(\n",
    "        pipeline, X, y,\n",
    "        cv=5,\n",
    "        scoring='roc_auc',\n",
    "        n_jobs=-1\n",
    "    )\n",
    "    \n",
    "    return scores.mean()\n",
    "\n",
    "classifiers = ['logistic', 'decision_tree', 'lgbm', 'catboost']\n",
    "studies = {}\n",
    "\n",
    "for classifier in classifiers:\n",
    "    study = optuna.create_study(\n",
    "        direction='maximize',\n",
    "        study_name=f'{classifier}_optimization',\n",
    "        sampler=optuna.samplers.TPESampler(seed=42)\n",
    "    )\n",
    "    \n",
    "    # Optimize each classifier\n",
    "    study.optimize(\n",
    "        lambda trial: objective(trial, X_train, y_train, classifier),\n",
    "        n_trials=50,  # Adjust based on your computational budget\n",
    "        n_jobs=1,  # Use 1 for CatBoost, -1 for others\n",
    "        show_progress_bar=True\n",
    "    )\n",
    "    \n",
    "    studies[classifier] = study\n",
    "\n",
    "# Get best results for each classifier\n",
    "best_results = {}\n",
    "for classifier, study in studies.items():\n",
    "    best_results[classifier] = {\n",
    "        'best_score': study.best_value,\n",
    "        'best_params': study.best_params\n",
    "    }\n",
    "    print(f\"\\nBest {classifier} Results:\")\n",
    "    print(f\"Score: {study.best_value:.4f}\")\n",
    "    print(\"Parameters:\", study.best_params)\n",
    "\n",
    "best_classifier = max(best_results.items(), key=lambda x: x[1]['best_score'])[0]\n",
    "\n",
    "final_pipeline = create_pipeline(\n",
    "    optuna.trial.FixedTrial(best_results[best_classifier]['best_params']),\n",
    "    best_classifier\n",
    ")\n",
    "\n",
    "```"
   ]
  },
  {
   "cell_type": "code",
   "execution_count": 213,
   "metadata": {},
   "outputs": [],
   "source": [
    "num_pipeline = Pipeline([\n",
    "    ('imputer', SimpleImputer(strategy='median')),\n",
    "    ('scaler', StandardScaler())\n",
    "])\n",
    "\n",
    "cat_pipeline = Pipeline([\n",
    "    ('imputer', SimpleImputer(strategy='constant', fill_value='missing')),\n",
    "    ('onehot', OneHotEncoder(drop='first', sparse_output=False))\n",
    "])\n",
    "\n",
    "preprocessor = ColumnTransformer([\n",
    "    ('num', num_pipeline, num_cols),\n",
    "    ('cat', cat_pipeline, cat_cols)\n",
    "], remainder='passthrough')\n",
    "\n",
    "# Создаем CatBoost с оптимальными параметрами полученными через Optuna\n",
    "catboost_classifier = CatBoostClassifier(\n",
    "    iterations=308,\n",
    "    learning_rate=0.030595276962024773,\n",
    "    depth=3,\n",
    "    l2_leaf_reg=6.394738594560913,\n",
    "    random_strength=0.9803777223919052,\n",
    "    min_data_in_leaf=38,\n",
    "    auto_class_weights='SqrtBalanced',\n",
    "    subsample=0.6594952902213623,\n",
    "    leaf_estimation_iterations=8,\n",
    "    random_state=42,\n",
    "    verbose=False\n",
    ")\n",
    "\n",
    "# Создаем финальный пайплайн\n",
    "final_pipeline = Pipeline([\n",
    "    ('preprocessor', preprocessor),\n",
    "    ('classifier', catboost_classifier)\n",
    "])"
   ]
  },
  {
   "cell_type": "code",
   "execution_count": 214,
   "metadata": {},
   "outputs": [
    {
     "data": {
      "text/html": [
       "<style>#sk-container-id-2 {\n",
       "  /* Definition of color scheme common for light and dark mode */\n",
       "  --sklearn-color-text: #000;\n",
       "  --sklearn-color-text-muted: #666;\n",
       "  --sklearn-color-line: gray;\n",
       "  /* Definition of color scheme for unfitted estimators */\n",
       "  --sklearn-color-unfitted-level-0: #fff5e6;\n",
       "  --sklearn-color-unfitted-level-1: #f6e4d2;\n",
       "  --sklearn-color-unfitted-level-2: #ffe0b3;\n",
       "  --sklearn-color-unfitted-level-3: chocolate;\n",
       "  /* Definition of color scheme for fitted estimators */\n",
       "  --sklearn-color-fitted-level-0: #f0f8ff;\n",
       "  --sklearn-color-fitted-level-1: #d4ebff;\n",
       "  --sklearn-color-fitted-level-2: #b3dbfd;\n",
       "  --sklearn-color-fitted-level-3: cornflowerblue;\n",
       "\n",
       "  /* Specific color for light theme */\n",
       "  --sklearn-color-text-on-default-background: var(--sg-text-color, var(--theme-code-foreground, var(--jp-content-font-color1, black)));\n",
       "  --sklearn-color-background: var(--sg-background-color, var(--theme-background, var(--jp-layout-color0, white)));\n",
       "  --sklearn-color-border-box: var(--sg-text-color, var(--theme-code-foreground, var(--jp-content-font-color1, black)));\n",
       "  --sklearn-color-icon: #696969;\n",
       "\n",
       "  @media (prefers-color-scheme: dark) {\n",
       "    /* Redefinition of color scheme for dark theme */\n",
       "    --sklearn-color-text-on-default-background: var(--sg-text-color, var(--theme-code-foreground, var(--jp-content-font-color1, white)));\n",
       "    --sklearn-color-background: var(--sg-background-color, var(--theme-background, var(--jp-layout-color0, #111)));\n",
       "    --sklearn-color-border-box: var(--sg-text-color, var(--theme-code-foreground, var(--jp-content-font-color1, white)));\n",
       "    --sklearn-color-icon: #878787;\n",
       "  }\n",
       "}\n",
       "\n",
       "#sk-container-id-2 {\n",
       "  color: var(--sklearn-color-text);\n",
       "}\n",
       "\n",
       "#sk-container-id-2 pre {\n",
       "  padding: 0;\n",
       "}\n",
       "\n",
       "#sk-container-id-2 input.sk-hidden--visually {\n",
       "  border: 0;\n",
       "  clip: rect(1px 1px 1px 1px);\n",
       "  clip: rect(1px, 1px, 1px, 1px);\n",
       "  height: 1px;\n",
       "  margin: -1px;\n",
       "  overflow: hidden;\n",
       "  padding: 0;\n",
       "  position: absolute;\n",
       "  width: 1px;\n",
       "}\n",
       "\n",
       "#sk-container-id-2 div.sk-dashed-wrapped {\n",
       "  border: 1px dashed var(--sklearn-color-line);\n",
       "  margin: 0 0.4em 0.5em 0.4em;\n",
       "  box-sizing: border-box;\n",
       "  padding-bottom: 0.4em;\n",
       "  background-color: var(--sklearn-color-background);\n",
       "}\n",
       "\n",
       "#sk-container-id-2 div.sk-container {\n",
       "  /* jupyter's `normalize.less` sets `[hidden] { display: none; }`\n",
       "     but bootstrap.min.css set `[hidden] { display: none !important; }`\n",
       "     so we also need the `!important` here to be able to override the\n",
       "     default hidden behavior on the sphinx rendered scikit-learn.org.\n",
       "     See: https://github.com/scikit-learn/scikit-learn/issues/21755 */\n",
       "  display: inline-block !important;\n",
       "  position: relative;\n",
       "}\n",
       "\n",
       "#sk-container-id-2 div.sk-text-repr-fallback {\n",
       "  display: none;\n",
       "}\n",
       "\n",
       "div.sk-parallel-item,\n",
       "div.sk-serial,\n",
       "div.sk-item {\n",
       "  /* draw centered vertical line to link estimators */\n",
       "  background-image: linear-gradient(var(--sklearn-color-text-on-default-background), var(--sklearn-color-text-on-default-background));\n",
       "  background-size: 2px 100%;\n",
       "  background-repeat: no-repeat;\n",
       "  background-position: center center;\n",
       "}\n",
       "\n",
       "/* Parallel-specific style estimator block */\n",
       "\n",
       "#sk-container-id-2 div.sk-parallel-item::after {\n",
       "  content: \"\";\n",
       "  width: 100%;\n",
       "  border-bottom: 2px solid var(--sklearn-color-text-on-default-background);\n",
       "  flex-grow: 1;\n",
       "}\n",
       "\n",
       "#sk-container-id-2 div.sk-parallel {\n",
       "  display: flex;\n",
       "  align-items: stretch;\n",
       "  justify-content: center;\n",
       "  background-color: var(--sklearn-color-background);\n",
       "  position: relative;\n",
       "}\n",
       "\n",
       "#sk-container-id-2 div.sk-parallel-item {\n",
       "  display: flex;\n",
       "  flex-direction: column;\n",
       "}\n",
       "\n",
       "#sk-container-id-2 div.sk-parallel-item:first-child::after {\n",
       "  align-self: flex-end;\n",
       "  width: 50%;\n",
       "}\n",
       "\n",
       "#sk-container-id-2 div.sk-parallel-item:last-child::after {\n",
       "  align-self: flex-start;\n",
       "  width: 50%;\n",
       "}\n",
       "\n",
       "#sk-container-id-2 div.sk-parallel-item:only-child::after {\n",
       "  width: 0;\n",
       "}\n",
       "\n",
       "/* Serial-specific style estimator block */\n",
       "\n",
       "#sk-container-id-2 div.sk-serial {\n",
       "  display: flex;\n",
       "  flex-direction: column;\n",
       "  align-items: center;\n",
       "  background-color: var(--sklearn-color-background);\n",
       "  padding-right: 1em;\n",
       "  padding-left: 1em;\n",
       "}\n",
       "\n",
       "\n",
       "/* Toggleable style: style used for estimator/Pipeline/ColumnTransformer box that is\n",
       "clickable and can be expanded/collapsed.\n",
       "- Pipeline and ColumnTransformer use this feature and define the default style\n",
       "- Estimators will overwrite some part of the style using the `sk-estimator` class\n",
       "*/\n",
       "\n",
       "/* Pipeline and ColumnTransformer style (default) */\n",
       "\n",
       "#sk-container-id-2 div.sk-toggleable {\n",
       "  /* Default theme specific background. It is overwritten whether we have a\n",
       "  specific estimator or a Pipeline/ColumnTransformer */\n",
       "  background-color: var(--sklearn-color-background);\n",
       "}\n",
       "\n",
       "/* Toggleable label */\n",
       "#sk-container-id-2 label.sk-toggleable__label {\n",
       "  cursor: pointer;\n",
       "  display: flex;\n",
       "  width: 100%;\n",
       "  margin-bottom: 0;\n",
       "  padding: 0.5em;\n",
       "  box-sizing: border-box;\n",
       "  text-align: center;\n",
       "  align-items: start;\n",
       "  justify-content: space-between;\n",
       "  gap: 0.5em;\n",
       "}\n",
       "\n",
       "#sk-container-id-2 label.sk-toggleable__label .caption {\n",
       "  font-size: 0.6rem;\n",
       "  font-weight: lighter;\n",
       "  color: var(--sklearn-color-text-muted);\n",
       "}\n",
       "\n",
       "#sk-container-id-2 label.sk-toggleable__label-arrow:before {\n",
       "  /* Arrow on the left of the label */\n",
       "  content: \"▸\";\n",
       "  float: left;\n",
       "  margin-right: 0.25em;\n",
       "  color: var(--sklearn-color-icon);\n",
       "}\n",
       "\n",
       "#sk-container-id-2 label.sk-toggleable__label-arrow:hover:before {\n",
       "  color: var(--sklearn-color-text);\n",
       "}\n",
       "\n",
       "/* Toggleable content - dropdown */\n",
       "\n",
       "#sk-container-id-2 div.sk-toggleable__content {\n",
       "  max-height: 0;\n",
       "  max-width: 0;\n",
       "  overflow: hidden;\n",
       "  text-align: left;\n",
       "  /* unfitted */\n",
       "  background-color: var(--sklearn-color-unfitted-level-0);\n",
       "}\n",
       "\n",
       "#sk-container-id-2 div.sk-toggleable__content.fitted {\n",
       "  /* fitted */\n",
       "  background-color: var(--sklearn-color-fitted-level-0);\n",
       "}\n",
       "\n",
       "#sk-container-id-2 div.sk-toggleable__content pre {\n",
       "  margin: 0.2em;\n",
       "  border-radius: 0.25em;\n",
       "  color: var(--sklearn-color-text);\n",
       "  /* unfitted */\n",
       "  background-color: var(--sklearn-color-unfitted-level-0);\n",
       "}\n",
       "\n",
       "#sk-container-id-2 div.sk-toggleable__content.fitted pre {\n",
       "  /* unfitted */\n",
       "  background-color: var(--sklearn-color-fitted-level-0);\n",
       "}\n",
       "\n",
       "#sk-container-id-2 input.sk-toggleable__control:checked~div.sk-toggleable__content {\n",
       "  /* Expand drop-down */\n",
       "  max-height: 200px;\n",
       "  max-width: 100%;\n",
       "  overflow: auto;\n",
       "}\n",
       "\n",
       "#sk-container-id-2 input.sk-toggleable__control:checked~label.sk-toggleable__label-arrow:before {\n",
       "  content: \"▾\";\n",
       "}\n",
       "\n",
       "/* Pipeline/ColumnTransformer-specific style */\n",
       "\n",
       "#sk-container-id-2 div.sk-label input.sk-toggleable__control:checked~label.sk-toggleable__label {\n",
       "  color: var(--sklearn-color-text);\n",
       "  background-color: var(--sklearn-color-unfitted-level-2);\n",
       "}\n",
       "\n",
       "#sk-container-id-2 div.sk-label.fitted input.sk-toggleable__control:checked~label.sk-toggleable__label {\n",
       "  background-color: var(--sklearn-color-fitted-level-2);\n",
       "}\n",
       "\n",
       "/* Estimator-specific style */\n",
       "\n",
       "/* Colorize estimator box */\n",
       "#sk-container-id-2 div.sk-estimator input.sk-toggleable__control:checked~label.sk-toggleable__label {\n",
       "  /* unfitted */\n",
       "  background-color: var(--sklearn-color-unfitted-level-2);\n",
       "}\n",
       "\n",
       "#sk-container-id-2 div.sk-estimator.fitted input.sk-toggleable__control:checked~label.sk-toggleable__label {\n",
       "  /* fitted */\n",
       "  background-color: var(--sklearn-color-fitted-level-2);\n",
       "}\n",
       "\n",
       "#sk-container-id-2 div.sk-label label.sk-toggleable__label,\n",
       "#sk-container-id-2 div.sk-label label {\n",
       "  /* The background is the default theme color */\n",
       "  color: var(--sklearn-color-text-on-default-background);\n",
       "}\n",
       "\n",
       "/* On hover, darken the color of the background */\n",
       "#sk-container-id-2 div.sk-label:hover label.sk-toggleable__label {\n",
       "  color: var(--sklearn-color-text);\n",
       "  background-color: var(--sklearn-color-unfitted-level-2);\n",
       "}\n",
       "\n",
       "/* Label box, darken color on hover, fitted */\n",
       "#sk-container-id-2 div.sk-label.fitted:hover label.sk-toggleable__label.fitted {\n",
       "  color: var(--sklearn-color-text);\n",
       "  background-color: var(--sklearn-color-fitted-level-2);\n",
       "}\n",
       "\n",
       "/* Estimator label */\n",
       "\n",
       "#sk-container-id-2 div.sk-label label {\n",
       "  font-family: monospace;\n",
       "  font-weight: bold;\n",
       "  display: inline-block;\n",
       "  line-height: 1.2em;\n",
       "}\n",
       "\n",
       "#sk-container-id-2 div.sk-label-container {\n",
       "  text-align: center;\n",
       "}\n",
       "\n",
       "/* Estimator-specific */\n",
       "#sk-container-id-2 div.sk-estimator {\n",
       "  font-family: monospace;\n",
       "  border: 1px dotted var(--sklearn-color-border-box);\n",
       "  border-radius: 0.25em;\n",
       "  box-sizing: border-box;\n",
       "  margin-bottom: 0.5em;\n",
       "  /* unfitted */\n",
       "  background-color: var(--sklearn-color-unfitted-level-0);\n",
       "}\n",
       "\n",
       "#sk-container-id-2 div.sk-estimator.fitted {\n",
       "  /* fitted */\n",
       "  background-color: var(--sklearn-color-fitted-level-0);\n",
       "}\n",
       "\n",
       "/* on hover */\n",
       "#sk-container-id-2 div.sk-estimator:hover {\n",
       "  /* unfitted */\n",
       "  background-color: var(--sklearn-color-unfitted-level-2);\n",
       "}\n",
       "\n",
       "#sk-container-id-2 div.sk-estimator.fitted:hover {\n",
       "  /* fitted */\n",
       "  background-color: var(--sklearn-color-fitted-level-2);\n",
       "}\n",
       "\n",
       "/* Specification for estimator info (e.g. \"i\" and \"?\") */\n",
       "\n",
       "/* Common style for \"i\" and \"?\" */\n",
       "\n",
       ".sk-estimator-doc-link,\n",
       "a:link.sk-estimator-doc-link,\n",
       "a:visited.sk-estimator-doc-link {\n",
       "  float: right;\n",
       "  font-size: smaller;\n",
       "  line-height: 1em;\n",
       "  font-family: monospace;\n",
       "  background-color: var(--sklearn-color-background);\n",
       "  border-radius: 1em;\n",
       "  height: 1em;\n",
       "  width: 1em;\n",
       "  text-decoration: none !important;\n",
       "  margin-left: 0.5em;\n",
       "  text-align: center;\n",
       "  /* unfitted */\n",
       "  border: var(--sklearn-color-unfitted-level-1) 1pt solid;\n",
       "  color: var(--sklearn-color-unfitted-level-1);\n",
       "}\n",
       "\n",
       ".sk-estimator-doc-link.fitted,\n",
       "a:link.sk-estimator-doc-link.fitted,\n",
       "a:visited.sk-estimator-doc-link.fitted {\n",
       "  /* fitted */\n",
       "  border: var(--sklearn-color-fitted-level-1) 1pt solid;\n",
       "  color: var(--sklearn-color-fitted-level-1);\n",
       "}\n",
       "\n",
       "/* On hover */\n",
       "div.sk-estimator:hover .sk-estimator-doc-link:hover,\n",
       ".sk-estimator-doc-link:hover,\n",
       "div.sk-label-container:hover .sk-estimator-doc-link:hover,\n",
       ".sk-estimator-doc-link:hover {\n",
       "  /* unfitted */\n",
       "  background-color: var(--sklearn-color-unfitted-level-3);\n",
       "  color: var(--sklearn-color-background);\n",
       "  text-decoration: none;\n",
       "}\n",
       "\n",
       "div.sk-estimator.fitted:hover .sk-estimator-doc-link.fitted:hover,\n",
       ".sk-estimator-doc-link.fitted:hover,\n",
       "div.sk-label-container:hover .sk-estimator-doc-link.fitted:hover,\n",
       ".sk-estimator-doc-link.fitted:hover {\n",
       "  /* fitted */\n",
       "  background-color: var(--sklearn-color-fitted-level-3);\n",
       "  color: var(--sklearn-color-background);\n",
       "  text-decoration: none;\n",
       "}\n",
       "\n",
       "/* Span, style for the box shown on hovering the info icon */\n",
       ".sk-estimator-doc-link span {\n",
       "  display: none;\n",
       "  z-index: 9999;\n",
       "  position: relative;\n",
       "  font-weight: normal;\n",
       "  right: .2ex;\n",
       "  padding: .5ex;\n",
       "  margin: .5ex;\n",
       "  width: min-content;\n",
       "  min-width: 20ex;\n",
       "  max-width: 50ex;\n",
       "  color: var(--sklearn-color-text);\n",
       "  box-shadow: 2pt 2pt 4pt #999;\n",
       "  /* unfitted */\n",
       "  background: var(--sklearn-color-unfitted-level-0);\n",
       "  border: .5pt solid var(--sklearn-color-unfitted-level-3);\n",
       "}\n",
       "\n",
       ".sk-estimator-doc-link.fitted span {\n",
       "  /* fitted */\n",
       "  background: var(--sklearn-color-fitted-level-0);\n",
       "  border: var(--sklearn-color-fitted-level-3);\n",
       "}\n",
       "\n",
       ".sk-estimator-doc-link:hover span {\n",
       "  display: block;\n",
       "}\n",
       "\n",
       "/* \"?\"-specific style due to the `<a>` HTML tag */\n",
       "\n",
       "#sk-container-id-2 a.estimator_doc_link {\n",
       "  float: right;\n",
       "  font-size: 1rem;\n",
       "  line-height: 1em;\n",
       "  font-family: monospace;\n",
       "  background-color: var(--sklearn-color-background);\n",
       "  border-radius: 1rem;\n",
       "  height: 1rem;\n",
       "  width: 1rem;\n",
       "  text-decoration: none;\n",
       "  /* unfitted */\n",
       "  color: var(--sklearn-color-unfitted-level-1);\n",
       "  border: var(--sklearn-color-unfitted-level-1) 1pt solid;\n",
       "}\n",
       "\n",
       "#sk-container-id-2 a.estimator_doc_link.fitted {\n",
       "  /* fitted */\n",
       "  border: var(--sklearn-color-fitted-level-1) 1pt solid;\n",
       "  color: var(--sklearn-color-fitted-level-1);\n",
       "}\n",
       "\n",
       "/* On hover */\n",
       "#sk-container-id-2 a.estimator_doc_link:hover {\n",
       "  /* unfitted */\n",
       "  background-color: var(--sklearn-color-unfitted-level-3);\n",
       "  color: var(--sklearn-color-background);\n",
       "  text-decoration: none;\n",
       "}\n",
       "\n",
       "#sk-container-id-2 a.estimator_doc_link.fitted:hover {\n",
       "  /* fitted */\n",
       "  background-color: var(--sklearn-color-fitted-level-3);\n",
       "}\n",
       "</style><div id=\"sk-container-id-2\" class=\"sk-top-container\"><div class=\"sk-text-repr-fallback\"><pre>Pipeline(steps=[(&#x27;preprocessor&#x27;,\n",
       "                 ColumnTransformer(remainder=&#x27;passthrough&#x27;,\n",
       "                                   transformers=[(&#x27;num&#x27;,\n",
       "                                                  Pipeline(steps=[(&#x27;imputer&#x27;,\n",
       "                                                                   SimpleImputer(strategy=&#x27;median&#x27;)),\n",
       "                                                                  (&#x27;scaler&#x27;,\n",
       "                                                                   StandardScaler())]),\n",
       "                                                  [&#x27;total_quantity&#x27;,\n",
       "                                                   &#x27;mean_price&#x27;, &#x27;total_spent&#x27;,\n",
       "                                                   &#x27;unique_dates&#x27;,\n",
       "                                                   &#x27;days_since_last_purchase&#x27;,\n",
       "                                                   &#x27;customer_lifetime&#x27;,\n",
       "                                                   &#x27;click_count&#x27;,\n",
       "                                                   &#x27;purchase_count&#x27;,\n",
       "                                                   &#x27;send_count&#x27;, &#x27;open_count&#x27;,\n",
       "                                                   &#x27;hard_bounce_count&#x27;,\n",
       "                                                   &#x27;unsubscribe_count&#x27;,\n",
       "                                                   &#x27;complain_count&#x27;,\n",
       "                                                   &#x27;subscribe_count&#x27;,\n",
       "                                                   &#x27;email_count&#x27;,\n",
       "                                                   &#x27;mobile_push_count&#x27;]),\n",
       "                                                 (&#x27;cat&#x27;,\n",
       "                                                  Pipeline(steps=[(&#x27;imputer&#x27;,\n",
       "                                                                   SimpleImputer(fill_value=&#x27;missing&#x27;,\n",
       "                                                                                 strategy=&#x27;constant&#x27;)),\n",
       "                                                                  (&#x27;onehot&#x27;,\n",
       "                                                                   OneHotEncoder(drop=&#x27;first&#x27;,\n",
       "                                                                                 sparse_output=False))]),\n",
       "                                                  [])])),\n",
       "                (&#x27;classifier&#x27;,\n",
       "                 &lt;catboost.core.CatBoostClassifier object at 0x000001FF05EEB8D0&gt;)])</pre><b>In a Jupyter environment, please rerun this cell to show the HTML representation or trust the notebook. <br />On GitHub, the HTML representation is unable to render, please try loading this page with nbviewer.org.</b></div><div class=\"sk-container\" hidden><div class=\"sk-item sk-dashed-wrapped\"><div class=\"sk-label-container\"><div class=\"sk-label fitted sk-toggleable\"><input class=\"sk-toggleable__control sk-hidden--visually\" id=\"sk-estimator-id-12\" type=\"checkbox\" ><label for=\"sk-estimator-id-12\" class=\"sk-toggleable__label fitted sk-toggleable__label-arrow\"><div><div>Pipeline</div></div><div><a class=\"sk-estimator-doc-link fitted\" rel=\"noreferrer\" target=\"_blank\" href=\"https://scikit-learn.org/1.6/modules/generated/sklearn.pipeline.Pipeline.html\">?<span>Documentation for Pipeline</span></a><span class=\"sk-estimator-doc-link fitted\">i<span>Fitted</span></span></div></label><div class=\"sk-toggleable__content fitted\"><pre>Pipeline(steps=[(&#x27;preprocessor&#x27;,\n",
       "                 ColumnTransformer(remainder=&#x27;passthrough&#x27;,\n",
       "                                   transformers=[(&#x27;num&#x27;,\n",
       "                                                  Pipeline(steps=[(&#x27;imputer&#x27;,\n",
       "                                                                   SimpleImputer(strategy=&#x27;median&#x27;)),\n",
       "                                                                  (&#x27;scaler&#x27;,\n",
       "                                                                   StandardScaler())]),\n",
       "                                                  [&#x27;total_quantity&#x27;,\n",
       "                                                   &#x27;mean_price&#x27;, &#x27;total_spent&#x27;,\n",
       "                                                   &#x27;unique_dates&#x27;,\n",
       "                                                   &#x27;days_since_last_purchase&#x27;,\n",
       "                                                   &#x27;customer_lifetime&#x27;,\n",
       "                                                   &#x27;click_count&#x27;,\n",
       "                                                   &#x27;purchase_count&#x27;,\n",
       "                                                   &#x27;send_count&#x27;, &#x27;open_count&#x27;,\n",
       "                                                   &#x27;hard_bounce_count&#x27;,\n",
       "                                                   &#x27;unsubscribe_count&#x27;,\n",
       "                                                   &#x27;complain_count&#x27;,\n",
       "                                                   &#x27;subscribe_count&#x27;,\n",
       "                                                   &#x27;email_count&#x27;,\n",
       "                                                   &#x27;mobile_push_count&#x27;]),\n",
       "                                                 (&#x27;cat&#x27;,\n",
       "                                                  Pipeline(steps=[(&#x27;imputer&#x27;,\n",
       "                                                                   SimpleImputer(fill_value=&#x27;missing&#x27;,\n",
       "                                                                                 strategy=&#x27;constant&#x27;)),\n",
       "                                                                  (&#x27;onehot&#x27;,\n",
       "                                                                   OneHotEncoder(drop=&#x27;first&#x27;,\n",
       "                                                                                 sparse_output=False))]),\n",
       "                                                  [])])),\n",
       "                (&#x27;classifier&#x27;,\n",
       "                 &lt;catboost.core.CatBoostClassifier object at 0x000001FF05EEB8D0&gt;)])</pre></div> </div></div><div class=\"sk-serial\"><div class=\"sk-item sk-dashed-wrapped\"><div class=\"sk-label-container\"><div class=\"sk-label fitted sk-toggleable\"><input class=\"sk-toggleable__control sk-hidden--visually\" id=\"sk-estimator-id-13\" type=\"checkbox\" ><label for=\"sk-estimator-id-13\" class=\"sk-toggleable__label fitted sk-toggleable__label-arrow\"><div><div>preprocessor: ColumnTransformer</div></div><div><a class=\"sk-estimator-doc-link fitted\" rel=\"noreferrer\" target=\"_blank\" href=\"https://scikit-learn.org/1.6/modules/generated/sklearn.compose.ColumnTransformer.html\">?<span>Documentation for preprocessor: ColumnTransformer</span></a></div></label><div class=\"sk-toggleable__content fitted\"><pre>ColumnTransformer(remainder=&#x27;passthrough&#x27;,\n",
       "                  transformers=[(&#x27;num&#x27;,\n",
       "                                 Pipeline(steps=[(&#x27;imputer&#x27;,\n",
       "                                                  SimpleImputer(strategy=&#x27;median&#x27;)),\n",
       "                                                 (&#x27;scaler&#x27;, StandardScaler())]),\n",
       "                                 [&#x27;total_quantity&#x27;, &#x27;mean_price&#x27;, &#x27;total_spent&#x27;,\n",
       "                                  &#x27;unique_dates&#x27;, &#x27;days_since_last_purchase&#x27;,\n",
       "                                  &#x27;customer_lifetime&#x27;, &#x27;click_count&#x27;,\n",
       "                                  &#x27;purchase_count&#x27;, &#x27;send_count&#x27;, &#x27;open_count&#x27;,\n",
       "                                  &#x27;hard_bounce_count&#x27;, &#x27;unsubscribe_count&#x27;,\n",
       "                                  &#x27;complain_count&#x27;, &#x27;subscribe_count&#x27;,\n",
       "                                  &#x27;email_count&#x27;, &#x27;mobile_push_count&#x27;]),\n",
       "                                (&#x27;cat&#x27;,\n",
       "                                 Pipeline(steps=[(&#x27;imputer&#x27;,\n",
       "                                                  SimpleImputer(fill_value=&#x27;missing&#x27;,\n",
       "                                                                strategy=&#x27;constant&#x27;)),\n",
       "                                                 (&#x27;onehot&#x27;,\n",
       "                                                  OneHotEncoder(drop=&#x27;first&#x27;,\n",
       "                                                                sparse_output=False))]),\n",
       "                                 [])])</pre></div> </div></div><div class=\"sk-parallel\"><div class=\"sk-parallel-item\"><div class=\"sk-item\"><div class=\"sk-label-container\"><div class=\"sk-label fitted sk-toggleable\"><input class=\"sk-toggleable__control sk-hidden--visually\" id=\"sk-estimator-id-14\" type=\"checkbox\" ><label for=\"sk-estimator-id-14\" class=\"sk-toggleable__label fitted sk-toggleable__label-arrow\"><div><div>num</div></div></label><div class=\"sk-toggleable__content fitted\"><pre>[&#x27;total_quantity&#x27;, &#x27;mean_price&#x27;, &#x27;total_spent&#x27;, &#x27;unique_dates&#x27;, &#x27;days_since_last_purchase&#x27;, &#x27;customer_lifetime&#x27;, &#x27;click_count&#x27;, &#x27;purchase_count&#x27;, &#x27;send_count&#x27;, &#x27;open_count&#x27;, &#x27;hard_bounce_count&#x27;, &#x27;unsubscribe_count&#x27;, &#x27;complain_count&#x27;, &#x27;subscribe_count&#x27;, &#x27;email_count&#x27;, &#x27;mobile_push_count&#x27;]</pre></div> </div></div><div class=\"sk-serial\"><div class=\"sk-item\"><div class=\"sk-serial\"><div class=\"sk-item\"><div class=\"sk-estimator fitted sk-toggleable\"><input class=\"sk-toggleable__control sk-hidden--visually\" id=\"sk-estimator-id-15\" type=\"checkbox\" ><label for=\"sk-estimator-id-15\" class=\"sk-toggleable__label fitted sk-toggleable__label-arrow\"><div><div>SimpleImputer</div></div><div><a class=\"sk-estimator-doc-link fitted\" rel=\"noreferrer\" target=\"_blank\" href=\"https://scikit-learn.org/1.6/modules/generated/sklearn.impute.SimpleImputer.html\">?<span>Documentation for SimpleImputer</span></a></div></label><div class=\"sk-toggleable__content fitted\"><pre>SimpleImputer(strategy=&#x27;median&#x27;)</pre></div> </div></div><div class=\"sk-item\"><div class=\"sk-estimator fitted sk-toggleable\"><input class=\"sk-toggleable__control sk-hidden--visually\" id=\"sk-estimator-id-16\" type=\"checkbox\" ><label for=\"sk-estimator-id-16\" class=\"sk-toggleable__label fitted sk-toggleable__label-arrow\"><div><div>StandardScaler</div></div><div><a class=\"sk-estimator-doc-link fitted\" rel=\"noreferrer\" target=\"_blank\" href=\"https://scikit-learn.org/1.6/modules/generated/sklearn.preprocessing.StandardScaler.html\">?<span>Documentation for StandardScaler</span></a></div></label><div class=\"sk-toggleable__content fitted\"><pre>StandardScaler()</pre></div> </div></div></div></div></div></div></div><div class=\"sk-parallel-item\"><div class=\"sk-item\"><div class=\"sk-label-container\"><div class=\"sk-label fitted sk-toggleable\"><input class=\"sk-toggleable__control sk-hidden--visually\" id=\"sk-estimator-id-17\" type=\"checkbox\" ><label for=\"sk-estimator-id-17\" class=\"sk-toggleable__label fitted sk-toggleable__label-arrow\"><div><div>cat</div></div></label><div class=\"sk-toggleable__content fitted\"><pre>[]</pre></div> </div></div><div class=\"sk-serial\"><div class=\"sk-item\"><div class=\"sk-serial\"><div class=\"sk-item\"><div class=\"sk-estimator fitted sk-toggleable\"><input class=\"sk-toggleable__control sk-hidden--visually\" id=\"sk-estimator-id-18\" type=\"checkbox\" ><label for=\"sk-estimator-id-18\" class=\"sk-toggleable__label fitted sk-toggleable__label-arrow\"><div><div>SimpleImputer</div></div><div><a class=\"sk-estimator-doc-link fitted\" rel=\"noreferrer\" target=\"_blank\" href=\"https://scikit-learn.org/1.6/modules/generated/sklearn.impute.SimpleImputer.html\">?<span>Documentation for SimpleImputer</span></a></div></label><div class=\"sk-toggleable__content fitted\"><pre>SimpleImputer(fill_value=&#x27;missing&#x27;, strategy=&#x27;constant&#x27;)</pre></div> </div></div><div class=\"sk-item\"><div class=\"sk-estimator fitted sk-toggleable\"><input class=\"sk-toggleable__control sk-hidden--visually\" id=\"sk-estimator-id-19\" type=\"checkbox\" ><label for=\"sk-estimator-id-19\" class=\"sk-toggleable__label fitted sk-toggleable__label-arrow\"><div><div>OneHotEncoder</div></div><div><a class=\"sk-estimator-doc-link fitted\" rel=\"noreferrer\" target=\"_blank\" href=\"https://scikit-learn.org/1.6/modules/generated/sklearn.preprocessing.OneHotEncoder.html\">?<span>Documentation for OneHotEncoder</span></a></div></label><div class=\"sk-toggleable__content fitted\"><pre>OneHotEncoder(drop=&#x27;first&#x27;, sparse_output=False)</pre></div> </div></div></div></div></div></div></div><div class=\"sk-parallel-item\"><div class=\"sk-item\"><div class=\"sk-label-container\"><div class=\"sk-label fitted sk-toggleable\"><input class=\"sk-toggleable__control sk-hidden--visually\" id=\"sk-estimator-id-20\" type=\"checkbox\" ><label for=\"sk-estimator-id-20\" class=\"sk-toggleable__label fitted sk-toggleable__label-arrow\"><div><div>remainder</div></div></label><div class=\"sk-toggleable__content fitted\"><pre>[&#x27;category_124&#x27;, &#x27;category_146&#x27;, &#x27;category_17&#x27;, &#x27;category_18&#x27;, &#x27;category_2&#x27;, &#x27;category_212&#x27;, &#x27;category_213&#x27;, &#x27;category_218&#x27;, &#x27;category_244&#x27;, &#x27;category_249&#x27;, &#x27;category_258&#x27;, &#x27;category_260&#x27;, &#x27;category_27&#x27;, &#x27;category_275&#x27;, &#x27;category_28&#x27;, &#x27;category_29&#x27;, &#x27;category_290&#x27;, &#x27;category_31&#x27;, &#x27;category_324&#x27;, &#x27;category_326&#x27;, &#x27;category_343&#x27;, &#x27;category_344&#x27;, &#x27;category_4&#x27;, &#x27;category_415&#x27;, &#x27;category_420&#x27;, &#x27;category_421&#x27;, &#x27;category_422&#x27;, &#x27;category_425&#x27;, &#x27;category_431&#x27;, &#x27;category_432&#x27;, &#x27;category_436&#x27;, &#x27;category_441&#x27;, &#x27;category_445&#x27;, &#x27;category_49&#x27;, &#x27;category_505&#x27;, &#x27;category_548&#x27;, &#x27;category_5536&#x27;, &#x27;category_5562&#x27;, &#x27;category_5589&#x27;, &#x27;category_5630&#x27;, &#x27;category_5631&#x27;, &#x27;category_5633&#x27;, &#x27;category_5634&#x27;, &#x27;category_57&#x27;, &#x27;category_58&#x27;, &#x27;category_6058&#x27;, &#x27;category_6060&#x27;, &#x27;category_61&#x27;, &#x27;category_62&#x27;, &#x27;category_656&#x27;, &#x27;category_657&#x27;, &#x27;category_673&#x27;, &#x27;in_cluster_1&#x27;, &#x27;in_cluster_2&#x27;, &#x27;in_cluster_3&#x27;, &#x27;in_cluster_4&#x27;, &#x27;in_cluster_5&#x27;, &#x27;in_cluster_6&#x27;, &#x27;in_cluster_7&#x27;, &#x27;in_cluster_8&#x27;, &#x27;in_cluster_9&#x27;, &#x27;in_cluster_10&#x27;]</pre></div> </div></div><div class=\"sk-serial\"><div class=\"sk-item\"><div class=\"sk-estimator fitted sk-toggleable\"><input class=\"sk-toggleable__control sk-hidden--visually\" id=\"sk-estimator-id-21\" type=\"checkbox\" ><label for=\"sk-estimator-id-21\" class=\"sk-toggleable__label fitted sk-toggleable__label-arrow\"><div><div>passthrough</div></div></label><div class=\"sk-toggleable__content fitted\"><pre>passthrough</pre></div> </div></div></div></div></div></div></div><div class=\"sk-item\"><div class=\"sk-estimator fitted sk-toggleable\"><input class=\"sk-toggleable__control sk-hidden--visually\" id=\"sk-estimator-id-22\" type=\"checkbox\" ><label for=\"sk-estimator-id-22\" class=\"sk-toggleable__label fitted sk-toggleable__label-arrow\"><div><div>CatBoostClassifier</div></div></label><div class=\"sk-toggleable__content fitted\"><pre>&lt;catboost.core.CatBoostClassifier object at 0x000001FF05EEB8D0&gt;</pre></div> </div></div></div></div></div></div>"
      ],
      "text/plain": [
       "Pipeline(steps=[('preprocessor',\n",
       "                 ColumnTransformer(remainder='passthrough',\n",
       "                                   transformers=[('num',\n",
       "                                                  Pipeline(steps=[('imputer',\n",
       "                                                                   SimpleImputer(strategy='median')),\n",
       "                                                                  ('scaler',\n",
       "                                                                   StandardScaler())]),\n",
       "                                                  ['total_quantity',\n",
       "                                                   'mean_price', 'total_spent',\n",
       "                                                   'unique_dates',\n",
       "                                                   'days_since_last_purchase',\n",
       "                                                   'customer_lifetime',\n",
       "                                                   'click_count',\n",
       "                                                   'purchase_count',\n",
       "                                                   'send_count', 'open_count',\n",
       "                                                   'hard_bounce_count',\n",
       "                                                   'unsubscribe_count',\n",
       "                                                   'complain_count',\n",
       "                                                   'subscribe_count',\n",
       "                                                   'email_count',\n",
       "                                                   'mobile_push_count']),\n",
       "                                                 ('cat',\n",
       "                                                  Pipeline(steps=[('imputer',\n",
       "                                                                   SimpleImputer(fill_value='missing',\n",
       "                                                                                 strategy='constant')),\n",
       "                                                                  ('onehot',\n",
       "                                                                   OneHotEncoder(drop='first',\n",
       "                                                                                 sparse_output=False))]),\n",
       "                                                  [])])),\n",
       "                ('classifier',\n",
       "                 <catboost.core.CatBoostClassifier object at 0x000001FF05EEB8D0>)])"
      ]
     },
     "execution_count": 214,
     "metadata": {},
     "output_type": "execute_result"
    }
   ],
   "source": [
    "final_pipeline.fit(X_train, y_train)"
   ]
  },
  {
   "cell_type": "markdown",
   "metadata": {},
   "source": [
    "###  Feature Importance"
   ]
  },
  {
   "cell_type": "code",
   "execution_count": 215,
   "metadata": {},
   "outputs": [
    {
     "data": {
      "image/png": "[encoded data removed]",
      "text/plain": [
       "<Figure size 1000x600 with 1 Axes>"
      ]
     },
     "metadata": {},
     "output_type": "display_data"
    }
   ],
   "source": [
    "# Получаем модель CatBoost из пайплайна\n",
    "catboost_model = final_pipeline.named_steps['classifier']\n",
    "\n",
    "# Получение Feature Importance \n",
    "feature_importance = catboost_model.get_feature_importance()\n",
    "feature_names = final_pipeline.named_steps['preprocessor'].get_feature_names_out()\n",
    "\n",
    "# Создаем датафрейм с важностью признаков\n",
    "importance_df = pd.DataFrame({\n",
    "    'Feature': feature_names,\n",
    "    'Importance': feature_importance\n",
    "})\n",
    "importance_df = importance_df.sort_values('Importance', ascending=False)\n",
    "\n",
    "# Визуализация\n",
    "plt.figure(figsize=(10, 6))\n",
    "sns.barplot(data=importance_df.head(20), x='Importance', y='Feature')\n",
    "plt.title('Top 20 Feature Importance')\n",
    "plt.xticks(rotation=45)\n",
    "plt.tight_layout()\n",
    "plt.show()"
   ]
  },
  {
   "cell_type": "markdown",
   "metadata": {},
   "source": [
    "### <a id='toc1_7_1_'></a>[Показатели модели на Train](#toc0_)"
   ]
  },
  {
   "cell_type": "code",
   "execution_count": 216,
   "metadata": {},
   "outputs": [],
   "source": [
    "y_pred = final_pipeline.predict(X_train)\n",
    "y_proba = final_pipeline.predict_proba(X_train)\n",
    "y_proba_positive = final_pipeline.predict_proba(X_train)[:, 1]\n",
    "\n",
    "probs_df = pd.DataFrame({\n",
    "    'true_label': y_train,\n",
    "    'predicted_prob': y_proba_positive\n",
    "})\n",
    "\n",
    "\n",
    "\n",
    "\n"
   ]
  },
  {
   "cell_type": "code",
   "execution_count": 217,
   "metadata": {},
   "outputs": [
    {
     "name": "stdout",
     "output_type": "stream",
     "text": [
      "AUC Score: 0.777\n",
      "\n",
      "Classification Report:\n",
      "              precision    recall  f1-score   support\n",
      "\n",
      "           0       0.98      1.00      0.99     29332\n",
      "           1       0.30      0.09      0.14       577\n",
      "\n",
      "    accuracy                           0.98     29909\n",
      "   macro avg       0.64      0.54      0.57     29909\n",
      "weighted avg       0.97      0.98      0.97     29909\n",
      "\n"
     ]
    },
    {
     "data": {
      "text/plain": [
       "<Figure size 1000x800 with 0 Axes>"
      ]
     },
     "metadata": {},
     "output_type": "display_data"
    },
    {
     "data": {
      "image/png": "[encoded data removed]",
      "text/plain": [
       "<Figure size 640x480 with 2 Axes>"
      ]
     },
     "metadata": {},
     "output_type": "display_data"
    },
    {
     "data": {
      "image/png": "[encoded data removed]",
      "text/plain": [
       "<Figure size 1000x800 with 1 Axes>"
      ]
     },
     "metadata": {},
     "output_type": "display_data"
    }
   ],
   "source": [
    "\n",
    "auc_score = roc_auc_score(y_train, y_proba_positive)\n",
    "conf_matrix = confusion_matrix(y_train, y_pred)\n",
    "\n",
    "\n",
    "print(f'AUC Score: {auc_score:.3f}\\n')\n",
    "print('Classification Report:')\n",
    "print(classification_report(y_train, y_pred))\n",
    "\n",
    "\n",
    "plt.figure(figsize=(10, 8))\n",
    "ConfusionMatrixDisplay(\n",
    "    confusion_matrix=conf_matrix,\n",
    "    display_labels=['Class 0', 'Class 1']\n",
    ").plot(cmap='Blues', values_format='d')\n",
    "plt.title('Confusion Matrix')\n",
    "plt.grid(False)\n",
    "\n",
    "\n",
    "plt.figure(figsize=(10, 8))\n",
    "fpr, tpr, _ = roc_curve(y_train, y_proba_positive)\n",
    "plt.plot(fpr, tpr, label=f'ROC curve (AUC = {auc_score:.3f})')\n",
    "plt.plot([0, 1], [0, 1], 'k--', label='Random')\n",
    "plt.xlabel('False Positive Rate')\n",
    "plt.ylabel('True Positive Rate')\n",
    "plt.title('ROC Curve')\n",
    "plt.legend()\n",
    "plt.grid(True)\n",
    "plt.show()"
   ]
  },
  {
   "cell_type": "markdown",
   "metadata": {},
   "source": [
    "На Train модель показывает результат 0.77\n",
    "Это позволяет сказать, что модель предсказывает вероятность того, что клиент совершит покупки заметно лучше, чем случайная догадка.\n",
    "\n",
    "В то же время, confusion матрица показывает, что точность модели возникает в первую очередь за счет того. что она хорошо различает тех клиентов, которые не вернутся за покупками. В отношении этого класса у модели высок как precision, так и recall\n",
    "\n",
    "Заметно хуже дела обстоят с предсказанием клиентов, которые совершает покупку.\n",
    "\n",
    "При пороге классификации по умолчанию модель не смогла распознать абсолютное большинство покупателей. На каждого десятого \"пропущенного\" покупателя приходится только 1 верно угаданный. \n",
    "\n"
   ]
  },
  {
   "cell_type": "code",
   "execution_count": 218,
   "metadata": {},
   "outputs": [
    {
     "name": "stdout",
     "output_type": "stream",
     "text": [
      "Classification Report:\n",
      "              precision    recall  f1-score   support\n",
      "\n",
      "           0       0.99      0.90      0.94     29332\n",
      "           1       0.08      0.46      0.14       577\n",
      "\n",
      "    accuracy                           0.89     29909\n",
      "   macro avg       0.54      0.68      0.54     29909\n",
      "weighted avg       0.97      0.89      0.93     29909\n",
      "\n"
     ]
    },
    {
     "data": {
      "text/plain": [
       "<Figure size 1000x800 with 0 Axes>"
      ]
     },
     "metadata": {},
     "output_type": "display_data"
    },
    {
     "data": {
      "image/png": "[encoded data removed]",
      "text/plain": [
       "<Figure size 640x480 with 2 Axes>"
      ]
     },
     "metadata": {},
     "output_type": "display_data"
    }
   ],
   "source": [
    "threshold = 0.2\n",
    "y_pred = (y_proba_positive >= threshold).astype(int)\n",
    "\n",
    "print('Classification Report:')\n",
    "print(classification_report(y_train, y_pred))\n",
    "\n",
    "\n",
    "conf_matrix = confusion_matrix(y_train, y_pred)\n",
    "\n",
    "plt.figure(figsize=(10, 8))\n",
    "ConfusionMatrixDisplay(\n",
    "    confusion_matrix=conf_matrix,\n",
    "    display_labels=['Class 0', 'Class 1']\n",
    ").plot(cmap='Blues', values_format='d')\n",
    "plt.title('Confusion Matrix')\n",
    "plt.grid(False)"
   ]
  },
  {
   "cell_type": "markdown",
   "metadata": {},
   "source": [
    "При установлении кастомного порога для классификации модель способна различать положительный случаи гораздо лучше.\n",
    "\n",
    "Так, при пороге классификации 0.2 уже каждый второй покупатель верно распознается моделью.\n",
    "Однако достигается это ценой заметного увеличение ложно положительных результатов\n",
    "\n",
    "Однако необходимо рассмотреть эти результаты с точки зрения бизнеса.\n",
    "\n",
    "Верно распознанные покупатели является ядерными клиентами. \n",
    "Можно сказать, что эти клиенты предсказуемые и понятные в условиях бизнеса. Можно рассчитывать на их возвращение при сохранении текущих бизнес-процессов. \n",
    "\n",
    "Клиенты, которых не удалось распознать даже при снижении порога являются \"черными ящиками\". Без улучшения модели нет возможности понимать за счет чего они вернулись. В рамках дальнешего исследования это хорошие кандидаты в том числе для качественного исследования, которое могло бы дать идеи для улучшения модели, так и для того, какие данные необходимо собирать\n",
    "\n",
    "Наиболее интересная группа - это ложноположительные клиенты. С одной стороны, такие клиенты не совершили покупок, несмотря на то, что модель оценила их как потенциальных покупателей. С другой стороны, это значит, что они обладают схожими характеристиками с теми людьми, которые покупки все-таки совершили.\n",
    "Возможно, таких клиентов можно воспринимать как потенциальных клиентов - и сфокусироваться на привлечении именно этих клиентов и разработке предложений под них.\n"
   ]
  },
  {
   "cell_type": "markdown",
   "metadata": {},
   "source": [
    "### <a id='toc1_7_2_'></a>[Показатели модели на Validation](#toc0_)"
   ]
  },
  {
   "cell_type": "code",
   "execution_count": 219,
   "metadata": {},
   "outputs": [],
   "source": [
    "y_pred = final_pipeline.predict(X_val)\n",
    "y_proba = final_pipeline.predict_proba(X_val)\n",
    "y_proba_positive = final_pipeline.predict_proba(X_val)[:, 1]"
   ]
  },
  {
   "cell_type": "code",
   "execution_count": 220,
   "metadata": {},
   "outputs": [
    {
     "name": "stdout",
     "output_type": "stream",
     "text": [
      "AUC Score: 0.770\n",
      "\n",
      "Classification Report:\n",
      "              precision    recall  f1-score   support\n",
      "\n",
      "           0       0.98      1.00      0.99      9778\n",
      "           1       0.19      0.05      0.08       192\n",
      "\n",
      "    accuracy                           0.98      9970\n",
      "   macro avg       0.59      0.52      0.54      9970\n",
      "weighted avg       0.97      0.98      0.97      9970\n",
      "\n"
     ]
    },
    {
     "data": {
      "text/plain": [
       "<Figure size 1000x800 with 0 Axes>"
      ]
     },
     "metadata": {},
     "output_type": "display_data"
    },
    {
     "data": {
      "image/png": "[encoded data removed]",
      "text/plain": [
       "<Figure size 640x480 with 2 Axes>"
      ]
     },
     "metadata": {},
     "output_type": "display_data"
    },
    {
     "data": {
      "image/png": "[encoded data removed]",
      "text/plain": [
       "<Figure size 1000x800 with 1 Axes>"
      ]
     },
     "metadata": {},
     "output_type": "display_data"
    }
   ],
   "source": [
    "\n",
    "auc_score = roc_auc_score(y_val, y_proba_positive)\n",
    "conf_matrix = confusion_matrix(y_val, y_pred)\n",
    "\n",
    "\n",
    "print(f'AUC Score: {auc_score:.3f}\\n')\n",
    "print('Classification Report:')\n",
    "print(classification_report(y_val, y_pred))\n",
    "\n",
    "\n",
    "plt.figure(figsize=(10, 8))\n",
    "ConfusionMatrixDisplay(\n",
    "    confusion_matrix=conf_matrix,\n",
    "    display_labels=['Class 0', 'Class 1']\n",
    ").plot(cmap='Blues', values_format='d')\n",
    "plt.title('Confusion Matrix')\n",
    "plt.grid(False)\n",
    "\n",
    "\n",
    "plt.figure(figsize=(10, 8))\n",
    "fpr, tpr, _ = roc_curve(y_val, y_proba_positive)\n",
    "plt.plot(fpr, tpr, label=f'ROC curve (AUC = {auc_score:.3f})')\n",
    "plt.plot([0, 1], [0, 1], 'k--', label='Random')\n",
    "plt.xlabel('False Positive Rate')\n",
    "plt.ylabel('True Positive Rate')\n",
    "plt.title('ROC Curve')\n",
    "plt.legend()\n",
    "plt.grid(True)\n",
    "plt.show()"
   ]
  },
  {
   "cell_type": "markdown",
   "metadata": {},
   "source": [
    "Работа модели на валидации почти идентична такой на тренировочной выборке. Оверфита не наблюдается"
   ]
  },
  {
   "cell_type": "markdown",
   "metadata": {},
   "source": [
    "### <a id='toc1_7_3_'></a>[Показатели модели на Test](#toc0_)"
   ]
  },
  {
   "cell_type": "code",
   "execution_count": 221,
   "metadata": {},
   "outputs": [],
   "source": [
    "y_pred = final_pipeline.predict(X_test)\n",
    "y_proba = final_pipeline.predict_proba(X_test)\n",
    "y_proba_positive = final_pipeline.predict_proba(X_test)[:, 1]"
   ]
  },
  {
   "cell_type": "code",
   "execution_count": 222,
   "metadata": {},
   "outputs": [
    {
     "name": "stdout",
     "output_type": "stream",
     "text": [
      "AUC Score: 0.760\n",
      "\n",
      "Classification Report:\n",
      "              precision    recall  f1-score   support\n",
      "\n",
      "           0       0.98      1.00      0.99      9778\n",
      "           1       0.18      0.04      0.07       192\n",
      "\n",
      "    accuracy                           0.98      9970\n",
      "   macro avg       0.58      0.52      0.53      9970\n",
      "weighted avg       0.97      0.98      0.97      9970\n",
      "\n"
     ]
    },
    {
     "data": {
      "text/plain": [
       "<Figure size 1000x800 with 0 Axes>"
      ]
     },
     "metadata": {},
     "output_type": "display_data"
    },
    {
     "data": {
      "image/png": "[encoded data removed]",
      "text/plain": [
       "<Figure size 640x480 with 2 Axes>"
      ]
     },
     "metadata": {},
     "output_type": "display_data"
    },
    {
     "data": {
      "image/png": "[encoded data removed]",
      "text/plain": [
       "<Figure size 1000x800 with 1 Axes>"
      ]
     },
     "metadata": {},
     "output_type": "display_data"
    }
   ],
   "source": [
    "\n",
    "auc_score = roc_auc_score(y_test, y_proba_positive)\n",
    "conf_matrix = confusion_matrix(y_test, y_pred)\n",
    "\n",
    "\n",
    "print(f'AUC Score: {auc_score:.3f}\\n')\n",
    "print('Classification Report:')\n",
    "print(classification_report(y_test, y_pred))\n",
    "\n",
    "\n",
    "plt.figure(figsize=(10, 8))\n",
    "ConfusionMatrixDisplay(\n",
    "    confusion_matrix=conf_matrix,\n",
    "    display_labels=['Class 0', 'Class 1']\n",
    ").plot(cmap='Blues', values_format='d')\n",
    "plt.title('Confusion Matrix')\n",
    "plt.grid(False)\n",
    "\n",
    "\n",
    "plt.figure(figsize=(10, 8))\n",
    "fpr, tpr, _ = roc_curve(y_test, y_proba_positive)\n",
    "plt.plot(fpr, tpr, label=f'ROC curve (AUC = {auc_score:.3f})')\n",
    "plt.plot([0, 1], [0, 1], 'k--', label='Random')\n",
    "plt.xlabel('False Positive Rate')\n",
    "plt.ylabel('True Positive Rate')\n",
    "plt.title('ROC Curve')\n",
    "plt.legend()\n",
    "plt.grid(True)\n",
    "plt.show()"
   ]
  },
  {
   "cell_type": "markdown",
   "metadata": {},
   "source": [
    "Итоговая метрика модели на тесте - 0.76"
   ]
  }
 ],
 "metadata": {
  "kernelspec": {
   "display_name": ".venv",
   "language": "python",
   "name": "python3"
  },
  "language_info": {
   "codemirror_mode": {
    "name": "ipython",
    "version": 3
   },
   "file_extension": ".py",
   "mimetype": "text/x-python",
   "name": "python",
   "nbconvert_exporter": "python",
   "pygments_lexer": "ipython3",
   "version": "3.11.3"
  }
 },
 "nbformat": 4,
 "nbformat_minor": 2
}
