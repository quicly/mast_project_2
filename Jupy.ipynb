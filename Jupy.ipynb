{
 "cells": [
  {
   "cell_type": "markdown",
   "metadata": {},
   "source": [
    "# Описание проекта"
   ]
  },
  {
   "cell_type": "code",
   "execution_count": null,
   "metadata": {},
   "outputs": [],
   "source": []
  },
  {
   "cell_type": "markdown",
   "metadata": {},
   "source": [
    "## импорт Библиотек"
   ]
  },
  {
   "cell_type": "code",
   "execution_count": 53,
   "metadata": {},
   "outputs": [],
   "source": [
    "from ast import literal_eval\n",
    "\n",
    "\n",
    "import numpy as np\n",
    "import pandas as pd\n",
    "import matplotlib.pyplot as plt\n",
    "import seaborn as sns\n",
    "\n",
    "\n",
    "from scipy import stats\n",
    "from scipy.stats import uniform, randint, loguniform\n",
    "\n",
    "\n",
    "from sklearn.cluster import KMeans\n",
    "from sklearn.compose import ColumnTransformer\n",
    "from sklearn.impute import SimpleImputer\n",
    "from sklearn.linear_model import (\n",
    "    LinearRegression,\n",
    "    LogisticRegression\n",
    ")\n",
    "from sklearn.model_selection import (\n",
    "    cross_val_score,\n",
    "    GridSearchCV,\n",
    "    RandomizedSearchCV,\n",
    "    train_test_split\n",
    ")\n",
    "from sklearn.pipeline import Pipeline\n",
    "from sklearn.preprocessing import (\n",
    "    OneHotEncoder,\n",
    "    StandardScaler\n",
    ")\n",
    "from sklearn.tree import DecisionTreeClassifier, DecisionTreeRegressor\n",
    "\n",
    "\n",
    "from catboost import CatBoostClassifier\n",
    "from lightgbm import LGBMClassifier\n",
    "\n",
    "\n",
    "import optuna\n",
    "\n",
    "\n",
    "from sklearn.metrics import (\n",
    "    confusion_matrix, \n",
    "    ConfusionMatrixDisplay,\n",
    "    classification_report,\n",
    "    roc_auc_score, \n",
    "    roc_curve\n",
    ")\n",
    "\n",
    "\n",
    "import phik\n",
    "from phik import report\n"
   ]
  },
  {
   "cell_type": "markdown",
   "metadata": {},
   "source": [
    "## Импорт Датасетов"
   ]
  },
  {
   "cell_type": "code",
   "execution_count": 2,
   "metadata": {},
   "outputs": [],
   "source": [
    "apparel_purchases = pd.read_csv(\"filtered_data/apparel-purchases.csv\")\n",
    "\n",
    "apparel_messages = pd.read_csv(\"filtered_data/apparel-messages.csv\")\n",
    "\n",
    "target = pd.read_csv(\"filtered_data/apparel-target_binary.csv\")\n",
    "\n",
    "full_campaign_daily_event = pd.read_csv(\"filtered_data/full_campaign_daily_event.csv\")\n",
    "\n",
    "full_campaign_daily_event_channel = pd.read_csv(\"filtered_data/full_campaign_daily_event_channel.csv\")"
   ]
  },
  {
   "cell_type": "markdown",
   "metadata": {},
   "source": [
    "## Информация про apparel_purchases"
   ]
  },
  {
   "cell_type": "code",
   "execution_count": 8,
   "metadata": {},
   "outputs": [
    {
     "name": "stdout",
     "output_type": "stream",
     "text": [
      "<class 'pandas.core.frame.DataFrame'>\n",
      "RangeIndex: 202208 entries, 0 to 202207\n",
      "Data columns (total 6 columns):\n",
      " #   Column        Non-Null Count   Dtype  \n",
      "---  ------        --------------   -----  \n",
      " 0   client_id     202208 non-null  int64  \n",
      " 1   quantity      202208 non-null  int64  \n",
      " 2   price         202208 non-null  float64\n",
      " 3   category_ids  202208 non-null  object \n",
      " 4   date          202208 non-null  object \n",
      " 5   message_id    202208 non-null  object \n",
      "dtypes: float64(1), int64(2), object(3)\n",
      "memory usage: 9.3+ MB\n"
     ]
    }
   ],
   "source": [
    "apparel_purchases.info()"
   ]
  },
  {
   "cell_type": "code",
   "execution_count": 9,
   "metadata": {},
   "outputs": [
    {
     "data": {
      "text/plain": [
       "49849"
      ]
     },
     "execution_count": 9,
     "metadata": {},
     "output_type": "execute_result"
    }
   ],
   "source": [
    "apparel_purchases[\"client_id\"].nunique()"
   ]
  },
  {
   "cell_type": "code",
   "execution_count": null,
   "metadata": {},
   "outputs": [],
   "source": []
  },
  {
   "cell_type": "markdown",
   "metadata": {},
   "source": [
    "49849 Уникальных id"
   ]
  },
  {
   "cell_type": "code",
   "execution_count": 10,
   "metadata": {},
   "outputs": [
    {
     "data": {
      "text/plain": [
       "73020"
      ]
     },
     "execution_count": 10,
     "metadata": {},
     "output_type": "execute_result"
    }
   ],
   "source": [
    "apparel_purchases.duplicated().sum()"
   ]
  },
  {
   "cell_type": "markdown",
   "metadata": {},
   "source": [
    "Есть 73020 дубликатов. Однако мы не можем быть уверены - это настоящие дубликаты или повторяющиеся покупки одного товара\n"
   ]
  },
  {
   "cell_type": "code",
   "execution_count": 11,
   "metadata": {},
   "outputs": [
    {
     "data": {
      "text/plain": [
       "quantity\n",
       "1     201323\n",
       "2        751\n",
       "3         94\n",
       "4         12\n",
       "6          5\n",
       "10         4\n",
       "20         3\n",
       "15         3\n",
       "5          3\n",
       "25         2\n",
       "30         2\n",
       "9          2\n",
       "13         1\n",
       "18         1\n",
       "8          1\n",
       "7          1\n",
       "Name: count, dtype: int64"
      ]
     },
     "execution_count": 11,
     "metadata": {},
     "output_type": "execute_result"
    }
   ],
   "source": [
    "apparel_purchases[\"quantity\"].value_counts()\n"
   ]
  },
  {
   "cell_type": "markdown",
   "metadata": {},
   "source": [
    "Видим, что абсолютно большинство записей указывают на покупку одной единицы товара. Будем исходить из того, что единовременная покупка более одной единицы попадает в базу отдельными рядами. К сожалению, остается непроясненным остается, в каких условиях все же будет логироваться более одной единицы\n",
    "\n",
    "Дубликаты сохраняем в датасете"
   ]
  },
  {
   "cell_type": "code",
   "execution_count": 12,
   "metadata": {},
   "outputs": [
    {
     "data": {
      "text/plain": [
       "client_id       0\n",
       "quantity        0\n",
       "price           0\n",
       "category_ids    0\n",
       "date            0\n",
       "message_id      0\n",
       "dtype: int64"
      ]
     },
     "execution_count": 12,
     "metadata": {},
     "output_type": "execute_result"
    }
   ],
   "source": [
    "apparel_purchases.isna().sum()"
   ]
  },
  {
   "cell_type": "markdown",
   "metadata": {},
   "source": [
    "Пропущенных значений нет"
   ]
  },
  {
   "cell_type": "code",
   "execution_count": 13,
   "metadata": {},
   "outputs": [
    {
     "data": {
      "text/plain": [
       "count    202208.000000\n",
       "mean       1193.301516\n",
       "std        1342.252664\n",
       "min           1.000000\n",
       "25%         352.000000\n",
       "50%         987.000000\n",
       "75%        1699.000000\n",
       "max       85499.000000\n",
       "Name: price, dtype: float64"
      ]
     },
     "execution_count": 13,
     "metadata": {},
     "output_type": "execute_result"
    }
   ],
   "source": [
    "apparel_purchases[\"price\"].describe()\n"
   ]
  },
  {
   "cell_type": "code",
   "execution_count": 14,
   "metadata": {},
   "outputs": [
    {
     "data": {
      "text/plain": [
       "<Axes: xlabel='price', ylabel='Count'>"
      ]
     },
     "execution_count": 14,
     "metadata": {},
     "output_type": "execute_result"
    },
    {
     "data": {
      "image/png": "[encoded data removed]",
      "text/plain": [
       "<Figure size 640x480 with 1 Axes>"
      ]
     },
     "metadata": {},
     "output_type": "display_data"
    }
   ],
   "source": [
    "sns.histplot(data = apparel_purchases, x = \"price\")"
   ]
  },
  {
   "cell_type": "markdown",
   "metadata": {},
   "source": [
    "Болшая часть наблюдений находится в промежутке между 352 и 1699. Однако распределение очень сильно скошено вправо, из-за редких покупок чья цена заметно выше, чем цена остальных товаров"
   ]
  },
  {
   "cell_type": "code",
   "execution_count": 15,
   "metadata": {},
   "outputs": [
    {
     "data": {
      "text/plain": [
       "50204"
      ]
     },
     "execution_count": 15,
     "metadata": {},
     "output_type": "execute_result"
    }
   ],
   "source": [
    "apparel_purchases[\"message_id\"].nunique()\n"
   ]
  },
  {
   "cell_type": "markdown",
   "metadata": {},
   "source": [
    "50204 уникальных значений. Каждый пользователь мог получать более одной рассылки"
   ]
  },
  {
   "cell_type": "markdown",
   "metadata": {},
   "source": [
    "### Создание агрегированного набора"
   ]
  },
  {
   "cell_type": "code",
   "execution_count": 16,
   "metadata": {},
   "outputs": [],
   "source": [
    "result = apparel_purchases.groupby(\"client_id\").agg(\n",
    "    purchase_amount=('client_id', 'size'),\n",
    "    total_quantity = ('quantity', 'sum'),\n",
    "    mean_price=('price', 'mean'),\n",
    "    total_spent=('price', 'sum'),\n",
    "    unique_dates=('date', 'nunique'),\n",
    "    latest_date=('date', 'max'),\n",
    "    first_date = ('date', 'min'))\n",
    "\n",
    "\n",
    "\n",
    "apparel_purchases_agg = pd.DataFrame(result)"
   ]
  },
  {
   "cell_type": "code",
   "execution_count": 17,
   "metadata": {},
   "outputs": [
    {
     "name": "stdout",
     "output_type": "stream",
     "text": [
      "<class 'pandas.core.frame.DataFrame'>\n",
      "Index: 49849 entries, 1515915625468060902 to 1515915626010443624\n",
      "Data columns (total 7 columns):\n",
      " #   Column           Non-Null Count  Dtype  \n",
      "---  ------           --------------  -----  \n",
      " 0   purchase_amount  49849 non-null  int64  \n",
      " 1   total_quantity   49849 non-null  int64  \n",
      " 2   mean_price       49849 non-null  float64\n",
      " 3   total_spent      49849 non-null  float64\n",
      " 4   unique_dates     49849 non-null  int64  \n",
      " 5   latest_date      49849 non-null  object \n",
      " 6   first_date       49849 non-null  object \n",
      "dtypes: float64(2), int64(3), object(2)\n",
      "memory usage: 3.0+ MB\n"
     ]
    }
   ],
   "source": [
    "apparel_purchases_agg.info()"
   ]
  },
  {
   "cell_type": "markdown",
   "metadata": {},
   "source": [
    "### Преобразование category_ids"
   ]
  },
  {
   "cell_type": "code",
   "execution_count": 18,
   "metadata": {},
   "outputs": [],
   "source": [
    "def aggregate_categories(df):\n",
    "    # Проверяем наличие необходимых колонок\n",
    "    if 'client_id' not in df.columns or 'category_ids' not in df.columns:\n",
    "        raise ValueError(\"DataFrame должен содержать колонки 'client_id' и 'category_ids'\")\n",
    "    \n",
    "    def combine_categories(x):\n",
    "        try:\n",
    "            # Проверяем, что x не пустой\n",
    "            if x.empty:\n",
    "                return []\n",
    "                \n",
    "            # Преобразуем все значения в списки, если они еще не являются списками\n",
    "            all_items = []\n",
    "            for sublist in x:\n",
    "                if isinstance(sublist, str):\n",
    "                    # Если значение является строкой, пробуем его преобразовать\n",
    "                    try:\n",
    "                        sublist = eval(sublist)\n",
    "                    except:\n",
    "                        continue\n",
    "                if isinstance(sublist, list):\n",
    "                    all_items.extend([item for item in sublist if item is not None])\n",
    "                elif sublist is not None:\n",
    "                    all_items.append(sublist)\n",
    "            \n",
    "            # Возвращаем уникальные отсортированные значения\n",
    "            return sorted(list(set(all_items)))\n",
    "        except Exception as e:\n",
    "            print(f\"Ошибка при обработке данных: {e}\")\n",
    "            return []\n",
    "    \n",
    "    try:\n",
    "        result = df.groupby('client_id').agg({\n",
    "            'category_ids': combine_categories\n",
    "        }).reset_index()\n",
    "        \n",
    "        return result\n",
    "    except Exception as e:\n",
    "        print(f\"Ошибка при группировке данных: {e}\")\n",
    "        return None\n",
    "\n",
    "result_df = aggregate_categories(apparel_purchases)"
   ]
  },
  {
   "cell_type": "code",
   "execution_count": 19,
   "metadata": {},
   "outputs": [],
   "source": [
    "# Создаем функцию для преобразования списков категорий в one-hot-encoding\n",
    "def categories_to_one_hot(df):\n",
    "    # Разворачиваем список категорий в столбцы (используем 1 для обозначения наличия категории)\n",
    "    one_hot = pd.get_dummies(df['category_ids'].explode(), prefix='category')\n",
    "    \n",
    "    # Группируем обратно по индексу (client_id), используя максимальное значение\n",
    "    # чтобы получить 1, если категория была хотя бы раз\n",
    "    one_hot = one_hot.groupby(level=0).max()\n",
    "    \n",
    "    # Объединяем с исходным датафреймом\n",
    "    result = pd.concat([df.drop('category_ids', axis=1), one_hot], axis=1)\n",
    "    \n",
    "    return result\n",
    "\n",
    "# Применяем преобразование к нашему result_df\n",
    "result_one_hot = categories_to_one_hot(result_df)"
   ]
  },
  {
   "cell_type": "code",
   "execution_count": 20,
   "metadata": {},
   "outputs": [],
   "source": [
    "result_one_hot = result_one_hot.astype({col: 'int8' for col in result_one_hot.columns if col != 'client_id'})\n",
    "\n",
    "\n",
    "# Вычисляем процент единиц в каждой колонке categories\n",
    "# Берём только колонки, начинающиеся с 'category_'\n",
    "category_columns = result_one_hot.filter(like='category_').columns\n",
    "column_percentages = result_one_hot[category_columns].mean()\n",
    "\n",
    "# Отбираем колонки, где процент единиц больше 30% (0.3)\n",
    "columns_to_keep = column_percentages[column_percentages > 0.02].index\n",
    "\n",
    "# Формируем финальный датафрейм\n",
    "# Сохраняем client_id и отфильтрованные category колонки\n",
    "category_df = result_one_hot[['client_id'] + list(columns_to_keep)]"
   ]
  },
  {
   "cell_type": "code",
   "execution_count": 21,
   "metadata": {},
   "outputs": [],
   "source": [
    "apparel_purchases_agg = apparel_purchases_agg.merge(category_df, on=\"client_id\", how = \"left\")"
   ]
  },
  {
   "cell_type": "code",
   "execution_count": 22,
   "metadata": {},
   "outputs": [],
   "source": [
    "# 1. Конвертируем даты более эффективно одной операцией\n",
    "date_columns = ['latest_date', 'first_date']\n",
    "apparel_purchases_agg[date_columns] = apparel_purchases_agg[date_columns].apply(pd.to_datetime)\n",
    "\n",
    "# 2. Получаем общие границы времени\n",
    "overall_latest_date = pd.to_datetime(apparel_purchases['date']).max()\n",
    "overall_first_date = pd.to_datetime(apparel_purchases['date']).min()\n",
    "\n",
    "# 3. Считаем основные временные метрики\n",
    "apparel_purchases_agg = apparel_purchases_agg.assign(\n",
    "    # Recency (сколько дней прошло с последней покупки)\n",
    "    days_since_last_purchase=(overall_latest_date - apparel_purchases_agg['latest_date']).dt.days,\n",
    "    # Насколько давно клиент с нами\n",
    "    # Активный период клиента\n",
    "    customer_lifetime=(apparel_purchases_agg['latest_date'] - apparel_purchases_agg['first_date']).dt.days\n",
    ")\n"
   ]
  },
  {
   "cell_type": "markdown",
   "metadata": {},
   "source": [
    "## Кластеризация рассылок"
   ]
  },
  {
   "cell_type": "code",
   "execution_count": 23,
   "metadata": {},
   "outputs": [],
   "source": [
    "full_campaign_agg = full_campaign_daily_event.groupby(\"bulk_campaign_id\").agg(\n",
    "    campaign_duration = ('date', 'nunique'),\n",
    "    campaign_send = (\"count_send\", \"sum\"),\n",
    "    campaign_clicks = (\"count_click\", \"sum\"),\n",
    "    campaign_complain = (\"count_complain\", \"sum\"),\n",
    "    campaign_hard_bounce = (\"count_hard_bounce\", \"sum\"),\n",
    "    campaign_open = (\"count_open\", \"sum\"),\n",
    "    campaign_purchase = (\"count_purchase\", \"sum\"),\n",
    "    campaign_soft_bounce = (\"count_soft_bounce\", \"sum\"),\n",
    "    campaign_subscribe = (\"count_subscribe\", \"sum\"),\n",
    "    campaign_unsubscribe = (\"count_unsubscribe\", \"sum\")\n",
    ")\n",
    "\n",
    "\n",
    "columns_to_normalize = [\"campaign_clicks\", \"campaign_complain\", \n",
    "                       \"campaign_open\", \"campaign_purchase\",  \n",
    "                        \"campaign_unsubscribe\"]\n",
    "norming_column = \"campaign_duration\"\n",
    "\n",
    "for column in columns_to_normalize:\n",
    "    full_campaign_agg[column] = full_campaign_agg[column] / full_campaign_agg[norming_column]\n",
    "\n",
    "full_campaign_agg = full_campaign_agg.reset_index()"
   ]
  },
  {
   "cell_type": "code",
   "execution_count": 25,
   "metadata": {},
   "outputs": [],
   "source": [
    "# Create scaler object \n",
    "scaler = StandardScaler()\n",
    "\n",
    "# Select features for clustering\n",
    "clustering_features = [\"campaign_clicks\", \"campaign_complain\", \n",
    "                       \"campaign_open\", \"campaign_purchase\",  \n",
    "                        \"campaign_unsubscribe\"]\n",
    "full_campaign_agg_cluster_data = full_campaign_agg[clustering_features]\n",
    "\n",
    "# Scale the features\n",
    "scaled_data = scaler.fit_transform(full_campaign_agg_cluster_data)\n",
    "\n",
    "# Initialize and fit KMeans\n",
    "N_CLUST = 10\n",
    "\n",
    "kmeans = KMeans(n_clusters=N_CLUST, random_state=42)\n",
    "kmeans.fit(scaled_data)\n",
    "\n",
    "# Add cluster labels to original DataFrame\n",
    "full_campaign_agg['cluster'] = kmeans.labels_\n",
    "\n",
    "# Create binary columns for each cluster\n",
    "for i in range(N_CLUST):\n",
    "   full_campaign_agg[f'cluster_{i+1}'] = (full_campaign_agg['cluster'] == i).astype(int)\n",
    "\n",
    "# Drop the original cluster column if you don't need it"
   ]
  },
  {
   "cell_type": "markdown",
   "metadata": {},
   "source": [
    "## Изучение apparel_messages"
   ]
  },
  {
   "cell_type": "code",
   "execution_count": 35,
   "metadata": {},
   "outputs": [
    {
     "name": "stdout",
     "output_type": "stream",
     "text": [
      "<class 'pandas.core.frame.DataFrame'>\n",
      "RangeIndex: 12739798 entries, 0 to 12739797\n",
      "Data columns (total 7 columns):\n",
      " #   Column            Dtype \n",
      "---  ------            ----- \n",
      " 0   bulk_campaign_id  int64 \n",
      " 1   client_id         int64 \n",
      " 2   message_id        object\n",
      " 3   event             object\n",
      " 4   channel           object\n",
      " 5   date              object\n",
      " 6   created_at        object\n",
      "dtypes: int64(2), object(5)\n",
      "memory usage: 680.4+ MB\n"
     ]
    }
   ],
   "source": [
    "apparel_messages.info()"
   ]
  },
  {
   "cell_type": "code",
   "execution_count": 36,
   "metadata": {},
   "outputs": [
    {
     "data": {
      "text/plain": [
       "2709"
      ]
     },
     "execution_count": 36,
     "metadata": {},
     "output_type": "execute_result"
    }
   ],
   "source": [
    "apparel_messages[\"bulk_campaign_id\"].nunique()"
   ]
  },
  {
   "cell_type": "markdown",
   "metadata": {},
   "source": [
    "Всего было 2709 уникальных рассылки. ВЕроятность возвращения клиента может зависеть от \"качества\" рассылки, поэтому нужно будет учесть этот параметр, сократив количество комбинаций"
   ]
  },
  {
   "cell_type": "code",
   "execution_count": 37,
   "metadata": {},
   "outputs": [
    {
     "data": {
      "text/plain": [
       "53329"
      ]
     },
     "execution_count": 37,
     "metadata": {},
     "output_type": "execute_result"
    }
   ],
   "source": [
    "apparel_messages[\"client_id\"].nunique()"
   ]
  },
  {
   "cell_type": "code",
   "execution_count": 38,
   "metadata": {},
   "outputs": [
    {
     "name": "stdout",
     "output_type": "stream",
     "text": [
      "Общих client_id: 41982\n",
      "Уникальных client_id только в messages: 11347\n",
      "Уникальных client_id только в purchases: 7867\n"
     ]
    }
   ],
   "source": [
    "# Преобразуем столбцы client_id в множества\n",
    "messages_clients = set(apparel_messages['client_id'])\n",
    "purchases_clients = set(apparel_purchases['client_id'])\n",
    "\n",
    "# Находим общие значения (пересечение множеств)\n",
    "common_clients = messages_clients.intersection(purchases_clients)\n",
    "\n",
    "# Находим уникальные значения для каждого датасета\n",
    "only_messages = messages_clients - purchases_clients\n",
    "only_purchases = purchases_clients - messages_clients\n",
    "\n",
    "# Выводим результаты\n",
    "print(f\"Общих client_id: {len(common_clients)}\")\n",
    "print(f\"Уникальных client_id только в messages: {len(only_messages)}\")\n",
    "print(f\"Уникальных client_id только в purchases: {len(only_purchases)}\")"
   ]
  },
  {
   "cell_type": "markdown",
   "metadata": {},
   "source": [
    "Количество уникальных клиентов отличается от датасета с покупками и таргетом. Таких пользователей мы уберем при слиянии датасетов. Помимо этого есть пользователи, которые могли делать покупки, но у нас нет данных о получаемых ими рассылках. Таких пользователей мы в анализе сохраним и присвоим ими нули."
   ]
  },
  {
   "cell_type": "code",
   "execution_count": 39,
   "metadata": {},
   "outputs": [
    {
     "data": {
      "text/plain": [
       "event\n",
       "send           9058196\n",
       "open           3085820\n",
       "click           496339\n",
       "purchase         64679\n",
       "hard_bounce      19903\n",
       "soft_bounce      10583\n",
       "unsubscribe       2841\n",
       "hbq_spam           823\n",
       "complain           528\n",
       "subscribe           85\n",
       "close                1\n",
       "Name: count, dtype: int64"
      ]
     },
     "execution_count": 39,
     "metadata": {},
     "output_type": "execute_result"
    }
   ],
   "source": [
    "apparel_messages[\"event\"].value_counts()"
   ]
  },
  {
   "cell_type": "markdown",
   "metadata": {},
   "source": [
    "Видим, что по обобщенным данным логичная воронка. Количество значений снижается от общего события (отправка писем) к следующим события (открытое письмо, клик на письмо и покупка). Также часто встречаются ошибки отправки. Наиболее редки, но при этом скорее всего очень показатель - негативные события - отписка от рассылка, перемещение в спам"
   ]
  },
  {
   "cell_type": "code",
   "execution_count": 40,
   "metadata": {},
   "outputs": [
    {
     "data": {
      "text/plain": [
       "channel\n",
       "mobile_push    7512156\n",
       "email          5227642\n",
       "Name: count, dtype: int64"
      ]
     },
     "execution_count": 40,
     "metadata": {},
     "output_type": "execute_result"
    }
   ],
   "source": [
    "apparel_messages[\"channel\"].value_counts()"
   ]
  },
  {
   "cell_type": "markdown",
   "metadata": {},
   "source": [
    "Используются два канала - mobile_push и email. mobile_push чаще\n"
   ]
  },
  {
   "cell_type": "code",
   "execution_count": 41,
   "metadata": {},
   "outputs": [
    {
     "data": {
      "text/plain": [
       "channel      event      \n",
       "email        send           75.32\n",
       "             open           16.73\n",
       "             click           6.81\n",
       "             purchase        0.87\n",
       "             soft_bounce     0.18\n",
       "             unsubscribe     0.05\n",
       "             hbq_spam        0.02\n",
       "             complain        0.01\n",
       "             hard_bounce     0.01\n",
       "             subscribe       0.00\n",
       "mobile_push  send           68.17\n",
       "             open           29.43\n",
       "             click           1.86\n",
       "             hard_bounce     0.26\n",
       "             purchase        0.26\n",
       "             soft_bounce     0.01\n",
       "             close           0.00\n",
       "Name: proportion, dtype: float64"
      ]
     },
     "execution_count": 41,
     "metadata": {},
     "output_type": "execute_result"
    }
   ],
   "source": [
    "(apparel_messages.groupby(\"channel\")[\"event\"].value_counts(normalize=True) * 100).round(2)\n"
   ]
  },
  {
   "cell_type": "markdown",
   "metadata": {},
   "source": [
    "Видим, что открывают чаще мобильные пуши, но до покупок чаще доходят именно почтовые рассылки"
   ]
  },
  {
   "cell_type": "code",
   "execution_count": 42,
   "metadata": {},
   "outputs": [
    {
     "data": {
      "text/plain": [
       "0    2022-05-19\n",
       "1    2022-05-19\n",
       "2    2022-05-19\n",
       "3    2022-05-19\n",
       "4    2022-05-19\n",
       "Name: date, dtype: object"
      ]
     },
     "execution_count": 42,
     "metadata": {},
     "output_type": "execute_result"
    }
   ],
   "source": [
    "apparel_messages[\"date\"].head()"
   ]
  },
  {
   "cell_type": "code",
   "execution_count": null,
   "metadata": {},
   "outputs": [],
   "source": [
    "apparel_messages[\"created_at\"].head()"
   ]
  },
  {
   "cell_type": "markdown",
   "metadata": {},
   "source": [
    "Видим, что для рассылок есть полное время. Это позволит выявить полные дубликаты \n"
   ]
  },
  {
   "cell_type": "code",
   "execution_count": 43,
   "metadata": {},
   "outputs": [
    {
     "data": {
      "text/plain": [
       "48610"
      ]
     },
     "execution_count": 43,
     "metadata": {},
     "output_type": "execute_result"
    }
   ],
   "source": [
    "apparel_messages.duplicated().sum()"
   ]
  },
  {
   "cell_type": "markdown",
   "metadata": {},
   "source": [
    "Видим, что есть 48610 полных дубликатов. Удаляем их.\n",
    "В реальности нужно было бы уточнить их природу - это ошибка логов, или ошибка рассылки (пользователь действительно получал дважды одинаковое сообщение)"
   ]
  },
  {
   "cell_type": "code",
   "execution_count": 44,
   "metadata": {},
   "outputs": [],
   "source": [
    "apparel_messages = apparel_messages.drop_duplicates(keep='first')\n"
   ]
  },
  {
   "cell_type": "code",
   "execution_count": 45,
   "metadata": {},
   "outputs": [],
   "source": [
    "apparel_messages = apparel_messages.merge(full_campaign_agg, on = \"bulk_campaign_id\", how = \"left\" )"
   ]
  },
  {
   "cell_type": "code",
   "execution_count": 46,
   "metadata": {},
   "outputs": [],
   "source": [
    "apparel_messages_agg = apparel_messages.groupby(\"client_id\").agg(\n",
    "    # Event counts\n",
    "    click_count=('event', lambda x: (x == 'click').sum()),\n",
    "    purchase_count=('event', lambda x: (x == 'purchase').sum()),\n",
    "    send_count=('event', lambda x: (x == 'send').sum()),\n",
    "    open_count=('event', lambda x: (x == 'open').sum()),\n",
    "    hard_bounce_count=('event', lambda x: (x == 'hard_bounce').sum()),\n",
    "    unsubscribe_count=('event', lambda x: (x == 'unsubscribe').sum()),\n",
    "    complain_count=('event', lambda x: (x == 'complain').sum()),\n",
    "    subscribe_count=('event', lambda x: (x == 'subscribe').sum()),\n",
    "    # Channel counts (keeping these the same)\n",
    "    email_count=('channel', lambda x: (x == 'email').sum()),\n",
    "    mobile_push_count=('channel', lambda x: (x == 'mobile_push').sum()),\n",
    "    in_cluster_1=('cluster_1', 'max'),\n",
    "    in_cluster_2=('cluster_2', 'max'),\n",
    "    in_cluster_3=('cluster_3', 'max'),\n",
    "    in_cluster_4=('cluster_4', 'max'),\n",
    "    in_cluster_5=('cluster_5', 'max'),\n",
    "    in_cluster_6=('cluster_6', 'max'),\n",
    "    in_cluster_7=('cluster_7', 'max'),\n",
    "    in_cluster_8=('cluster_8', 'max'),\n",
    "    in_cluster_9=('cluster_9', 'max'),\n",
    "    in_cluster_10=('cluster_10', 'max')\n",
    ")\n",
    "\n",
    "# Create the DataFrame\n",
    "apparel_messages_agg = pd.DataFrame(apparel_messages_agg)"
   ]
  },
  {
   "cell_type": "markdown",
   "metadata": {},
   "source": [
    "## Финализируем Датасет"
   ]
  },
  {
   "cell_type": "code",
   "execution_count": 47,
   "metadata": {},
   "outputs": [],
   "source": [
    "final_df = apparel_purchases_agg.merge(apparel_messages_agg, on = \"client_id\", how = \"left\").merge(target, on=\"client_id\")"
   ]
  },
  {
   "cell_type": "code",
   "execution_count": 48,
   "metadata": {},
   "outputs": [
    {
     "data": {
      "text/plain": [
       "click_count          7867\n",
       "purchase_count       7867\n",
       "send_count           7867\n",
       "open_count           7867\n",
       "hard_bounce_count    7867\n",
       "unsubscribe_count    7867\n",
       "complain_count       7867\n",
       "subscribe_count      7867\n",
       "email_count          7867\n",
       "mobile_push_count    7867\n",
       "in_cluster_1         7867\n",
       "in_cluster_2         7867\n",
       "in_cluster_3         7867\n",
       "in_cluster_4         7867\n",
       "in_cluster_5         7867\n",
       "in_cluster_6         7867\n",
       "in_cluster_7         7867\n",
       "in_cluster_8         7867\n",
       "in_cluster_9         7867\n",
       "in_cluster_10        7867\n",
       "dtype: int64"
      ]
     },
     "execution_count": 48,
     "metadata": {},
     "output_type": "execute_result"
    }
   ],
   "source": [
    "missing_counts = final_df.isna().sum()\n",
    "missing_counts = missing_counts[missing_counts > 0]\n",
    "missing_counts"
   ]
  },
  {
   "cell_type": "code",
   "execution_count": 49,
   "metadata": {},
   "outputs": [],
   "source": [
    "final_df = final_df.fillna(0)"
   ]
  },
  {
   "cell_type": "markdown",
   "metadata": {},
   "source": [
    "### eda"
   ]
  },
  {
   "cell_type": "code",
   "execution_count": 54,
   "metadata": {},
   "outputs": [
    {
     "name": "stdout",
     "output_type": "stream",
     "text": [
      "interval columns not set, guessing: ['purchase_amount', 'target']\n",
      "interval columns not set, guessing: ['total_quantity', 'target']\n",
      "interval columns not set, guessing: ['mean_price', 'target']\n",
      "interval columns not set, guessing: ['total_spent', 'target']\n",
      "interval columns not set, guessing: ['unique_dates', 'target']\n",
      "interval columns not set, guessing: ['target']\n",
      "interval columns not set, guessing: ['target']\n",
      "interval columns not set, guessing: ['category_124', 'target']\n",
      "interval columns not set, guessing: ['category_146', 'target']\n",
      "interval columns not set, guessing: ['category_17', 'target']\n",
      "interval columns not set, guessing: ['category_18', 'target']\n",
      "interval columns not set, guessing: ['category_2', 'target']\n",
      "interval columns not set, guessing: ['category_212', 'target']\n",
      "interval columns not set, guessing: ['category_213', 'target']\n",
      "interval columns not set, guessing: ['category_218', 'target']\n",
      "interval columns not set, guessing: ['category_244', 'target']\n",
      "interval columns not set, guessing: ['category_249', 'target']\n",
      "interval columns not set, guessing: ['category_258', 'target']\n",
      "interval columns not set, guessing: ['category_260', 'target']\n",
      "interval columns not set, guessing: ['category_27', 'target']\n",
      "interval columns not set, guessing: ['category_275', 'target']\n",
      "interval columns not set, guessing: ['category_28', 'target']\n",
      "interval columns not set, guessing: ['category_29', 'target']\n",
      "interval columns not set, guessing: ['category_290', 'target']\n",
      "interval columns not set, guessing: ['category_31', 'target']\n",
      "interval columns not set, guessing: ['category_324', 'target']\n",
      "interval columns not set, guessing: ['category_326', 'target']\n",
      "interval columns not set, guessing: ['category_343', 'target']\n",
      "interval columns not set, guessing: ['category_344', 'target']\n",
      "interval columns not set, guessing: ['category_4', 'target']\n",
      "interval columns not set, guessing: ['category_415', 'target']\n",
      "interval columns not set, guessing: ['category_420', 'target']\n",
      "interval columns not set, guessing: ['category_421', 'target']\n",
      "interval columns not set, guessing: ['category_422', 'target']\n",
      "interval columns not set, guessing: ['category_425', 'target']\n",
      "interval columns not set, guessing: ['category_431', 'target']\n",
      "interval columns not set, guessing: ['category_432', 'target']\n",
      "interval columns not set, guessing: ['category_436', 'target']\n",
      "interval columns not set, guessing: ['category_441', 'target']\n",
      "interval columns not set, guessing: ['category_445', 'target']\n",
      "interval columns not set, guessing: ['category_49', 'target']\n",
      "interval columns not set, guessing: ['category_505', 'target']\n",
      "interval columns not set, guessing: ['category_548', 'target']\n",
      "interval columns not set, guessing: ['category_5536', 'target']\n",
      "interval columns not set, guessing: ['category_5562', 'target']\n",
      "interval columns not set, guessing: ['category_5589', 'target']\n",
      "interval columns not set, guessing: ['category_5630', 'target']\n",
      "interval columns not set, guessing: ['category_5631', 'target']\n",
      "interval columns not set, guessing: ['category_5633', 'target']\n",
      "interval columns not set, guessing: ['category_5634', 'target']\n",
      "interval columns not set, guessing: ['category_57', 'target']\n",
      "interval columns not set, guessing: ['category_58', 'target']\n",
      "interval columns not set, guessing: ['category_6058', 'target']\n",
      "interval columns not set, guessing: ['category_6060', 'target']\n",
      "interval columns not set, guessing: ['category_61', 'target']\n",
      "interval columns not set, guessing: ['category_62', 'target']\n",
      "interval columns not set, guessing: ['category_656', 'target']\n",
      "interval columns not set, guessing: ['category_657', 'target']\n",
      "interval columns not set, guessing: ['category_673', 'target']\n",
      "interval columns not set, guessing: ['days_since_last_purchase', 'target']\n",
      "interval columns not set, guessing: ['customer_lifetime', 'target']\n",
      "interval columns not set, guessing: ['click_count', 'target']\n",
      "interval columns not set, guessing: ['purchase_count', 'target']\n",
      "interval columns not set, guessing: ['send_count', 'target']\n",
      "interval columns not set, guessing: ['open_count', 'target']\n",
      "interval columns not set, guessing: ['hard_bounce_count', 'target']\n",
      "interval columns not set, guessing: ['unsubscribe_count', 'target']\n",
      "interval columns not set, guessing: ['complain_count', 'target']\n",
      "interval columns not set, guessing: ['subscribe_count', 'target']\n",
      "interval columns not set, guessing: ['email_count', 'target']\n",
      "interval columns not set, guessing: ['mobile_push_count', 'target']\n",
      "interval columns not set, guessing: ['in_cluster_1', 'target']\n",
      "interval columns not set, guessing: ['in_cluster_2', 'target']\n",
      "interval columns not set, guessing: ['in_cluster_3', 'target']\n",
      "interval columns not set, guessing: ['in_cluster_4', 'target']\n",
      "interval columns not set, guessing: ['in_cluster_5', 'target']\n",
      "interval columns not set, guessing: ['in_cluster_6', 'target']\n"
     ]
    },
    {
     "name": "stderr",
     "output_type": "stream",
     "text": [
      "c:\\Users\\baxte\\Dropbox\\Masterskaya_2\\.venv\\Lib\\site-packages\\phik\\data_quality.py:72: UserWarning: Not enough unique value for variable in_cluster_3 for analysis 1. Dropping this column\n",
      "  warnings.warn(\n",
      "c:\\Users\\baxte\\Dropbox\\Masterskaya_2\\.venv\\Lib\\site-packages\\phik\\data_quality.py:72: UserWarning: Not enough unique value for variable in_cluster_8 for analysis 1. Dropping this column\n",
      "  warnings.warn(\n"
     ]
    },
    {
     "name": "stdout",
     "output_type": "stream",
     "text": [
      "interval columns not set, guessing: ['in_cluster_7', 'target']\n",
      "interval columns not set, guessing: ['in_cluster_8', 'target']\n",
      "interval columns not set, guessing: ['in_cluster_9', 'target']\n",
      "interval columns not set, guessing: ['in_cluster_10', 'target']\n"
     ]
    }
   ],
   "source": [
    "columns_to_check = [col for col in final_df.columns if col not in ['client_id', 'target']]\n",
    "phik_coefficients = {}\n",
    "\n",
    "# Собираем коэффициенты для каждой колонки\n",
    "for column in columns_to_check:\n",
    "    try:\n",
    "        result = phik.phik_matrix(final_df[[column, \"target\"]])\n",
    "        # Если матрица неполная, считаем корреляцию нулевой\n",
    "        if result.shape != (2, 2):\n",
    "            phik_coefficients[column] = 0.0\n",
    "        else:\n",
    "            phik_coefficients[column] = result.values[0,1]\n",
    "    except Exception as e:\n",
    "        print(f\"Warning: Error processing {column}, setting correlation to 0\")\n",
    "        phik_coefficients[column] = 0.0\n",
    "\n",
    "# Создаем DataFrame\n",
    "phik_df = pd.DataFrame.from_dict(phik_coefficients, orient='index', columns=['phik_coefficient'])\n",
    "phik_df = phik_df.sort_values('phik_coefficient', ascending=False)\n",
    "\n"
   ]
  },
  {
   "cell_type": "code",
   "execution_count": 57,
   "metadata": {},
   "outputs": [
    {
     "name": "stdout",
     "output_type": "stream",
     "text": [
      "\n",
      "Top 10 features by Phik correlation:\n",
      "                          phik_coefficient\n",
      "latest_date                       0.163991\n",
      "customer_lifetime                 0.134146\n",
      "first_date                        0.123334\n",
      "days_since_last_purchase          0.115966\n",
      "unique_dates                      0.074335\n",
      "click_count                       0.070769\n",
      "purchase_count                    0.069807\n",
      "purchase_amount                   0.067004\n",
      "mobile_push_count                 0.064416\n",
      "open_count                        0.057812\n",
      "send_count                        0.056721\n",
      "total_quantity                    0.049839\n",
      "category_27                       0.046442\n",
      "category_436                      0.045507\n",
      "in_cluster_1                      0.043173\n",
      "in_cluster_6                      0.041834\n",
      "category_6060                     0.039587\n",
      "category_213                      0.039547\n",
      "in_cluster_7                      0.039517\n",
      "total_spent                       0.034520\n"
     ]
    }
   ],
   "source": [
    "print(\"\\nTop 10 features by Phik correlation:\")\n",
    "print(phik_df.head(20))"
   ]
  },
  {
   "cell_type": "markdown",
   "metadata": {},
   "source": [
    "Видим, что больше всего связан с вероятностью покупки такие переменные как\n",
    "\n",
    "customer_lifetime\n",
    "days_since_last_purchase\n",
    "unique_dates\n",
    "click_count\n",
    "purchase_count\n",
    "purchase_amount\n",
    "Mobile_push_count\n",
    "open_count\n",
    "\n",
    "И что интересно - отдельные категории и даже кластеры оказались среди значимых предикторов"
   ]
  },
  {
   "cell_type": "markdown",
   "metadata": {},
   "source": [
    "### Моделирование"
   ]
  },
  {
   "cell_type": "code",
   "execution_count": 58,
   "metadata": {},
   "outputs": [],
   "source": [
    "X = final_df.drop([\"target\", \"client_id\", 'latest_date', 'first_date'], axis = 1)\n",
    "y = final_df[\"target\"]"
   ]
  },
  {
   "cell_type": "code",
   "execution_count": 59,
   "metadata": {},
   "outputs": [],
   "source": [
    "X_temp, X_test, y_temp, y_test = train_test_split(\n",
    "    X, y, \n",
    "    test_size=0.2,\n",
    "    stratify=y,            # Add this parameter\n",
    "    random_state=42\n",
    ")\n",
    "\n",
    "X_train, X_val, y_train, y_val = train_test_split(\n",
    "    X_temp, y_temp,\n",
    "    test_size=0.25,\n",
    "    stratify=y_temp,       # Add this parameter\n",
    "    random_state=42\n",
    ")"
   ]
  },
  {
   "cell_type": "code",
   "execution_count": 60,
   "metadata": {},
   "outputs": [],
   "source": [
    "cat_cols = X.select_dtypes(include=['object', 'category']).columns.tolist()\n",
    "\n",
    "\n",
    "num_cols = [\"purchase_amount\", \"total_quantity\", \"mean_price\", \"total_spent\",\n",
    "\"unique_dates\", \"days_since_last_purchase\", \"customer_lifetime\", \"click_count\",\n",
    "\"purchase_count\", \"send_count\", \"open_count\", \"hard_bounce_count\", \"unsubscribe_count\",\n",
    "\"complain_count\", \"subscribe_count\", \"email_count\", \"mobile_push_count\"]"
   ]
  },
  {
   "cell_type": "markdown",
   "metadata": {},
   "source": [
    "```\n",
    "\n",
    "def create_pipeline(trial, classifier_name):\n",
    "    num_pipeline = Pipeline([\n",
    "        ('imputer', SimpleImputer(strategy=trial.suggest_categorical('num_imputer_strategy', ['mean', 'median']))),\n",
    "        ('scaler', StandardScaler())\n",
    "    ])\n",
    "    \n",
    "    cat_pipeline = Pipeline([\n",
    "        ('imputer', SimpleImputer(strategy='constant', fill_value='missing')),\n",
    "        ('onehot', OneHotEncoder(drop='first', sparse_output=False))\n",
    "    ])\n",
    "    \n",
    "    preprocessor = ColumnTransformer([\n",
    "        ('num', num_pipeline, num_cols),\n",
    "        ('cat', cat_pipeline, cat_cols)\n",
    "    ], remainder='passthrough')\n",
    "    \n",
    "    if classifier_name == 'logistic':\n",
    "        classifier = LogisticRegression(\n",
    "            C=trial.suggest_float('lr_C', 1e-3, 10, log=True),\n",
    "            max_iter=trial.suggest_int('lr_max_iter', 100, 500),\n",
    "            random_state=42\n",
    "        )\n",
    "    elif classifier_name == 'decision_tree':\n",
    "        classifier = DecisionTreeClassifier(\n",
    "            max_depth=trial.suggest_int('dt_max_depth', 3, 15),\n",
    "            min_samples_split=trial.suggest_int('dt_min_samples_split', 2, 20),\n",
    "            min_samples_leaf=trial.suggest_int('dt_min_samples_leaf', 1, 10),\n",
    "            random_state=42\n",
    "        )\n",
    "    elif classifier_name == 'lgbm':\n",
    "        classifier = LGBMClassifier(\n",
    "            n_estimators=trial.suggest_int('lgbm_n_estimators', 50, 300),\n",
    "            learning_rate=trial.suggest_float('lgbm_learning_rate', 0.01, 0.3, log=True),\n",
    "            num_leaves=trial.suggest_int('lgbm_num_leaves', 15, 127),\n",
    "            min_child_samples=trial.suggest_int('lgbm_min_child_samples', 5, 100),\n",
    "            subsample=trial.suggest_float('lgbm_subsample', 0.5, 1.0),\n",
    "            colsample_bytree=trial.suggest_float('lgbm_colsample_bytree', 0.5, 1.0),\n",
    "            random_state=42\n",
    "        )\n",
    "    elif classifier_name == 'catboost':\n",
    "        classifier = CatBoostClassifier(\n",
    "            iterations=trial.suggest_int('cb_iterations', 50, 500),\n",
    "            learning_rate=trial.suggest_float('cb_learning_rate', 0.001, 0.1, log=True),\n",
    "            depth=trial.suggest_int('cb_depth', 3, 12),\n",
    "            l2_leaf_reg=trial.suggest_float('cb_l2_leaf_reg', 1, 30),\n",
    "            random_strength=trial.suggest_float('cb_random_strength', 1e-3, 20, log=True),\n",
    "            min_data_in_leaf=trial.suggest_int('cb_min_data_in_leaf', 1, 50),\n",
    "            auto_class_weights=trial.suggest_categorical('cb_class_weights', [None, 'Balanced', 'SqrtBalanced']),\n",
    "            subsample=trial.suggest_float('cb_subsample', \n",
    "            0.5, 1.0),  # Добавил для баггинга\n",
    "            leaf_estimation_iterations=trial.suggest_int('cb_leaf_estimation_iterations', \n",
    "            1, 10),  # Добавил для точности оценки листьев\n",
    "            random_state=42,\n",
    "            verbose=False\n",
    "        )\n",
    "    \n",
    "    return Pipeline([\n",
    "        ('preprocessor', preprocessor),\n",
    "        ('classifier', classifier)\n",
    "    ])\n",
    "\n",
    "def objective(trial, X, y, classifier_name):\n",
    "    pipeline = create_pipeline(trial, classifier_name)\n",
    "    \n",
    "    # Perform cross-validation\n",
    "    scores = cross_val_score(\n",
    "        pipeline, X, y,\n",
    "        cv=5,\n",
    "        scoring='roc_auc',\n",
    "        n_jobs=-1\n",
    "    )\n",
    "    \n",
    "    return scores.mean()\n",
    "\n",
    "# Create separate studies for each classifier\n",
    "#classifiers = ['logistic', 'decision_tree', 'lgbm', 'catboost']\n",
    "classifiers = ['catboost']\n",
    "#classifiers = ['lgbm']\n",
    "studies = {}\n",
    "\n",
    "for classifier in classifiers:\n",
    "    study = optuna.create_study(\n",
    "        direction='maximize',\n",
    "        study_name=f'{classifier}_optimization',\n",
    "        sampler=optuna.samplers.TPESampler(seed=42)\n",
    "    )\n",
    "    \n",
    "    # Optimize each classifier\n",
    "    study.optimize(\n",
    "        lambda trial: objective(trial, X_train, y_train, classifier),\n",
    "        n_trials=50,  # Adjust based on your computational budget\n",
    "        n_jobs=1,  # Use 1 for CatBoost, -1 for others\n",
    "        show_progress_bar=True\n",
    "    )\n",
    "    \n",
    "    studies[classifier] = study\n",
    "\n",
    "# Get best results for each classifier\n",
    "best_results = {}\n",
    "for classifier, study in studies.items():\n",
    "    best_results[classifier] = {\n",
    "        'best_score': study.best_value,\n",
    "        'best_params': study.best_params\n",
    "    }\n",
    "    print(f\"\\nBest {classifier} Results:\")\n",
    "    print(f\"Score: {study.best_value:.4f}\")\n",
    "    print(\"Parameters:\", study.best_params)\n",
    "\n",
    "best_classifier = max(best_results.items(), key=lambda x: x[1]['best_score'])[0]\n",
    "\n",
    "final_pipeline = create_pipeline(\n",
    "    optuna.trial.FixedTrial(best_results[best_classifier]['best_params']),\n",
    "    best_classifier\n",
    ")\n",
    "\n",
    "```"
   ]
  },
  {
   "cell_type": "code",
   "execution_count": 61,
   "metadata": {},
   "outputs": [],
   "source": [
    "num_pipeline = Pipeline([\n",
    "    ('imputer', SimpleImputer(strategy='median')),  # используем median из оптимальных параметров\n",
    "    ('scaler', StandardScaler())\n",
    "])\n",
    "\n",
    "cat_pipeline = Pipeline([\n",
    "    ('imputer', SimpleImputer(strategy='constant', fill_value='missing')),\n",
    "    ('onehot', OneHotEncoder(drop='first', sparse_output=False))\n",
    "])\n",
    "\n",
    "preprocessor = ColumnTransformer([\n",
    "    ('num', num_pipeline, num_cols),\n",
    "    ('cat', cat_pipeline, cat_cols)\n",
    "], remainder='passthrough')\n",
    "\n",
    "# Создаем CatBoost с оптимальными параметрами\n",
    "catboost_classifier = CatBoostClassifier(\n",
    "    iterations=308,\n",
    "    learning_rate=0.030595276962024773,\n",
    "    depth=3,\n",
    "    l2_leaf_reg=6.394738594560913,\n",
    "    random_strength=0.9803777223919052,\n",
    "    min_data_in_leaf=38,\n",
    "    auto_class_weights='SqrtBalanced',\n",
    "    subsample=0.6594952902213623,\n",
    "    leaf_estimation_iterations=8,\n",
    "    random_state=42,\n",
    "    verbose=False\n",
    ")\n",
    "\n",
    "# Создаем финальный пайплайн\n",
    "final_pipeline = Pipeline([\n",
    "    ('preprocessor', preprocessor),\n",
    "    ('classifier', catboost_classifier)\n",
    "])"
   ]
  },
  {
   "cell_type": "code",
   "execution_count": 62,
   "metadata": {},
   "outputs": [
    {
     "data": {
      "text/html": [
       "<style>#sk-container-id-1 {\n",
       "  /* Definition of color scheme common for light and dark mode */\n",
       "  --sklearn-color-text: #000;\n",
       "  --sklearn-color-text-muted: #666;\n",
       "  --sklearn-color-line: gray;\n",
       "  /* Definition of color scheme for unfitted estimators */\n",
       "  --sklearn-color-unfitted-level-0: #fff5e6;\n",
       "  --sklearn-color-unfitted-level-1: #f6e4d2;\n",
       "  --sklearn-color-unfitted-level-2: #ffe0b3;\n",
       "  --sklearn-color-unfitted-level-3: chocolate;\n",
       "  /* Definition of color scheme for fitted estimators */\n",
       "  --sklearn-color-fitted-level-0: #f0f8ff;\n",
       "  --sklearn-color-fitted-level-1: #d4ebff;\n",
       "  --sklearn-color-fitted-level-2: #b3dbfd;\n",
       "  --sklearn-color-fitted-level-3: cornflowerblue;\n",
       "\n",
       "  /* Specific color for light theme */\n",
       "  --sklearn-color-text-on-default-background: var(--sg-text-color, var(--theme-code-foreground, var(--jp-content-font-color1, black)));\n",
       "  --sklearn-color-background: var(--sg-background-color, var(--theme-background, var(--jp-layout-color0, white)));\n",
       "  --sklearn-color-border-box: var(--sg-text-color, var(--theme-code-foreground, var(--jp-content-font-color1, black)));\n",
       "  --sklearn-color-icon: #696969;\n",
       "\n",
       "  @media (prefers-color-scheme: dark) {\n",
       "    /* Redefinition of color scheme for dark theme */\n",
       "    --sklearn-color-text-on-default-background: var(--sg-text-color, var(--theme-code-foreground, var(--jp-content-font-color1, white)));\n",
       "    --sklearn-color-background: var(--sg-background-color, var(--theme-background, var(--jp-layout-color0, #111)));\n",
       "    --sklearn-color-border-box: var(--sg-text-color, var(--theme-code-foreground, var(--jp-content-font-color1, white)));\n",
       "    --sklearn-color-icon: #878787;\n",
       "  }\n",
       "}\n",
       "\n",
       "#sk-container-id-1 {\n",
       "  color: var(--sklearn-color-text);\n",
       "}\n",
       "\n",
       "#sk-container-id-1 pre {\n",
       "  padding: 0;\n",
       "}\n",
       "\n",
       "#sk-container-id-1 input.sk-hidden--visually {\n",
       "  border: 0;\n",
       "  clip: rect(1px 1px 1px 1px);\n",
       "  clip: rect(1px, 1px, 1px, 1px);\n",
       "  height: 1px;\n",
       "  margin: -1px;\n",
       "  overflow: hidden;\n",
       "  padding: 0;\n",
       "  position: absolute;\n",
       "  width: 1px;\n",
       "}\n",
       "\n",
       "#sk-container-id-1 div.sk-dashed-wrapped {\n",
       "  border: 1px dashed var(--sklearn-color-line);\n",
       "  margin: 0 0.4em 0.5em 0.4em;\n",
       "  box-sizing: border-box;\n",
       "  padding-bottom: 0.4em;\n",
       "  background-color: var(--sklearn-color-background);\n",
       "}\n",
       "\n",
       "#sk-container-id-1 div.sk-container {\n",
       "  /* jupyter's `normalize.less` sets `[hidden] { display: none; }`\n",
       "     but bootstrap.min.css set `[hidden] { display: none !important; }`\n",
       "     so we also need the `!important` here to be able to override the\n",
       "     default hidden behavior on the sphinx rendered scikit-learn.org.\n",
       "     See: https://github.com/scikit-learn/scikit-learn/issues/21755 */\n",
       "  display: inline-block !important;\n",
       "  position: relative;\n",
       "}\n",
       "\n",
       "#sk-container-id-1 div.sk-text-repr-fallback {\n",
       "  display: none;\n",
       "}\n",
       "\n",
       "div.sk-parallel-item,\n",
       "div.sk-serial,\n",
       "div.sk-item {\n",
       "  /* draw centered vertical line to link estimators */\n",
       "  background-image: linear-gradient(var(--sklearn-color-text-on-default-background), var(--sklearn-color-text-on-default-background));\n",
       "  background-size: 2px 100%;\n",
       "  background-repeat: no-repeat;\n",
       "  background-position: center center;\n",
       "}\n",
       "\n",
       "/* Parallel-specific style estimator block */\n",
       "\n",
       "#sk-container-id-1 div.sk-parallel-item::after {\n",
       "  content: \"\";\n",
       "  width: 100%;\n",
       "  border-bottom: 2px solid var(--sklearn-color-text-on-default-background);\n",
       "  flex-grow: 1;\n",
       "}\n",
       "\n",
       "#sk-container-id-1 div.sk-parallel {\n",
       "  display: flex;\n",
       "  align-items: stretch;\n",
       "  justify-content: center;\n",
       "  background-color: var(--sklearn-color-background);\n",
       "  position: relative;\n",
       "}\n",
       "\n",
       "#sk-container-id-1 div.sk-parallel-item {\n",
       "  display: flex;\n",
       "  flex-direction: column;\n",
       "}\n",
       "\n",
       "#sk-container-id-1 div.sk-parallel-item:first-child::after {\n",
       "  align-self: flex-end;\n",
       "  width: 50%;\n",
       "}\n",
       "\n",
       "#sk-container-id-1 div.sk-parallel-item:last-child::after {\n",
       "  align-self: flex-start;\n",
       "  width: 50%;\n",
       "}\n",
       "\n",
       "#sk-container-id-1 div.sk-parallel-item:only-child::after {\n",
       "  width: 0;\n",
       "}\n",
       "\n",
       "/* Serial-specific style estimator block */\n",
       "\n",
       "#sk-container-id-1 div.sk-serial {\n",
       "  display: flex;\n",
       "  flex-direction: column;\n",
       "  align-items: center;\n",
       "  background-color: var(--sklearn-color-background);\n",
       "  padding-right: 1em;\n",
       "  padding-left: 1em;\n",
       "}\n",
       "\n",
       "\n",
       "/* Toggleable style: style used for estimator/Pipeline/ColumnTransformer box that is\n",
       "clickable and can be expanded/collapsed.\n",
       "- Pipeline and ColumnTransformer use this feature and define the default style\n",
       "- Estimators will overwrite some part of the style using the `sk-estimator` class\n",
       "*/\n",
       "\n",
       "/* Pipeline and ColumnTransformer style (default) */\n",
       "\n",
       "#sk-container-id-1 div.sk-toggleable {\n",
       "  /* Default theme specific background. It is overwritten whether we have a\n",
       "  specific estimator or a Pipeline/ColumnTransformer */\n",
       "  background-color: var(--sklearn-color-background);\n",
       "}\n",
       "\n",
       "/* Toggleable label */\n",
       "#sk-container-id-1 label.sk-toggleable__label {\n",
       "  cursor: pointer;\n",
       "  display: flex;\n",
       "  width: 100%;\n",
       "  margin-bottom: 0;\n",
       "  padding: 0.5em;\n",
       "  box-sizing: border-box;\n",
       "  text-align: center;\n",
       "  align-items: start;\n",
       "  justify-content: space-between;\n",
       "  gap: 0.5em;\n",
       "}\n",
       "\n",
       "#sk-container-id-1 label.sk-toggleable__label .caption {\n",
       "  font-size: 0.6rem;\n",
       "  font-weight: lighter;\n",
       "  color: var(--sklearn-color-text-muted);\n",
       "}\n",
       "\n",
       "#sk-container-id-1 label.sk-toggleable__label-arrow:before {\n",
       "  /* Arrow on the left of the label */\n",
       "  content: \"▸\";\n",
       "  float: left;\n",
       "  margin-right: 0.25em;\n",
       "  color: var(--sklearn-color-icon);\n",
       "}\n",
       "\n",
       "#sk-container-id-1 label.sk-toggleable__label-arrow:hover:before {\n",
       "  color: var(--sklearn-color-text);\n",
       "}\n",
       "\n",
       "/* Toggleable content - dropdown */\n",
       "\n",
       "#sk-container-id-1 div.sk-toggleable__content {\n",
       "  max-height: 0;\n",
       "  max-width: 0;\n",
       "  overflow: hidden;\n",
       "  text-align: left;\n",
       "  /* unfitted */\n",
       "  background-color: var(--sklearn-color-unfitted-level-0);\n",
       "}\n",
       "\n",
       "#sk-container-id-1 div.sk-toggleable__content.fitted {\n",
       "  /* fitted */\n",
       "  background-color: var(--sklearn-color-fitted-level-0);\n",
       "}\n",
       "\n",
       "#sk-container-id-1 div.sk-toggleable__content pre {\n",
       "  margin: 0.2em;\n",
       "  border-radius: 0.25em;\n",
       "  color: var(--sklearn-color-text);\n",
       "  /* unfitted */\n",
       "  background-color: var(--sklearn-color-unfitted-level-0);\n",
       "}\n",
       "\n",
       "#sk-container-id-1 div.sk-toggleable__content.fitted pre {\n",
       "  /* unfitted */\n",
       "  background-color: var(--sklearn-color-fitted-level-0);\n",
       "}\n",
       "\n",
       "#sk-container-id-1 input.sk-toggleable__control:checked~div.sk-toggleable__content {\n",
       "  /* Expand drop-down */\n",
       "  max-height: 200px;\n",
       "  max-width: 100%;\n",
       "  overflow: auto;\n",
       "}\n",
       "\n",
       "#sk-container-id-1 input.sk-toggleable__control:checked~label.sk-toggleable__label-arrow:before {\n",
       "  content: \"▾\";\n",
       "}\n",
       "\n",
       "/* Pipeline/ColumnTransformer-specific style */\n",
       "\n",
       "#sk-container-id-1 div.sk-label input.sk-toggleable__control:checked~label.sk-toggleable__label {\n",
       "  color: var(--sklearn-color-text);\n",
       "  background-color: var(--sklearn-color-unfitted-level-2);\n",
       "}\n",
       "\n",
       "#sk-container-id-1 div.sk-label.fitted input.sk-toggleable__control:checked~label.sk-toggleable__label {\n",
       "  background-color: var(--sklearn-color-fitted-level-2);\n",
       "}\n",
       "\n",
       "/* Estimator-specific style */\n",
       "\n",
       "/* Colorize estimator box */\n",
       "#sk-container-id-1 div.sk-estimator input.sk-toggleable__control:checked~label.sk-toggleable__label {\n",
       "  /* unfitted */\n",
       "  background-color: var(--sklearn-color-unfitted-level-2);\n",
       "}\n",
       "\n",
       "#sk-container-id-1 div.sk-estimator.fitted input.sk-toggleable__control:checked~label.sk-toggleable__label {\n",
       "  /* fitted */\n",
       "  background-color: var(--sklearn-color-fitted-level-2);\n",
       "}\n",
       "\n",
       "#sk-container-id-1 div.sk-label label.sk-toggleable__label,\n",
       "#sk-container-id-1 div.sk-label label {\n",
       "  /* The background is the default theme color */\n",
       "  color: var(--sklearn-color-text-on-default-background);\n",
       "}\n",
       "\n",
       "/* On hover, darken the color of the background */\n",
       "#sk-container-id-1 div.sk-label:hover label.sk-toggleable__label {\n",
       "  color: var(--sklearn-color-text);\n",
       "  background-color: var(--sklearn-color-unfitted-level-2);\n",
       "}\n",
       "\n",
       "/* Label box, darken color on hover, fitted */\n",
       "#sk-container-id-1 div.sk-label.fitted:hover label.sk-toggleable__label.fitted {\n",
       "  color: var(--sklearn-color-text);\n",
       "  background-color: var(--sklearn-color-fitted-level-2);\n",
       "}\n",
       "\n",
       "/* Estimator label */\n",
       "\n",
       "#sk-container-id-1 div.sk-label label {\n",
       "  font-family: monospace;\n",
       "  font-weight: bold;\n",
       "  display: inline-block;\n",
       "  line-height: 1.2em;\n",
       "}\n",
       "\n",
       "#sk-container-id-1 div.sk-label-container {\n",
       "  text-align: center;\n",
       "}\n",
       "\n",
       "/* Estimator-specific */\n",
       "#sk-container-id-1 div.sk-estimator {\n",
       "  font-family: monospace;\n",
       "  border: 1px dotted var(--sklearn-color-border-box);\n",
       "  border-radius: 0.25em;\n",
       "  box-sizing: border-box;\n",
       "  margin-bottom: 0.5em;\n",
       "  /* unfitted */\n",
       "  background-color: var(--sklearn-color-unfitted-level-0);\n",
       "}\n",
       "\n",
       "#sk-container-id-1 div.sk-estimator.fitted {\n",
       "  /* fitted */\n",
       "  background-color: var(--sklearn-color-fitted-level-0);\n",
       "}\n",
       "\n",
       "/* on hover */\n",
       "#sk-container-id-1 div.sk-estimator:hover {\n",
       "  /* unfitted */\n",
       "  background-color: var(--sklearn-color-unfitted-level-2);\n",
       "}\n",
       "\n",
       "#sk-container-id-1 div.sk-estimator.fitted:hover {\n",
       "  /* fitted */\n",
       "  background-color: var(--sklearn-color-fitted-level-2);\n",
       "}\n",
       "\n",
       "/* Specification for estimator info (e.g. \"i\" and \"?\") */\n",
       "\n",
       "/* Common style for \"i\" and \"?\" */\n",
       "\n",
       ".sk-estimator-doc-link,\n",
       "a:link.sk-estimator-doc-link,\n",
       "a:visited.sk-estimator-doc-link {\n",
       "  float: right;\n",
       "  font-size: smaller;\n",
       "  line-height: 1em;\n",
       "  font-family: monospace;\n",
       "  background-color: var(--sklearn-color-background);\n",
       "  border-radius: 1em;\n",
       "  height: 1em;\n",
       "  width: 1em;\n",
       "  text-decoration: none !important;\n",
       "  margin-left: 0.5em;\n",
       "  text-align: center;\n",
       "  /* unfitted */\n",
       "  border: var(--sklearn-color-unfitted-level-1) 1pt solid;\n",
       "  color: var(--sklearn-color-unfitted-level-1);\n",
       "}\n",
       "\n",
       ".sk-estimator-doc-link.fitted,\n",
       "a:link.sk-estimator-doc-link.fitted,\n",
       "a:visited.sk-estimator-doc-link.fitted {\n",
       "  /* fitted */\n",
       "  border: var(--sklearn-color-fitted-level-1) 1pt solid;\n",
       "  color: var(--sklearn-color-fitted-level-1);\n",
       "}\n",
       "\n",
       "/* On hover */\n",
       "div.sk-estimator:hover .sk-estimator-doc-link:hover,\n",
       ".sk-estimator-doc-link:hover,\n",
       "div.sk-label-container:hover .sk-estimator-doc-link:hover,\n",
       ".sk-estimator-doc-link:hover {\n",
       "  /* unfitted */\n",
       "  background-color: var(--sklearn-color-unfitted-level-3);\n",
       "  color: var(--sklearn-color-background);\n",
       "  text-decoration: none;\n",
       "}\n",
       "\n",
       "div.sk-estimator.fitted:hover .sk-estimator-doc-link.fitted:hover,\n",
       ".sk-estimator-doc-link.fitted:hover,\n",
       "div.sk-label-container:hover .sk-estimator-doc-link.fitted:hover,\n",
       ".sk-estimator-doc-link.fitted:hover {\n",
       "  /* fitted */\n",
       "  background-color: var(--sklearn-color-fitted-level-3);\n",
       "  color: var(--sklearn-color-background);\n",
       "  text-decoration: none;\n",
       "}\n",
       "\n",
       "/* Span, style for the box shown on hovering the info icon */\n",
       ".sk-estimator-doc-link span {\n",
       "  display: none;\n",
       "  z-index: 9999;\n",
       "  position: relative;\n",
       "  font-weight: normal;\n",
       "  right: .2ex;\n",
       "  padding: .5ex;\n",
       "  margin: .5ex;\n",
       "  width: min-content;\n",
       "  min-width: 20ex;\n",
       "  max-width: 50ex;\n",
       "  color: var(--sklearn-color-text);\n",
       "  box-shadow: 2pt 2pt 4pt #999;\n",
       "  /* unfitted */\n",
       "  background: var(--sklearn-color-unfitted-level-0);\n",
       "  border: .5pt solid var(--sklearn-color-unfitted-level-3);\n",
       "}\n",
       "\n",
       ".sk-estimator-doc-link.fitted span {\n",
       "  /* fitted */\n",
       "  background: var(--sklearn-color-fitted-level-0);\n",
       "  border: var(--sklearn-color-fitted-level-3);\n",
       "}\n",
       "\n",
       ".sk-estimator-doc-link:hover span {\n",
       "  display: block;\n",
       "}\n",
       "\n",
       "/* \"?\"-specific style due to the `<a>` HTML tag */\n",
       "\n",
       "#sk-container-id-1 a.estimator_doc_link {\n",
       "  float: right;\n",
       "  font-size: 1rem;\n",
       "  line-height: 1em;\n",
       "  font-family: monospace;\n",
       "  background-color: var(--sklearn-color-background);\n",
       "  border-radius: 1rem;\n",
       "  height: 1rem;\n",
       "  width: 1rem;\n",
       "  text-decoration: none;\n",
       "  /* unfitted */\n",
       "  color: var(--sklearn-color-unfitted-level-1);\n",
       "  border: var(--sklearn-color-unfitted-level-1) 1pt solid;\n",
       "}\n",
       "\n",
       "#sk-container-id-1 a.estimator_doc_link.fitted {\n",
       "  /* fitted */\n",
       "  border: var(--sklearn-color-fitted-level-1) 1pt solid;\n",
       "  color: var(--sklearn-color-fitted-level-1);\n",
       "}\n",
       "\n",
       "/* On hover */\n",
       "#sk-container-id-1 a.estimator_doc_link:hover {\n",
       "  /* unfitted */\n",
       "  background-color: var(--sklearn-color-unfitted-level-3);\n",
       "  color: var(--sklearn-color-background);\n",
       "  text-decoration: none;\n",
       "}\n",
       "\n",
       "#sk-container-id-1 a.estimator_doc_link.fitted:hover {\n",
       "  /* fitted */\n",
       "  background-color: var(--sklearn-color-fitted-level-3);\n",
       "}\n",
       "</style><div id=\"sk-container-id-1\" class=\"sk-top-container\"><div class=\"sk-text-repr-fallback\"><pre>Pipeline(steps=[(&#x27;preprocessor&#x27;,\n",
       "                 ColumnTransformer(remainder=&#x27;passthrough&#x27;,\n",
       "                                   transformers=[(&#x27;num&#x27;,\n",
       "                                                  Pipeline(steps=[(&#x27;imputer&#x27;,\n",
       "                                                                   SimpleImputer(strategy=&#x27;median&#x27;)),\n",
       "                                                                  (&#x27;scaler&#x27;,\n",
       "                                                                   StandardScaler())]),\n",
       "                                                  [&#x27;purchase_amount&#x27;,\n",
       "                                                   &#x27;total_quantity&#x27;,\n",
       "                                                   &#x27;mean_price&#x27;, &#x27;total_spent&#x27;,\n",
       "                                                   &#x27;unique_dates&#x27;,\n",
       "                                                   &#x27;days_since_last_purchase&#x27;,\n",
       "                                                   &#x27;customer_lifetime&#x27;,\n",
       "                                                   &#x27;click_count&#x27;,\n",
       "                                                   &#x27;purchase_count&#x27;,\n",
       "                                                   &#x27;send_co...t&#x27;,\n",
       "                                                   &#x27;hard_bounce_count&#x27;,\n",
       "                                                   &#x27;unsubscribe_count&#x27;,\n",
       "                                                   &#x27;complain_count&#x27;,\n",
       "                                                   &#x27;subscribe_count&#x27;,\n",
       "                                                   &#x27;email_count&#x27;,\n",
       "                                                   &#x27;mobile_push_count&#x27;]),\n",
       "                                                 (&#x27;cat&#x27;,\n",
       "                                                  Pipeline(steps=[(&#x27;imputer&#x27;,\n",
       "                                                                   SimpleImputer(fill_value=&#x27;missing&#x27;,\n",
       "                                                                                 strategy=&#x27;constant&#x27;)),\n",
       "                                                                  (&#x27;onehot&#x27;,\n",
       "                                                                   OneHotEncoder(drop=&#x27;first&#x27;,\n",
       "                                                                                 sparse_output=False))]),\n",
       "                                                  [])])),\n",
       "                (&#x27;classifier&#x27;,\n",
       "                 &lt;catboost.core.CatBoostClassifier object at 0x000001604D8ED390&gt;)])</pre><b>In a Jupyter environment, please rerun this cell to show the HTML representation or trust the notebook. <br />On GitHub, the HTML representation is unable to render, please try loading this page with nbviewer.org.</b></div><div class=\"sk-container\" hidden><div class=\"sk-item sk-dashed-wrapped\"><div class=\"sk-label-container\"><div class=\"sk-label fitted sk-toggleable\"><input class=\"sk-toggleable__control sk-hidden--visually\" id=\"sk-estimator-id-1\" type=\"checkbox\" ><label for=\"sk-estimator-id-1\" class=\"sk-toggleable__label fitted sk-toggleable__label-arrow\"><div><div>Pipeline</div></div><div><a class=\"sk-estimator-doc-link fitted\" rel=\"noreferrer\" target=\"_blank\" href=\"https://scikit-learn.org/1.6/modules/generated/sklearn.pipeline.Pipeline.html\">?<span>Documentation for Pipeline</span></a><span class=\"sk-estimator-doc-link fitted\">i<span>Fitted</span></span></div></label><div class=\"sk-toggleable__content fitted\"><pre>Pipeline(steps=[(&#x27;preprocessor&#x27;,\n",
       "                 ColumnTransformer(remainder=&#x27;passthrough&#x27;,\n",
       "                                   transformers=[(&#x27;num&#x27;,\n",
       "                                                  Pipeline(steps=[(&#x27;imputer&#x27;,\n",
       "                                                                   SimpleImputer(strategy=&#x27;median&#x27;)),\n",
       "                                                                  (&#x27;scaler&#x27;,\n",
       "                                                                   StandardScaler())]),\n",
       "                                                  [&#x27;purchase_amount&#x27;,\n",
       "                                                   &#x27;total_quantity&#x27;,\n",
       "                                                   &#x27;mean_price&#x27;, &#x27;total_spent&#x27;,\n",
       "                                                   &#x27;unique_dates&#x27;,\n",
       "                                                   &#x27;days_since_last_purchase&#x27;,\n",
       "                                                   &#x27;customer_lifetime&#x27;,\n",
       "                                                   &#x27;click_count&#x27;,\n",
       "                                                   &#x27;purchase_count&#x27;,\n",
       "                                                   &#x27;send_co...t&#x27;,\n",
       "                                                   &#x27;hard_bounce_count&#x27;,\n",
       "                                                   &#x27;unsubscribe_count&#x27;,\n",
       "                                                   &#x27;complain_count&#x27;,\n",
       "                                                   &#x27;subscribe_count&#x27;,\n",
       "                                                   &#x27;email_count&#x27;,\n",
       "                                                   &#x27;mobile_push_count&#x27;]),\n",
       "                                                 (&#x27;cat&#x27;,\n",
       "                                                  Pipeline(steps=[(&#x27;imputer&#x27;,\n",
       "                                                                   SimpleImputer(fill_value=&#x27;missing&#x27;,\n",
       "                                                                                 strategy=&#x27;constant&#x27;)),\n",
       "                                                                  (&#x27;onehot&#x27;,\n",
       "                                                                   OneHotEncoder(drop=&#x27;first&#x27;,\n",
       "                                                                                 sparse_output=False))]),\n",
       "                                                  [])])),\n",
       "                (&#x27;classifier&#x27;,\n",
       "                 &lt;catboost.core.CatBoostClassifier object at 0x000001604D8ED390&gt;)])</pre></div> </div></div><div class=\"sk-serial\"><div class=\"sk-item sk-dashed-wrapped\"><div class=\"sk-label-container\"><div class=\"sk-label fitted sk-toggleable\"><input class=\"sk-toggleable__control sk-hidden--visually\" id=\"sk-estimator-id-2\" type=\"checkbox\" ><label for=\"sk-estimator-id-2\" class=\"sk-toggleable__label fitted sk-toggleable__label-arrow\"><div><div>preprocessor: ColumnTransformer</div></div><div><a class=\"sk-estimator-doc-link fitted\" rel=\"noreferrer\" target=\"_blank\" href=\"https://scikit-learn.org/1.6/modules/generated/sklearn.compose.ColumnTransformer.html\">?<span>Documentation for preprocessor: ColumnTransformer</span></a></div></label><div class=\"sk-toggleable__content fitted\"><pre>ColumnTransformer(remainder=&#x27;passthrough&#x27;,\n",
       "                  transformers=[(&#x27;num&#x27;,\n",
       "                                 Pipeline(steps=[(&#x27;imputer&#x27;,\n",
       "                                                  SimpleImputer(strategy=&#x27;median&#x27;)),\n",
       "                                                 (&#x27;scaler&#x27;, StandardScaler())]),\n",
       "                                 [&#x27;purchase_amount&#x27;, &#x27;total_quantity&#x27;,\n",
       "                                  &#x27;mean_price&#x27;, &#x27;total_spent&#x27;, &#x27;unique_dates&#x27;,\n",
       "                                  &#x27;days_since_last_purchase&#x27;,\n",
       "                                  &#x27;customer_lifetime&#x27;, &#x27;click_count&#x27;,\n",
       "                                  &#x27;purchase_count&#x27;, &#x27;send_count&#x27;, &#x27;open_count&#x27;,\n",
       "                                  &#x27;hard_bounce_count&#x27;, &#x27;unsubscribe_count&#x27;,\n",
       "                                  &#x27;complain_count&#x27;, &#x27;subscribe_count&#x27;,\n",
       "                                  &#x27;email_count&#x27;, &#x27;mobile_push_count&#x27;]),\n",
       "                                (&#x27;cat&#x27;,\n",
       "                                 Pipeline(steps=[(&#x27;imputer&#x27;,\n",
       "                                                  SimpleImputer(fill_value=&#x27;missing&#x27;,\n",
       "                                                                strategy=&#x27;constant&#x27;)),\n",
       "                                                 (&#x27;onehot&#x27;,\n",
       "                                                  OneHotEncoder(drop=&#x27;first&#x27;,\n",
       "                                                                sparse_output=False))]),\n",
       "                                 [])])</pre></div> </div></div><div class=\"sk-parallel\"><div class=\"sk-parallel-item\"><div class=\"sk-item\"><div class=\"sk-label-container\"><div class=\"sk-label fitted sk-toggleable\"><input class=\"sk-toggleable__control sk-hidden--visually\" id=\"sk-estimator-id-3\" type=\"checkbox\" ><label for=\"sk-estimator-id-3\" class=\"sk-toggleable__label fitted sk-toggleable__label-arrow\"><div><div>num</div></div></label><div class=\"sk-toggleable__content fitted\"><pre>[&#x27;purchase_amount&#x27;, &#x27;total_quantity&#x27;, &#x27;mean_price&#x27;, &#x27;total_spent&#x27;, &#x27;unique_dates&#x27;, &#x27;days_since_last_purchase&#x27;, &#x27;customer_lifetime&#x27;, &#x27;click_count&#x27;, &#x27;purchase_count&#x27;, &#x27;send_count&#x27;, &#x27;open_count&#x27;, &#x27;hard_bounce_count&#x27;, &#x27;unsubscribe_count&#x27;, &#x27;complain_count&#x27;, &#x27;subscribe_count&#x27;, &#x27;email_count&#x27;, &#x27;mobile_push_count&#x27;]</pre></div> </div></div><div class=\"sk-serial\"><div class=\"sk-item\"><div class=\"sk-serial\"><div class=\"sk-item\"><div class=\"sk-estimator fitted sk-toggleable\"><input class=\"sk-toggleable__control sk-hidden--visually\" id=\"sk-estimator-id-4\" type=\"checkbox\" ><label for=\"sk-estimator-id-4\" class=\"sk-toggleable__label fitted sk-toggleable__label-arrow\"><div><div>SimpleImputer</div></div><div><a class=\"sk-estimator-doc-link fitted\" rel=\"noreferrer\" target=\"_blank\" href=\"https://scikit-learn.org/1.6/modules/generated/sklearn.impute.SimpleImputer.html\">?<span>Documentation for SimpleImputer</span></a></div></label><div class=\"sk-toggleable__content fitted\"><pre>SimpleImputer(strategy=&#x27;median&#x27;)</pre></div> </div></div><div class=\"sk-item\"><div class=\"sk-estimator fitted sk-toggleable\"><input class=\"sk-toggleable__control sk-hidden--visually\" id=\"sk-estimator-id-5\" type=\"checkbox\" ><label for=\"sk-estimator-id-5\" class=\"sk-toggleable__label fitted sk-toggleable__label-arrow\"><div><div>StandardScaler</div></div><div><a class=\"sk-estimator-doc-link fitted\" rel=\"noreferrer\" target=\"_blank\" href=\"https://scikit-learn.org/1.6/modules/generated/sklearn.preprocessing.StandardScaler.html\">?<span>Documentation for StandardScaler</span></a></div></label><div class=\"sk-toggleable__content fitted\"><pre>StandardScaler()</pre></div> </div></div></div></div></div></div></div><div class=\"sk-parallel-item\"><div class=\"sk-item\"><div class=\"sk-label-container\"><div class=\"sk-label fitted sk-toggleable\"><input class=\"sk-toggleable__control sk-hidden--visually\" id=\"sk-estimator-id-6\" type=\"checkbox\" ><label for=\"sk-estimator-id-6\" class=\"sk-toggleable__label fitted sk-toggleable__label-arrow\"><div><div>cat</div></div></label><div class=\"sk-toggleable__content fitted\"><pre>[]</pre></div> </div></div><div class=\"sk-serial\"><div class=\"sk-item\"><div class=\"sk-serial\"><div class=\"sk-item\"><div class=\"sk-estimator fitted sk-toggleable\"><input class=\"sk-toggleable__control sk-hidden--visually\" id=\"sk-estimator-id-7\" type=\"checkbox\" ><label for=\"sk-estimator-id-7\" class=\"sk-toggleable__label fitted sk-toggleable__label-arrow\"><div><div>SimpleImputer</div></div><div><a class=\"sk-estimator-doc-link fitted\" rel=\"noreferrer\" target=\"_blank\" href=\"https://scikit-learn.org/1.6/modules/generated/sklearn.impute.SimpleImputer.html\">?<span>Documentation for SimpleImputer</span></a></div></label><div class=\"sk-toggleable__content fitted\"><pre>SimpleImputer(fill_value=&#x27;missing&#x27;, strategy=&#x27;constant&#x27;)</pre></div> </div></div><div class=\"sk-item\"><div class=\"sk-estimator fitted sk-toggleable\"><input class=\"sk-toggleable__control sk-hidden--visually\" id=\"sk-estimator-id-8\" type=\"checkbox\" ><label for=\"sk-estimator-id-8\" class=\"sk-toggleable__label fitted sk-toggleable__label-arrow\"><div><div>OneHotEncoder</div></div><div><a class=\"sk-estimator-doc-link fitted\" rel=\"noreferrer\" target=\"_blank\" href=\"https://scikit-learn.org/1.6/modules/generated/sklearn.preprocessing.OneHotEncoder.html\">?<span>Documentation for OneHotEncoder</span></a></div></label><div class=\"sk-toggleable__content fitted\"><pre>OneHotEncoder(drop=&#x27;first&#x27;, sparse_output=False)</pre></div> </div></div></div></div></div></div></div><div class=\"sk-parallel-item\"><div class=\"sk-item\"><div class=\"sk-label-container\"><div class=\"sk-label fitted sk-toggleable\"><input class=\"sk-toggleable__control sk-hidden--visually\" id=\"sk-estimator-id-9\" type=\"checkbox\" ><label for=\"sk-estimator-id-9\" class=\"sk-toggleable__label fitted sk-toggleable__label-arrow\"><div><div>remainder</div></div></label><div class=\"sk-toggleable__content fitted\"><pre>[&#x27;category_124&#x27;, &#x27;category_146&#x27;, &#x27;category_17&#x27;, &#x27;category_18&#x27;, &#x27;category_2&#x27;, &#x27;category_212&#x27;, &#x27;category_213&#x27;, &#x27;category_218&#x27;, &#x27;category_244&#x27;, &#x27;category_249&#x27;, &#x27;category_258&#x27;, &#x27;category_260&#x27;, &#x27;category_27&#x27;, &#x27;category_275&#x27;, &#x27;category_28&#x27;, &#x27;category_29&#x27;, &#x27;category_290&#x27;, &#x27;category_31&#x27;, &#x27;category_324&#x27;, &#x27;category_326&#x27;, &#x27;category_343&#x27;, &#x27;category_344&#x27;, &#x27;category_4&#x27;, &#x27;category_415&#x27;, &#x27;category_420&#x27;, &#x27;category_421&#x27;, &#x27;category_422&#x27;, &#x27;category_425&#x27;, &#x27;category_431&#x27;, &#x27;category_432&#x27;, &#x27;category_436&#x27;, &#x27;category_441&#x27;, &#x27;category_445&#x27;, &#x27;category_49&#x27;, &#x27;category_505&#x27;, &#x27;category_548&#x27;, &#x27;category_5536&#x27;, &#x27;category_5562&#x27;, &#x27;category_5589&#x27;, &#x27;category_5630&#x27;, &#x27;category_5631&#x27;, &#x27;category_5633&#x27;, &#x27;category_5634&#x27;, &#x27;category_57&#x27;, &#x27;category_58&#x27;, &#x27;category_6058&#x27;, &#x27;category_6060&#x27;, &#x27;category_61&#x27;, &#x27;category_62&#x27;, &#x27;category_656&#x27;, &#x27;category_657&#x27;, &#x27;category_673&#x27;, &#x27;in_cluster_1&#x27;, &#x27;in_cluster_2&#x27;, &#x27;in_cluster_3&#x27;, &#x27;in_cluster_4&#x27;, &#x27;in_cluster_5&#x27;, &#x27;in_cluster_6&#x27;, &#x27;in_cluster_7&#x27;, &#x27;in_cluster_8&#x27;, &#x27;in_cluster_9&#x27;, &#x27;in_cluster_10&#x27;]</pre></div> </div></div><div class=\"sk-serial\"><div class=\"sk-item\"><div class=\"sk-estimator fitted sk-toggleable\"><input class=\"sk-toggleable__control sk-hidden--visually\" id=\"sk-estimator-id-10\" type=\"checkbox\" ><label for=\"sk-estimator-id-10\" class=\"sk-toggleable__label fitted sk-toggleable__label-arrow\"><div><div>passthrough</div></div></label><div class=\"sk-toggleable__content fitted\"><pre>passthrough</pre></div> </div></div></div></div></div></div></div><div class=\"sk-item\"><div class=\"sk-estimator fitted sk-toggleable\"><input class=\"sk-toggleable__control sk-hidden--visually\" id=\"sk-estimator-id-11\" type=\"checkbox\" ><label for=\"sk-estimator-id-11\" class=\"sk-toggleable__label fitted sk-toggleable__label-arrow\"><div><div>CatBoostClassifier</div></div></label><div class=\"sk-toggleable__content fitted\"><pre>&lt;catboost.core.CatBoostClassifier object at 0x000001604D8ED390&gt;</pre></div> </div></div></div></div></div></div>"
      ],
      "text/plain": [
       "Pipeline(steps=[('preprocessor',\n",
       "                 ColumnTransformer(remainder='passthrough',\n",
       "                                   transformers=[('num',\n",
       "                                                  Pipeline(steps=[('imputer',\n",
       "                                                                   SimpleImputer(strategy='median')),\n",
       "                                                                  ('scaler',\n",
       "                                                                   StandardScaler())]),\n",
       "                                                  ['purchase_amount',\n",
       "                                                   'total_quantity',\n",
       "                                                   'mean_price', 'total_spent',\n",
       "                                                   'unique_dates',\n",
       "                                                   'days_since_last_purchase',\n",
       "                                                   'customer_lifetime',\n",
       "                                                   'click_count',\n",
       "                                                   'purchase_count',\n",
       "                                                   'send_co...t',\n",
       "                                                   'hard_bounce_count',\n",
       "                                                   'unsubscribe_count',\n",
       "                                                   'complain_count',\n",
       "                                                   'subscribe_count',\n",
       "                                                   'email_count',\n",
       "                                                   'mobile_push_count']),\n",
       "                                                 ('cat',\n",
       "                                                  Pipeline(steps=[('imputer',\n",
       "                                                                   SimpleImputer(fill_value='missing',\n",
       "                                                                                 strategy='constant')),\n",
       "                                                                  ('onehot',\n",
       "                                                                   OneHotEncoder(drop='first',\n",
       "                                                                                 sparse_output=False))]),\n",
       "                                                  [])])),\n",
       "                ('classifier',\n",
       "                 <catboost.core.CatBoostClassifier object at 0x000001604D8ED390>)])"
      ]
     },
     "execution_count": 62,
     "metadata": {},
     "output_type": "execute_result"
    }
   ],
   "source": [
    "final_pipeline.fit(X_train, y_train)"
   ]
  },
  {
   "cell_type": "code",
   "execution_count": null,
   "metadata": {},
   "outputs": [],
   "source": [
    "###  Feature Importance"
   ]
  },
  {
   "cell_type": "code",
   "execution_count": 63,
   "metadata": {},
   "outputs": [
    {
     "data": {
      "image/png": "[encoded data removed]",
      "text/plain": [
       "<Figure size 1000x600 with 1 Axes>"
      ]
     },
     "metadata": {},
     "output_type": "display_data"
    }
   ],
   "source": [
    "# Получаем модель CatBoost из пайплайна\n",
    "catboost_model = final_pipeline.named_steps['classifier']\n",
    "\n",
    "# 1. Получение Feature Importance по умолчанию (PredictionValuesChange)\n",
    "feature_importance = catboost_model.get_feature_importance()\n",
    "feature_names = final_pipeline.named_steps['preprocessor'].get_feature_names_out()\n",
    "\n",
    "# Создаем DataFrame с важностью признаков\n",
    "importance_df = pd.DataFrame({\n",
    "    'Feature': feature_names,\n",
    "    'Importance': feature_importance\n",
    "})\n",
    "importance_df = importance_df.sort_values('Importance', ascending=False)\n",
    "\n",
    "# Визуализация\n",
    "plt.figure(figsize=(10, 6))\n",
    "sns.barplot(data=importance_df.head(20), x='Importance', y='Feature')\n",
    "plt.title('Top 20 Feature Importance')\n",
    "plt.xticks(rotation=45)\n",
    "plt.tight_layout()\n",
    "plt.show()"
   ]
  },
  {
   "cell_type": "markdown",
   "metadata": {},
   "source": [
    "# результат на трейне"
   ]
  },
  {
   "cell_type": "code",
   "execution_count": 64,
   "metadata": {},
   "outputs": [],
   "source": [
    "y_pred = final_pipeline.predict(X_train)\n",
    "y_proba = final_pipeline.predict_proba(X_train)\n",
    "y_proba_positive = final_pipeline.predict_proba(X_train)[:, 1]\n",
    "\n",
    "probs_df = pd.DataFrame({\n",
    "    'true_label': y_train,\n",
    "    'predicted_prob': y_proba_positive\n",
    "})\n",
    "\n",
    "\n",
    "\n",
    "\n",
    "# Установка порога (например, 0.7)\n",
    "#threshold = 0.1\n",
    "\n",
    "# Получение предсказаний с новым порогом\n",
    "#y_pred = (y_proba_positive >= threshold).astype(int)"
   ]
  },
  {
   "cell_type": "code",
   "execution_count": 65,
   "metadata": {},
   "outputs": [
    {
     "name": "stdout",
     "output_type": "stream",
     "text": [
      "AUC Score: 0.778\n",
      "\n",
      "Classification Report:\n",
      "              precision    recall  f1-score   support\n",
      "\n",
      "           0       0.98      1.00      0.99     29332\n",
      "           1       0.33      0.10      0.16       577\n",
      "\n",
      "    accuracy                           0.98     29909\n",
      "   macro avg       0.66      0.55      0.57     29909\n",
      "weighted avg       0.97      0.98      0.97     29909\n",
      "\n"
     ]
    },
    {
     "data": {
      "text/plain": [
       "<Figure size 1000x800 with 0 Axes>"
      ]
     },
     "metadata": {},
     "output_type": "display_data"
    },
    {
     "data": {
      "image/png": "[encoded data removed]",
      "text/plain": [
       "<Figure size 640x480 with 2 Axes>"
      ]
     },
     "metadata": {},
     "output_type": "display_data"
    },
    {
     "data": {
      "image/png": "[encoded data removed]",
      "text/plain": [
       "<Figure size 1000x800 with 1 Axes>"
      ]
     },
     "metadata": {},
     "output_type": "display_data"
    }
   ],
   "source": [
    "# Calculate metrics\n",
    "auc_score = roc_auc_score(y_train, y_proba_positive)\n",
    "conf_matrix = confusion_matrix(y_train, y_pred)\n",
    "\n",
    "# Print classification report and AUC\n",
    "print(f'AUC Score: {auc_score:.3f}\\n')\n",
    "print('Classification Report:')\n",
    "print(classification_report(y_train, y_pred))\n",
    "\n",
    "# Plot confusion matrix\n",
    "plt.figure(figsize=(10, 8))\n",
    "ConfusionMatrixDisplay(\n",
    "    confusion_matrix=conf_matrix,\n",
    "    display_labels=['Class 0', 'Class 1']\n",
    ").plot(cmap='Blues', values_format='d')\n",
    "plt.title('Confusion Matrix')\n",
    "plt.grid(False)\n",
    "\n",
    "# Plot ROC curve\n",
    "plt.figure(figsize=(10, 8))\n",
    "fpr, tpr, _ = roc_curve(y_train, y_proba_positive)\n",
    "plt.plot(fpr, tpr, label=f'ROC curve (AUC = {auc_score:.3f})')\n",
    "plt.plot([0, 1], [0, 1], 'k--', label='Random')\n",
    "plt.xlabel('False Positive Rate')\n",
    "plt.ylabel('True Positive Rate')\n",
    "plt.title('ROC Curve')\n",
    "plt.legend()\n",
    "plt.grid(True)\n",
    "plt.show()"
   ]
  },
  {
   "cell_type": "markdown",
   "metadata": {},
   "source": [
    "## результат на валидации"
   ]
  },
  {
   "cell_type": "code",
   "execution_count": 66,
   "metadata": {},
   "outputs": [],
   "source": [
    "y_pred = final_pipeline.predict(X_val)\n",
    "y_proba = final_pipeline.predict_proba(X_val)\n",
    "y_proba_positive = final_pipeline.predict_proba(X_val)[:, 1]"
   ]
  },
  {
   "cell_type": "code",
   "execution_count": 67,
   "metadata": {},
   "outputs": [
    {
     "name": "stdout",
     "output_type": "stream",
     "text": [
      "AUC Score: 0.770\n",
      "\n",
      "Classification Report:\n",
      "              precision    recall  f1-score   support\n",
      "\n",
      "           0       0.98      1.00      0.99      9778\n",
      "           1       0.23      0.06      0.10       192\n",
      "\n",
      "    accuracy                           0.98      9970\n",
      "   macro avg       0.60      0.53      0.54      9970\n",
      "weighted avg       0.97      0.98      0.97      9970\n",
      "\n"
     ]
    },
    {
     "data": {
      "text/plain": [
       "<Figure size 1000x800 with 0 Axes>"
      ]
     },
     "metadata": {},
     "output_type": "display_data"
    },
    {
     "data": {
      "image/png": "[encoded data removed]",
      "text/plain": [
       "<Figure size 640x480 with 2 Axes>"
      ]
     },
     "metadata": {},
     "output_type": "display_data"
    },
    {
     "data": {
      "image/png": "[encoded data removed]",
      "text/plain": [
       "<Figure size 1000x800 with 1 Axes>"
      ]
     },
     "metadata": {},
     "output_type": "display_data"
    }
   ],
   "source": [
    "# Calculate metrics\n",
    "auc_score = roc_auc_score(y_val, y_proba_positive)\n",
    "conf_matrix = confusion_matrix(y_val, y_pred)\n",
    "\n",
    "# Print classification report and AUC\n",
    "print(f'AUC Score: {auc_score:.3f}\\n')\n",
    "print('Classification Report:')\n",
    "print(classification_report(y_val, y_pred))\n",
    "\n",
    "# Plot confusion matrix\n",
    "plt.figure(figsize=(10, 8))\n",
    "ConfusionMatrixDisplay(\n",
    "    confusion_matrix=conf_matrix,\n",
    "    display_labels=['Class 0', 'Class 1']\n",
    ").plot(cmap='Blues', values_format='d')\n",
    "plt.title('Confusion Matrix')\n",
    "plt.grid(False)\n",
    "\n",
    "# Plot ROC curve\n",
    "plt.figure(figsize=(10, 8))\n",
    "fpr, tpr, _ = roc_curve(y_val, y_proba_positive)\n",
    "plt.plot(fpr, tpr, label=f'ROC curve (AUC = {auc_score:.3f})')\n",
    "plt.plot([0, 1], [0, 1], 'k--', label='Random')\n",
    "plt.xlabel('False Positive Rate')\n",
    "plt.ylabel('True Positive Rate')\n",
    "plt.title('ROC Curve')\n",
    "plt.legend()\n",
    "plt.grid(True)\n",
    "plt.show()"
   ]
  },
  {
   "cell_type": "markdown",
   "metadata": {},
   "source": [
    "# Результат на тестовой выборке"
   ]
  },
  {
   "cell_type": "code",
   "execution_count": 69,
   "metadata": {},
   "outputs": [],
   "source": [
    "y_pred = final_pipeline.predict(X_test)\n",
    "y_proba = final_pipeline.predict_proba(X_test)\n",
    "y_proba_positive = final_pipeline.predict_proba(X_test)[:, 1]"
   ]
  },
  {
   "cell_type": "code",
   "execution_count": 70,
   "metadata": {},
   "outputs": [
    {
     "name": "stdout",
     "output_type": "stream",
     "text": [
      "AUC Score: 0.760\n",
      "\n",
      "Classification Report:\n",
      "              precision    recall  f1-score   support\n",
      "\n",
      "           0       0.98      1.00      0.99      9778\n",
      "           1       0.18      0.04      0.07       192\n",
      "\n",
      "    accuracy                           0.98      9970\n",
      "   macro avg       0.58      0.52      0.53      9970\n",
      "weighted avg       0.97      0.98      0.97      9970\n",
      "\n"
     ]
    },
    {
     "data": {
      "text/plain": [
       "<Figure size 1000x800 with 0 Axes>"
      ]
     },
     "metadata": {},
     "output_type": "display_data"
    },
    {
     "data": {
      "image/png": "[encoded data removed]",
      "text/plain": [
       "<Figure size 640x480 with 2 Axes>"
      ]
     },
     "metadata": {},
     "output_type": "display_data"
    },
    {
     "data": {
      "image/png": "[encoded data removed]",
      "text/plain": [
       "<Figure size 1000x800 with 1 Axes>"
      ]
     },
     "metadata": {},
     "output_type": "display_data"
    }
   ],
   "source": [
    "# Calculate metrics\n",
    "auc_score = roc_auc_score(y_test, y_proba_positive)\n",
    "conf_matrix = confusion_matrix(y_test, y_pred)\n",
    "\n",
    "# Print classification report and AUC\n",
    "print(f'AUC Score: {auc_score:.3f}\\n')\n",
    "print('Classification Report:')\n",
    "print(classification_report(y_test, y_pred))\n",
    "\n",
    "# Plot confusion matrix\n",
    "plt.figure(figsize=(10, 8))\n",
    "ConfusionMatrixDisplay(\n",
    "    confusion_matrix=conf_matrix,\n",
    "    display_labels=['Class 0', 'Class 1']\n",
    ").plot(cmap='Blues', values_format='d')\n",
    "plt.title('Confusion Matrix')\n",
    "plt.grid(False)\n",
    "\n",
    "# Plot ROC curve\n",
    "plt.figure(figsize=(10, 8))\n",
    "fpr, tpr, _ = roc_curve(y_test, y_proba_positive)\n",
    "plt.plot(fpr, tpr, label=f'ROC curve (AUC = {auc_score:.3f})')\n",
    "plt.plot([0, 1], [0, 1], 'k--', label='Random')\n",
    "plt.xlabel('False Positive Rate')\n",
    "plt.ylabel('True Positive Rate')\n",
    "plt.title('ROC Curve')\n",
    "plt.legend()\n",
    "plt.grid(True)\n",
    "plt.show()"
   ]
  }
 ],
 "metadata": {
  "kernelspec": {
   "display_name": ".venv",
   "language": "python",
   "name": "python3"
  },
  "language_info": {
   "codemirror_mode": {
    "name": "ipython",
    "version": 3
   },
   "file_extension": ".py",
   "mimetype": "text/x-python",
   "name": "python",
   "nbconvert_exporter": "python",
   "pygments_lexer": "ipython3",
   "version": "3.11.3"
  }
 },
 "nbformat": 4,
 "nbformat_minor": 2
}
